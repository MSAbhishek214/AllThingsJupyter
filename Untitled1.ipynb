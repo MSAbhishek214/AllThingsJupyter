{
 "cells": [
  {
   "cell_type": "markdown",
   "metadata": {},
   "source": [
    "Business stand point:\n",
    "    To predict just how many units of xrays would we need to produce in a given time in the future (usually the upcoming few months) to make sure we are producing Just in Time and Just enough units."
   ]
  },
  {
   "cell_type": "markdown",
   "metadata": {},
   "source": [
    "Translating into AI problem and approach: Since the business only wants to predict the number of units they would need to produce in order to make enough production to meet the demand in the future we can use the Linear Regression problem based on the given data. But it might be better to go with time series problem."
   ]
  },
  {
   "cell_type": "code",
   "execution_count": null,
   "metadata": {},
   "outputs": [],
   "source": []
  }
 ],
 "metadata": {
  "kernelspec": {
   "display_name": "Python 3",
   "language": "python",
   "name": "python3"
  },
  "language_info": {
   "codemirror_mode": {
    "name": "ipython",
    "version": 3
   },
   "file_extension": ".py",
   "mimetype": "text/x-python",
   "name": "python",
   "nbconvert_exporter": "python",
   "pygments_lexer": "ipython3",
   "version": "3.8.3"
  }
 },
 "nbformat": 4,
 "nbformat_minor": 4
}
