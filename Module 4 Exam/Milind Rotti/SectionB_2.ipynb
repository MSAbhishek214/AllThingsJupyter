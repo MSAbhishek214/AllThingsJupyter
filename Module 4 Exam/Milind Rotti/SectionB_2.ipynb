{
 "cells": [
  {
   "cell_type": "code",
   "execution_count": 9,
   "metadata": {},
   "outputs": [],
   "source": [
    "import cv2\n",
    "vidcap = cv2.VideoCapture('/Users/milindrotti/Downloads/Video file.mp4')\n",
    "def getFrame(sec):\n",
    "    vidcap.set(cv2.CAP_PROP_POS_MSEC,sec*1000)\n",
    "    hasFrames,image = vidcap.read()\n",
    "    if hasFrames:\n",
    "        cv2.imwrite(\"image\"+str(count)+\".jpg\", image)    # save frame as JPG file\n",
    "    return hasFrames\n",
    "sec = 0\n",
    "frameRate = 0.5 #//it will capture image in each 0.5 second\n",
    "count=1\n",
    "success = getFrame(sec)\n",
    "while success:\n",
    "    count = count + 1\n",
    "    sec = sec + frameRate\n",
    "    sec = round(sec, 2)\n",
    "    success = getFrame(sec)"
   ]
  },
  {
   "cell_type": "code",
   "execution_count": 10,
   "metadata": {},
   "outputs": [],
   "source": [
    "#Import required image modules\n",
    "from PIL import Image, ImageFilter\n",
    "\n",
    "#Import all the enhancement filter from pillow\n",
    "\n",
    "from PIL.ImageFilter import (\n",
    "   BLUR, CONTOUR, DETAIL, EDGE_ENHANCE, EDGE_ENHANCE_MORE,\n",
    "   EMBOSS, FIND_EDGES, SMOOTH, SMOOTH_MORE, SHARPEN\n",
    ")\n",
    "\n",
    "#Create image object\n",
    "img = Image.open('image32.jpg')\n",
    "#Applying the blur filter\n",
    "img1 = img.filter(BLUR)\n",
    "img1.show()\n",
    "\n",
    "img1 = img.filter(CONTOUR)\n",
    "img1.show()\n",
    "\n",
    "img1 = img.filter(EDGE_ENHANCE)\n",
    "img1.show()\n",
    "\n",
    "img1 = img.filter(SHARPEN)\n",
    "img1.show()\n",
    "\n",
    "img1 = img.filter(SMOOTH_MORE)\n",
    "img1.show()"
   ]
  },
  {
   "cell_type": "code",
   "execution_count": null,
   "metadata": {},
   "outputs": [],
   "source": []
  },
  {
   "cell_type": "code",
   "execution_count": null,
   "metadata": {},
   "outputs": [],
   "source": []
  },
  {
   "cell_type": "code",
   "execution_count": null,
   "metadata": {},
   "outputs": [],
   "source": []
  }
 ],
 "metadata": {
  "kernelspec": {
   "display_name": "Python 3",
   "language": "python",
   "name": "python3"
  },
  "language_info": {
   "codemirror_mode": {
    "name": "ipython",
    "version": 3
   },
   "file_extension": ".py",
   "mimetype": "text/x-python",
   "name": "python",
   "nbconvert_exporter": "python",
   "pygments_lexer": "ipython3",
   "version": "3.8.3"
  }
 },
 "nbformat": 4,
 "nbformat_minor": 4
}
