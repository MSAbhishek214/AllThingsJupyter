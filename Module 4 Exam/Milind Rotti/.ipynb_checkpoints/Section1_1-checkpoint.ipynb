{
 "cells": [
  {
   "cell_type": "code",
   "execution_count": 2,
   "metadata": {},
   "outputs": [],
   "source": [
    "from textblob import TextBlob\n",
    "\n",
    "# compute sentiment scores (polarity) and labels\n",
    "blob = TextBlob('Architecturally the building is terrific you can feel the history of the place which just isn t there with purpose built chain hotels The Arena has the look and feel of a boutique hotel lushly decorated wrought iron work on staircases chandeliers the up lighting and high windows and ceilings gives a great sense of space Location is fab in the green space of Oosterpark but only a ten min walk to the City Halls The rooms are quirky with a small footprint THe ground level has a closet small sofa WC and shower fridge table and chair with the huge bed on a mezzanine level There s a tv on each level')"
   ]
  },
  {
   "cell_type": "code",
   "execution_count": 5,
   "metadata": {},
   "outputs": [
    {
     "data": {
      "text/plain": [
       "float"
      ]
     },
     "execution_count": 5,
     "metadata": {},
     "output_type": "execute_result"
    }
   ],
   "source": [
    "type(blob.sentiment.polarity)"
   ]
  },
  {
   "cell_type": "code",
   "execution_count": 4,
   "metadata": {},
   "outputs": [],
   "source": [
    "import pandas as pd"
   ]
  },
  {
   "cell_type": "code",
   "execution_count": 6,
   "metadata": {},
   "outputs": [],
   "source": [
    "dataset = pd.read_excel('/Users/abhishekrotti/Desktop/Python for DataScience/Module 4 Exam/Milind Rotti/Hotel_Reviews.xlsm', col)"
   ]
  },
  {
   "cell_type": "code",
   "execution_count": 9,
   "metadata": {},
   "outputs": [
    {
     "data": {
      "text/plain": [
       "0     I am so angry that i made this post available...\n",
       "1                                          No Negative\n",
       "2     Rooms are nice but for elderly a bit difficul...\n",
       "3     My room was dirty and I was afraid to walk ba...\n",
       "4     You When I booked with your company on line y...\n",
       "Name: Negative_Review, dtype: object"
      ]
     },
     "execution_count": 9,
     "metadata": {},
     "output_type": "execute_result"
    }
   ],
   "source": [
    "dataset.head()"
   ]
  },
  {
   "cell_type": "code",
   "execution_count": 8,
   "metadata": {},
   "outputs": [],
   "source": [
    "dataset = dataset['Negative_Review']"
   ]
  },
  {
   "cell_type": "code",
   "execution_count": null,
   "metadata": {},
   "outputs": [],
   "source": [
    "negative_count = 0\n",
    "for each in dataset:\n",
    "    blob = TextBlob(each)\n",
    "    if blob.sentiment.polarity > 0:\n",
    "        negative_count = negative_count + 1\n",
    "        \n",
    "print(negative_count)"
   ]
  },
  {
   "cell_type": "code",
   "execution_count": 21,
   "metadata": {},
   "outputs": [
    {
     "data": {
      "text/plain": [
       "pandas.core.series.Series"
      ]
     },
     "execution_count": 21,
     "metadata": {},
     "output_type": "execute_result"
    }
   ],
   "source": [
    "dataset = pd.read_excel('/Users/abhishekrotti/Desktop/Python for DataScience/Module 4 Exam/Milind Rotti/Hotel_Reviews.xlsm', col)"
   ]
  },
  {
   "cell_type": "code",
   "execution_count": null,
   "metadata": {},
   "outputs": [],
   "source": [
    "dataset.head()"
   ]
  },
  {
   "cell_type": "code",
   "execution_count": null,
   "metadata": {},
   "outputs": [],
   "source": [
    "dataset = dataset['Positive_Review']"
   ]
  },
  {
   "cell_type": "code",
   "execution_count": null,
   "metadata": {},
   "outputs": [],
   "source": [
    "positive_count = 0\n",
    "for each in dataset:\n",
    "    blob = TextBlob(each)\n",
    "    if blob.sentiment.polarity > 0:\n",
    "        positive_count = Positive_count + 1\n",
    "        \n",
    "print(positive_count)"
   ]
  }
 ],
 "metadata": {
  "kernelspec": {
   "display_name": "Python 3",
   "language": "python",
   "name": "python3"
  },
  "language_info": {
   "codemirror_mode": {
    "name": "ipython",
    "version": 3
   },
   "file_extension": ".py",
   "mimetype": "text/x-python",
   "name": "python",
   "nbconvert_exporter": "python",
   "pygments_lexer": "ipython3",
   "version": "3.8.3"
  }
 },
 "nbformat": 4,
 "nbformat_minor": 4
}
