{
 "cells": [
  {
   "cell_type": "code",
   "execution_count": 1,
   "metadata": {},
   "outputs": [
    {
     "name": "stdout",
     "output_type": "stream",
     "text": [
      "Converting audio transcripts into text ...\n",
      "summary the sides to break a teacher for the you keep adequate coverage the works of places to save money baby is taking longer to getting squared away then the bank was expected during the life events company in AVN heartattack se retirement income the British were inadequate news of the saving lives are heard it has done that you naked Bond what a discussion can insert when the title of this type of song is in question or waxing or gasing needed I prevent my be personalized number work lace leather and lace work on a flat surface and smooths out this post and a separate system uses a single sirf contained Unity op shop at store holds a good mechanical isliye bad bus figures with Gauhar in late summer curable chairs cabinets chest down house is a set\n"
     ]
    }
   ],
   "source": [
    "#import library\n",
    "import speech_recognition as sr\n",
    "\n",
    "# Initialize recognizer class (for recognizing the speech)\n",
    "r = sr.Recognizer()\n",
    "text = ''\n",
    "\n",
    "# Reading Audio file as source\n",
    "# listening the audio file and store in audio_text variable\n",
    "\n",
    "with sr.AudioFile('/Users/milindrotti/Downloads/Male- Audio file.wav') as source:\n",
    "    \n",
    "    audio_text = r.listen(source)\n",
    "    \n",
    "# recoginize_() method will throw a request error if the API is unreachable, hence using exception handling\n",
    "    try:\n",
    "        \n",
    "        # using google speech recognition\n",
    "        text = r.recognize_google(audio_text)\n",
    "        print('Converting audio transcripts into text ...')\n",
    "        print(text)\n",
    "     \n",
    "    except:\n",
    "         print('Sorry.. run again...')"
   ]
  },
  {
   "cell_type": "code",
   "execution_count": 6,
   "metadata": {},
   "outputs": [
    {
     "name": "stdout",
     "output_type": "stream",
     "text": [
      "Résumé Les côtés pour briser un enseignant pour la couverture adéquate Les œuvres d'endroits pour économiser de l'argent bébé jouent plus de temps à être carré, puis la banque a été attendue lors de la Société de la vie d'événements à Avn Heartattack SE Revenu de retraite Les Britanniques étaient insuffisantes nouvelles de Les vies sauver les vies sont entendues que vous avez fait que vous avez obligé à nue ce qu'une discussion peut insérer lorsque le titre de ce type de chanson est en question ou à la cire ou au gasage, j'empêche mon numéro de dentelle de travail personnalisé et de travail de dentelle sur une surface plane et lisse ce post et un système séparé utilise un seul SIRF contenue Unity OP Shop au magasin contient une bonne mécanique Isliye méchance de mauvais bus de bus avec Gauhar à la fin de l'été, des chaises à carreaux à carreaux à carreaux à carreaux de la poitrine est un ensemble\n"
     ]
    }
   ],
   "source": [
    "import goslate\n",
    "\n",
    "gs = goslate.Goslate()\n",
    "translatedText = gs.translate(text,'fr')\n",
    "\n",
    "with open('subtitle.txt', 'w') as fo:\n",
    "    fo.write(translatedText)\n",
    "\n",
    "print(translatedText)"
   ]
  },
  {
   "cell_type": "code",
   "execution_count": 4,
   "metadata": {},
   "outputs": [
    {
     "data": {
      "text/plain": [
       "str"
      ]
     },
     "execution_count": 4,
     "metadata": {},
     "output_type": "execute_result"
    }
   ],
   "source": [
    "type(translatedText)"
   ]
  },
  {
   "cell_type": "code",
   "execution_count": null,
   "metadata": {},
   "outputs": [],
   "source": []
  }
 ],
 "metadata": {
  "kernelspec": {
   "display_name": "Python 3",
   "language": "python",
   "name": "python3"
  },
  "language_info": {
   "codemirror_mode": {
    "name": "ipython",
    "version": 3
   },
   "file_extension": ".py",
   "mimetype": "text/x-python",
   "name": "python",
   "nbconvert_exporter": "python",
   "pygments_lexer": "ipython3",
   "version": "3.8.3"
  }
 },
 "nbformat": 4,
 "nbformat_minor": 4
}
