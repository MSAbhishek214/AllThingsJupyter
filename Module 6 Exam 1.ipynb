{
 "cells": [
  {
   "cell_type": "markdown",
   "metadata": {},
   "source": [
    "I'm gonna try to use decision tree algorithm with Bid won or lost as my target variable to help the sales team who are going on 1 on 1 pitching (Non tender) to do their homework as to what other parameters they need to take care of so that their chances of winning the tender in 1 on 1 pitches are higher are they bring profit to their manufacturing company"
   ]
  },
  {
   "cell_type": "code",
   "execution_count": 1,
   "metadata": {},
   "outputs": [],
   "source": [
    "import pandas as pd\n",
    "import numpy as np\n",
    "import matplotlib.pyplot as plt\n",
    "%matplotlib inline"
   ]
  },
  {
   "cell_type": "code",
   "execution_count": 4,
   "metadata": {},
   "outputs": [],
   "source": [
    "df=pd.read_excel('/Users/abhishekrotti/Desktop/Module 6 Exam/data.xlsx', sheet_name='Raw Data')"
   ]
  },
  {
   "cell_type": "code",
   "execution_count": 8,
   "metadata": {},
   "outputs": [],
   "source": [
    "#deleting unneccesary rows like ids and market amount as it doesnt give me any insight except for the how much\n",
    "#company is winning or loosing money.\n",
    "#del df['Deal Id']\n",
    "#del df['company id']\n",
    "del df['won / lost market EUR']"
   ]
  },
  {
   "cell_type": "code",
   "execution_count": 35,
   "metadata": {},
   "outputs": [],
   "source": [
    "df.replace('Lost', 0, inplace=True)"
   ]
  },
  {
   "cell_type": "code",
   "execution_count": 36,
   "metadata": {},
   "outputs": [
    {
     "data": {
      "text/html": [
       "<div>\n",
       "<style scoped>\n",
       "    .dataframe tbody tr th:only-of-type {\n",
       "        vertical-align: middle;\n",
       "    }\n",
       "\n",
       "    .dataframe tbody tr th {\n",
       "        vertical-align: top;\n",
       "    }\n",
       "\n",
       "    .dataframe thead th {\n",
       "        text-align: right;\n",
       "    }\n",
       "</style>\n",
       "<table border=\"1\" class=\"dataframe\">\n",
       "  <thead>\n",
       "    <tr style=\"text-align: right;\">\n",
       "      <th></th>\n",
       "      <th>End User Account Facility Size</th>\n",
       "      <th>End User Account Country</th>\n",
       "      <th>End User Acc. Coverage Type</th>\n",
       "      <th>End User Account Legal Structure</th>\n",
       "      <th>End User Acc. ISIC MED</th>\n",
       "      <th>Business Type</th>\n",
       "      <th>Fulfilled PM Milestone</th>\n",
       "      <th>Incumbent vendor</th>\n",
       "      <th>Opportunity Type</th>\n",
       "      <th>Oppty System Department</th>\n",
       "      <th>Reason</th>\n",
       "      <th>Sales type</th>\n",
       "      <th>System Diagram</th>\n",
       "      <th>Tender</th>\n",
       "      <th>System status</th>\n",
       "      <th>won / lost market EUR</th>\n",
       "    </tr>\n",
       "  </thead>\n",
       "  <tbody>\n",
       "    <tr>\n",
       "      <th>0</th>\n",
       "      <td>Large</td>\n",
       "      <td>Australia</td>\n",
       "      <td>Not assigned</td>\n",
       "      <td>Not assigned</td>\n",
       "      <td>LABORATORY DIAGNOSTICS</td>\n",
       "      <td>Own Business</td>\n",
       "      <td>PM010</td>\n",
       "      <td>#</td>\n",
       "      <td>Equipment</td>\n",
       "      <td>Not assigned</td>\n",
       "      <td>Other</td>\n",
       "      <td>Equip New - New System</td>\n",
       "      <td>Product 9</td>\n",
       "      <td>Non-Tender</td>\n",
       "      <td>0</td>\n",
       "      <td>67266.69</td>\n",
       "    </tr>\n",
       "    <tr>\n",
       "      <th>1</th>\n",
       "      <td>Not assigned</td>\n",
       "      <td>Australia</td>\n",
       "      <td>Not assigned</td>\n",
       "      <td>Not assigned</td>\n",
       "      <td>HOSPITAL ACTIVITIES</td>\n",
       "      <td>Own Business</td>\n",
       "      <td>PM010</td>\n",
       "      <td>#</td>\n",
       "      <td>Equipment</td>\n",
       "      <td>Not assigned</td>\n",
       "      <td>Other</td>\n",
       "      <td>Equip New - New System</td>\n",
       "      <td>Product 9</td>\n",
       "      <td>Non-Tender</td>\n",
       "      <td>0</td>\n",
       "      <td>67266.69</td>\n",
       "    </tr>\n",
       "    <tr>\n",
       "      <th>2</th>\n",
       "      <td>Not assigned</td>\n",
       "      <td>Australia</td>\n",
       "      <td>Not assigned</td>\n",
       "      <td>Not assigned</td>\n",
       "      <td>HOSPITAL ACTIVITIES</td>\n",
       "      <td>Own Business</td>\n",
       "      <td>PM010</td>\n",
       "      <td>#</td>\n",
       "      <td>Equipment</td>\n",
       "      <td>Not assigned</td>\n",
       "      <td>Other</td>\n",
       "      <td>Equip New - New System</td>\n",
       "      <td>Product 9</td>\n",
       "      <td>Non-Tender</td>\n",
       "      <td>0</td>\n",
       "      <td>672666.86</td>\n",
       "    </tr>\n",
       "    <tr>\n",
       "      <th>3</th>\n",
       "      <td>Large</td>\n",
       "      <td>Australia</td>\n",
       "      <td>Not assigned</td>\n",
       "      <td>Not assigned</td>\n",
       "      <td>HOSPITAL ACTIVITIES</td>\n",
       "      <td>Own Business</td>\n",
       "      <td>PM010</td>\n",
       "      <td>#</td>\n",
       "      <td>Equipment</td>\n",
       "      <td>Not assigned</td>\n",
       "      <td>Other</td>\n",
       "      <td>Equip New - New System</td>\n",
       "      <td>Product 9</td>\n",
       "      <td>Non-Tender</td>\n",
       "      <td>0</td>\n",
       "      <td>67266.69</td>\n",
       "    </tr>\n",
       "    <tr>\n",
       "      <th>4</th>\n",
       "      <td>Not assigned</td>\n",
       "      <td>Australia</td>\n",
       "      <td>Not assigned</td>\n",
       "      <td>Not assigned</td>\n",
       "      <td>#</td>\n",
       "      <td>Own Business</td>\n",
       "      <td>PM010</td>\n",
       "      <td>#</td>\n",
       "      <td>Equipment</td>\n",
       "      <td>Not assigned</td>\n",
       "      <td>Other</td>\n",
       "      <td>Equip New - New System</td>\n",
       "      <td>Product 9</td>\n",
       "      <td>Non-Tender</td>\n",
       "      <td>0</td>\n",
       "      <td>336333.43</td>\n",
       "    </tr>\n",
       "  </tbody>\n",
       "</table>\n",
       "</div>"
      ],
      "text/plain": [
       "  End User Account Facility Size End User Account Country  \\\n",
       "0                          Large                Australia   \n",
       "1                   Not assigned                Australia   \n",
       "2                   Not assigned                Australia   \n",
       "3                          Large                Australia   \n",
       "4                   Not assigned                Australia   \n",
       "\n",
       "  End User Acc. Coverage Type End User Account Legal Structure  \\\n",
       "0                Not assigned                     Not assigned   \n",
       "1                Not assigned                     Not assigned   \n",
       "2                Not assigned                     Not assigned   \n",
       "3                Not assigned                     Not assigned   \n",
       "4                Not assigned                     Not assigned   \n",
       "\n",
       "   End User Acc. ISIC MED Business Type Fulfilled PM Milestone  \\\n",
       "0  LABORATORY DIAGNOSTICS  Own Business                  PM010   \n",
       "1     HOSPITAL ACTIVITIES  Own Business                  PM010   \n",
       "2     HOSPITAL ACTIVITIES  Own Business                  PM010   \n",
       "3     HOSPITAL ACTIVITIES  Own Business                  PM010   \n",
       "4                       #  Own Business                  PM010   \n",
       "\n",
       "  Incumbent vendor Opportunity Type Oppty System Department Reason  \\\n",
       "0                #        Equipment            Not assigned  Other   \n",
       "1                #        Equipment            Not assigned  Other   \n",
       "2                #        Equipment            Not assigned  Other   \n",
       "3                #        Equipment            Not assigned  Other   \n",
       "4                #        Equipment            Not assigned  Other   \n",
       "\n",
       "               Sales type System Diagram      Tender  System status  \\\n",
       "0  Equip New - New System      Product 9  Non-Tender              0   \n",
       "1  Equip New - New System      Product 9  Non-Tender              0   \n",
       "2  Equip New - New System      Product 9  Non-Tender              0   \n",
       "3  Equip New - New System      Product 9  Non-Tender              0   \n",
       "4  Equip New - New System      Product 9  Non-Tender              0   \n",
       "\n",
       "   won / lost market EUR  \n",
       "0               67266.69  \n",
       "1               67266.69  \n",
       "2              672666.86  \n",
       "3               67266.69  \n",
       "4              336333.43  "
      ]
     },
     "execution_count": 36,
     "metadata": {},
     "output_type": "execute_result"
    }
   ],
   "source": [
    "df.head()"
   ]
  },
  {
   "cell_type": "code",
   "execution_count": 37,
   "metadata": {},
   "outputs": [
    {
     "name": "stdout",
     "output_type": "stream",
     "text": [
      "<class 'pandas.core.frame.DataFrame'>\n",
      "RangeIndex: 5077 entries, 0 to 5076\n",
      "Data columns (total 16 columns):\n",
      " #   Column                            Non-Null Count  Dtype  \n",
      "---  ------                            --------------  -----  \n",
      " 0   End User Account Facility Size    5077 non-null   object \n",
      " 1   End User Account Country          5077 non-null   object \n",
      " 2   End User Acc. Coverage Type       5077 non-null   object \n",
      " 3   End User Account Legal Structure  5077 non-null   object \n",
      " 4   End User Acc. ISIC MED            5077 non-null   object \n",
      " 5   Business Type                     5077 non-null   object \n",
      " 6   Fulfilled PM Milestone            5077 non-null   object \n",
      " 7   Incumbent vendor                  5077 non-null   object \n",
      " 8   Opportunity Type                  5077 non-null   object \n",
      " 9   Oppty System Department           5077 non-null   object \n",
      " 10  Reason                            5077 non-null   object \n",
      " 11  Sales type                        5077 non-null   object \n",
      " 12  System Diagram                    5077 non-null   object \n",
      " 13  Tender                            5077 non-null   object \n",
      " 14  System status                     5077 non-null   int64  \n",
      " 15  won / lost market EUR             5077 non-null   float64\n",
      "dtypes: float64(1), int64(1), object(14)\n",
      "memory usage: 634.8+ KB\n"
     ]
    }
   ],
   "source": [
    "df.info(verbose=True)"
   ]
  },
  {
   "cell_type": "code",
   "execution_count": 38,
   "metadata": {},
   "outputs": [
    {
     "data": {
      "text/plain": [
       "End User Account Facility Size      5077\n",
       "End User Account Country            5077\n",
       "End User Acc. Coverage Type         5077\n",
       "End User Account Legal Structure    5077\n",
       "End User Acc. ISIC MED              5077\n",
       "Business Type                       5077\n",
       "Fulfilled PM Milestone              5077\n",
       "Incumbent vendor                    5077\n",
       "Opportunity Type                    5077\n",
       "Oppty System Department             5077\n",
       "Reason                              5077\n",
       "Sales type                          5077\n",
       "System Diagram                      5077\n",
       "Tender                              5077\n",
       "System status                       5077\n",
       "won / lost market EUR               5077\n",
       "dtype: int64"
      ]
     },
     "execution_count": 38,
     "metadata": {},
     "output_type": "execute_result"
    }
   ],
   "source": [
    "df.count()"
   ]
  },
  {
   "cell_type": "code",
   "execution_count": 39,
   "metadata": {},
   "outputs": [],
   "source": [
    "from sklearn.model_selection import train_test_split"
   ]
  },
  {
   "cell_type": "code",
   "execution_count": 40,
   "metadata": {},
   "outputs": [],
   "source": [
    "from sklearn.tree import DecisionTreeClassifier"
   ]
  },
  {
   "cell_type": "code",
   "execution_count": 41,
   "metadata": {},
   "outputs": [],
   "source": [
    "df_new=pd.get_dummies(data=df)"
   ]
  },
  {
   "cell_type": "code",
   "execution_count": 42,
   "metadata": {},
   "outputs": [
    {
     "data": {
      "text/plain": [
       "Index(['System status', 'won / lost market EUR',\n",
       "       'End User Account Facility Size_Large',\n",
       "       'End User Account Facility Size_Medium',\n",
       "       'End User Account Facility Size_Not assigned',\n",
       "       'End User Account Facility Size_Small',\n",
       "       'End User Account Country_Australia',\n",
       "       'End User Account Country_Bangladesh',\n",
       "       'End User Account Country_Bhutan', 'End User Account Country_Brunei',\n",
       "       ...\n",
       "       'System Diagram_Product 3', 'System Diagram_Product 4',\n",
       "       'System Diagram_Product 5', 'System Diagram_Product 6',\n",
       "       'System Diagram_Product 7', 'System Diagram_Product 8',\n",
       "       'System Diagram_Product 9', 'Tender_Non-Tender',\n",
       "       'Tender_Private Tender', 'Tender_Public Tender'],\n",
       "      dtype='object', length=155)"
      ]
     },
     "execution_count": 42,
     "metadata": {},
     "output_type": "execute_result"
    }
   ],
   "source": [
    "df_new.columns"
   ]
  },
  {
   "cell_type": "code",
   "execution_count": 43,
   "metadata": {},
   "outputs": [],
   "source": [
    "X=df_new.iloc[:,df_new.columns != 'System status']"
   ]
  },
  {
   "cell_type": "code",
   "execution_count": 44,
   "metadata": {},
   "outputs": [],
   "source": [
    "y=df_new['System status']"
   ]
  },
  {
   "cell_type": "code",
   "execution_count": 45,
   "metadata": {},
   "outputs": [],
   "source": [
    "X_train,X_test,y_train,y_test=train_test_split(X,y,test_size=0.3,random_state=30)"
   ]
  },
  {
   "cell_type": "code",
   "execution_count": 55,
   "metadata": {},
   "outputs": [],
   "source": [
    "c=DecisionTreeClassifier(max_depth=20).fit(X_train,y_train)"
   ]
  },
  {
   "cell_type": "code",
   "execution_count": 56,
   "metadata": {},
   "outputs": [
    {
     "data": {
      "text/plain": [
       "1.0"
      ]
     },
     "execution_count": 56,
     "metadata": {},
     "output_type": "execute_result"
    }
   ],
   "source": [
    "c.score(X_train,y_train)"
   ]
  },
  {
   "cell_type": "code",
   "execution_count": 57,
   "metadata": {},
   "outputs": [
    {
     "data": {
      "text/plain": [
       "0.9862204724409449"
      ]
     },
     "execution_count": 57,
     "metadata": {},
     "output_type": "execute_result"
    }
   ],
   "source": [
    "c.score(X_test,y_test)"
   ]
  },
  {
   "cell_type": "code",
   "execution_count": 58,
   "metadata": {},
   "outputs": [],
   "source": [
    "from sklearn.metrics import classification_report"
   ]
  },
  {
   "cell_type": "code",
   "execution_count": 59,
   "metadata": {},
   "outputs": [],
   "source": [
    "y_preds = c.predict(X_test)"
   ]
  },
  {
   "cell_type": "code",
   "execution_count": 60,
   "metadata": {},
   "outputs": [
    {
     "name": "stdout",
     "output_type": "stream",
     "text": [
      "              precision    recall  f1-score   support\n",
      "\n",
      "           0       0.98      0.99      0.99       823\n",
      "           1       0.99      0.98      0.98       701\n",
      "\n",
      "    accuracy                           0.99      1524\n",
      "   macro avg       0.99      0.99      0.99      1524\n",
      "weighted avg       0.99      0.99      0.99      1524\n",
      "\n"
     ]
    }
   ],
   "source": [
    "print(classification_report(y_test,y_preds))"
   ]
  },
  {
   "cell_type": "code",
   "execution_count": 61,
   "metadata": {},
   "outputs": [],
   "source": [
    "from sklearn.metrics import roc_curve, auc"
   ]
  },
  {
   "cell_type": "code",
   "execution_count": 62,
   "metadata": {},
   "outputs": [
    {
     "data": {
      "text/plain": [
       "0.9857615314348709"
      ]
     },
     "execution_count": 62,
     "metadata": {},
     "output_type": "execute_result"
    }
   ],
   "source": [
    "false_positive_rate, true_positive_rate, thresholds = roc_curve(y_test, y_preds)\n",
    "\n",
    "\n",
    "roc_auc = auc(false_positive_rate, true_positive_rate)\n",
    "\n",
    "roc_auc"
   ]
  },
  {
   "cell_type": "markdown",
   "metadata": {},
   "source": [
    "AUC score is 98% LOL, i have definitely made a blunder somewhere but not able to figure out where."
   ]
  },
  {
   "cell_type": "code",
   "execution_count": 64,
   "metadata": {},
   "outputs": [
    {
     "data": {
      "image/png": "[encoded data removed]",
      "text/plain": [
       "<Figure size 432x288 with 1 Axes>"
      ]
     },
     "metadata": {
      "needs_background": "light"
     },
     "output_type": "display_data"
    }
   ],
   "source": [
    "max_depths = np.linspace(1, 20, 20, endpoint=True)\n",
    "train_results = []\n",
    "test_results = []\n",
    "for max_depth in max_depths:\n",
    "   c = DecisionTreeClassifier(max_depth=max_depth)\n",
    "   c.fit(X_train, y_train)\n",
    "   train_pred = c.predict(X_train)\n",
    "   false_positive_rate, true_positive_rate, thresholds = roc_curve(y_train, train_pred)\n",
    "   roc_auc = auc(false_positive_rate, true_positive_rate)\n",
    "   # Add auc score to previous train results\n",
    "   train_results.append(roc_auc)\n",
    "   y_preds =c.predict(X_test)\n",
    "   false_positive_rate, true_positive_rate, thresholds = roc_curve(y_test, y_preds)\n",
    "   roc_auc = auc(false_positive_rate, true_positive_rate)\n",
    "   # Add auc score to previous test results\n",
    "   test_results.append(roc_auc)\n",
    "    \n",
    "    \n",
    "from matplotlib.legend_handler import HandlerLine2D\n",
    "\n",
    "line1, = plt.plot(max_depths,train_results,'b',label=\"Train_AUC\")\n",
    "line2, = plt.plot(max_depths, test_results,'r', label=\"Test_AUC\")\n",
    "plt.legend(handler_map={line1: HandlerLine2D(numpoints=2)})\n",
    "plt.ylabel('AUC score')\n",
    "plt.xlabel('Tree depth')\n",
    "plt.show()"
   ]
  },
  {
   "cell_type": "markdown",
   "metadata": {},
   "source": [
    "'''\n",
    "Im gonna choose max depth as 15 as the curve is flattening after 15 and max depth there after\n",
    "is not having much impact\n",
    "'''"
   ]
  },
  {
   "cell_type": "code",
   "execution_count": 74,
   "metadata": {},
   "outputs": [
    {
     "data": {
      "image/png": "[encoded data removed]",
      "text/plain": [
       "<Figure size 432x288 with 1 Axes>"
      ]
     },
     "metadata": {
      "needs_background": "light"
     },
     "output_type": "display_data"
    }
   ],
   "source": [
    "min_samples_splits = np.linspace(0.1, 1.0, 10, endpoint=True)\n",
    "train_results = []\n",
    "test_results = []\n",
    "for min_samples_split in min_samples_splits:\n",
    "   c = DecisionTreeClassifier(min_samples_split=min_samples_split)\n",
    "   c.fit(X_train, y_train)\n",
    "   train_pred = c.predict(X_train)\n",
    "   false_positive_rate, true_positive_rate, thresholds =    roc_curve(y_train, train_pred)\n",
    "   roc_auc = auc(false_positive_rate, true_positive_rate)\n",
    "   train_results.append(roc_auc)\n",
    "   y_preds = c.predict(X_test)\n",
    "   false_positive_rate, true_positive_rate, thresholds = roc_curve(y_test, y_preds)\n",
    "   roc_auc = auc(false_positive_rate, true_positive_rate)\n",
    "   test_results.append(roc_auc)\n",
    "    \n",
    "    \n",
    "from matplotlib.legend_handler import HandlerLine2D\n",
    "line1, = plt.plot(min_samples_splits, train_results, 'b', label=\"Train AUC\")\n",
    "line2, = plt.plot(min_samples_splits, test_results, 'r', label=\"Test AUC\")\n",
    "plt.legend(handler_map={line1: HandlerLine2D(numpoints=2)})\n",
    "plt.ylabel('AUC score')\n",
    "plt.xlabel('min samples split')\n",
    "plt.show()"
   ]
  },
  {
   "cell_type": "code",
   "execution_count": 73,
   "metadata": {},
   "outputs": [
    {
     "name": "stdout",
     "output_type": "stream",
     "text": [
      "1.0\n",
      "0.9868766404199475\n"
     ]
    }
   ],
   "source": [
    "c=DecisionTreeClassifier(max_depth=15).fit(X_train,y_train)\n",
    "print(c.score(X_train,y_train))\n",
    "print(c.score(X_test,y_test))"
   ]
  },
  {
   "cell_type": "markdown",
   "metadata": {},
   "source": [
    "1. Test accuracy more or less closer to train accuracy.\n",
    "2. Im not sure why the train accuracy is 1.0 which is outright wrong. It might possible that the System status is Won and Loss equally or maybe close to equal.\n",
    "3. We can build a UI model for the company, like a dashboard, where they input their variables and check if that would lead them to either make or break the deal.\n",
    "4. Based on the model prediction maybe the sales persons now know which areas to target in order to have highest chance of the deal being successful.\n",
    "5. I have not shown any EDA through code here as i manually analyzed the data in excel sheet with filters to check whats the percentage of impact on Lost and Won category by other variables.\n",
    "6. I have explained my analysis and the area i wanted to target to help this company out with sales in the PPT attached"
   ]
  },
  {
   "cell_type": "code",
   "execution_count": null,
   "metadata": {},
   "outputs": [],
   "source": []
  }
 ],
 "metadata": {
  "kernelspec": {
   "display_name": "Python 3",
   "language": "python",
   "name": "python3"
  },
  "language_info": {
   "codemirror_mode": {
    "name": "ipython",
    "version": 3
   },
   "file_extension": ".py",
   "mimetype": "text/x-python",
   "name": "python",
   "nbconvert_exporter": "python",
   "pygments_lexer": "ipython3",
   "version": "3.8.3"
  }
 },
 "nbformat": 4,
 "nbformat_minor": 4
}
