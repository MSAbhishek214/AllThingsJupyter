{
 "cells": [
  {
   "cell_type": "markdown",
   "metadata": {},
   "source": [
    "# Exploring and processing text data "
   ]
  },
  {
   "cell_type": "raw",
   "metadata": {},
   "source": [
    "2-1. Converting Text Data to Lowercase"
   ]
  },
  {
   "cell_type": "code",
   "execution_count": 1,
   "metadata": {},
   "outputs": [
    {
     "name": "stdout",
     "output_type": "stream",
     "text": [
      "                                               tweet\n",
      "0                        This is introduction to NLP\n",
      "1              It is likely to be useful, to people \n",
      "2             Machine learning is the new electrcity\n",
      "3  There would be less hype around AI and more ac...\n",
      "4                           python is the best tool!\n",
      "5                                R is good langauage\n",
      "6                                   I like this book\n",
      "7                        I want more books like this\n",
      "testing\n"
     ]
    },
    {
     "data": {
      "text/plain": [
       "0                          this is introduction to nlp\n",
       "1                 it is likely to be useful, to people\n",
       "2               machine learning is the new electrcity\n",
       "3    there would be less hype around ai and more ac...\n",
       "4                             python is the best tool!\n",
       "5                                  r is good langauage\n",
       "6                                     i like this book\n",
       "7                          i want more books like this\n",
       "Name: tweet, dtype: object"
      ]
     },
     "execution_count": 1,
     "metadata": {},
     "output_type": "execute_result"
    }
   ],
   "source": [
    "text=['This is introduction to NLP','It is likely to be useful, to people ','Machine learning is the new electrcity','There would be less hype around AI and more action going forward','python is the best tool!','R is good langauage','I like this book','I want more books like this']\n",
    "\n",
    "#convert list to data frame\n",
    "import pandas as pd\n",
    "df = pd.DataFrame({'tweet':text})\n",
    "print(df)\n",
    "\n",
    "x = 'Testing'\n",
    "x2 = x.lower()\n",
    "print(x2)\n",
    "\n",
    "\n",
    "df['tweet'] = df['tweet'].apply(lambda x: \" \".join(x.lower() for x in x.split()))\n",
    "df['tweet']\n"
   ]
  },
  {
   "cell_type": "raw",
   "metadata": {},
   "source": [
    "2-2. Removing Punctuation"
   ]
  },
  {
   "cell_type": "code",
   "execution_count": 2,
   "metadata": {},
   "outputs": [
    {
     "name": "stdout",
     "output_type": "stream",
     "text": [
      "                                               tweet\n",
      "0                        This is introduction to NLP\n",
      "1              It is likely to be useful, to people \n",
      "2             Machine learning is the new electrcity\n",
      "3  There would be less hype around AI and more ac...\n",
      "4                           python is the best tool!\n",
      "5                                R is good langauage\n",
      "6                                   I like this book\n",
      "7                        I want more books like this\n",
      "                                               tweet\n",
      "0                        This is introduction to NLP\n",
      "1               It is likely to be useful to people \n",
      "2             Machine learning is the new electrcity\n",
      "3  There would be less hype around AI and more ac...\n",
      "4                            python is the best tool\n",
      "5                                R is good langauage\n",
      "6                                   I like this book\n",
      "7                        I want more books like this\n"
     ]
    },
    {
     "data": {
      "text/plain": [
       "'I like This book'"
      ]
     },
     "execution_count": 2,
     "metadata": {},
     "output_type": "execute_result"
    }
   ],
   "source": [
    "text=['This is introduction to NLP','It is likely to be useful, to people ','Machine learning is the new electrcity','There would be less hype around AI and more action going forward','python is the best tool!','R is good langauage','I like this book','I want more books like this']\n",
    "#convert list to dataframe\n",
    "import pandas as pd\n",
    "df = pd.DataFrame({'tweet':text})\n",
    "print(df)\n",
    "\n",
    "import re\n",
    "\n",
    "s = \"I. like. This book!\"\n",
    "s1 = re.sub(r'[^\\w\\s]','',s)\n",
    "s1\n",
    "\n",
    "df['tweet'] = df['tweet'].str.replace('[^\\w\\s]','')\n",
    "df['tweet']\n",
    "print(df)\n",
    "\n",
    "import string\n",
    "\n",
    "s = \"I. like. This book!\"\n",
    "\n",
    "for c in string.punctuation:\n",
    "    s = s.replace(c,\"\")\n",
    "s\n"
   ]
  },
  {
   "cell_type": "raw",
   "metadata": {},
   "source": [
    "2-3. Removing Stopwords"
   ]
  },
  {
   "cell_type": "markdown",
   "metadata": {},
   "source": [
    "“Stop words” are the most common words in a language like “the”, “a”, “at”, “for”, “above”, “on”, “is”, “all”. These words do not provide any meaning and are usually removed from texts. We can remove these stop words using nltk library"
   ]
  },
  {
   "cell_type": "code",
   "execution_count": null,
   "metadata": {
    "collapsed": true
   },
   "outputs": [],
   "source": [
    "text=['This is introduction to NLP','It is likely to be useful, to people ','Machine learning is the new electrcity','There would be less hype around AI and more action going forward','python is the best tool!','R is good langauage','I like this book','I want more books like this']\n",
    "\n",
    "#convert list to data frame\n",
    "import pandas as pd\n",
    "df = pd.DataFrame({'tweet':text})\n",
    "print(df)\n",
    "\n",
    "\n",
    "#install and import libraries\n",
    "\n",
    "!pip install nltk\n",
    "import nltk\n",
    "nltk.download()\n",
    "from nltk.corpus import stopwords\n",
    "\n",
    "#remove stop words\n",
    "\n",
    "stop = stopwords.words('english')\n",
    "df['tweet'] = df['tweet'].apply(lambda x: \" \".join(x for x in x.split() if x not in stop))\n",
    "df['tweet']\n"
   ]
  },
  {
   "cell_type": "raw",
   "metadata": {},
   "source": [
    "2-4. Standardizing Text"
   ]
  },
  {
   "cell_type": "code",
   "execution_count": 3,
   "metadata": {},
   "outputs": [
    {
     "data": {
      "text/plain": [
       "'your natural language processing'"
      ]
     },
     "execution_count": 3,
     "metadata": {},
     "output_type": "execute_result"
    }
   ],
   "source": [
    "lookup_dict = {'nlp':'natural language processing', 'ur':'your', \"wbu\" : \"what about you\"}\n",
    "\n",
    "import re\n",
    "\n",
    "def text_std(input_text):\n",
    " words = input_text.split()\n",
    " new_words = []\n",
    " for word in words:\n",
    "     word = re.sub(r'[^\\w\\s]','',word)\n",
    "     if word.lower() in lookup_dict:\n",
    "         word = lookup_dict[word.lower()]\n",
    "         new_words.append(word)\n",
    "         new_text = \" \".join(new_words)\n",
    " return new_text\n",
    "\n",
    "text_std(\"ur nlp\")"
   ]
  },
  {
   "cell_type": "raw",
   "metadata": {},
   "source": [
    "2-5. Correcting Spelling"
   ]
  },
  {
   "cell_type": "code",
   "execution_count": 4,
   "metadata": {},
   "outputs": [
    {
     "name": "stdout",
     "output_type": "stream",
     "text": [
      "                                    tweet\n",
      "0                     Introduction to NLP\n",
      "1   It is likely to be useful, to people \n",
      "2  Machine learning is the new electrcity\n",
      "3                     R is good langauage\n",
      "4                        I like this book\n",
      "5             I want more books like this\n",
      "Requirement already satisfied: textblob in /Users/akskulka/anaconda3/lib/python3.7/site-packages (0.15.3)\n",
      "Requirement already satisfied: nltk>=3.1 in /Users/akskulka/anaconda3/lib/python3.7/site-packages (from textblob) (3.4)\n",
      "Requirement already satisfied: six in /Users/akskulka/anaconda3/lib/python3.7/site-packages (from nltk>=3.1->textblob) (1.12.0)\n",
      "Requirement already satisfied: singledispatch in /Users/akskulka/anaconda3/lib/python3.7/site-packages (from nltk>=3.1->textblob) (3.4.0.3)\n",
      "0                        Introduction to NLP\n",
      "1      It is likely to be useful, to people \n",
      "2    Machine learning is the new electricity\n",
      "3                         R is good language\n",
      "4                           I like this book\n",
      "5                I want more books like this\n",
      "Name: tweet, dtype: object\n"
     ]
    }
   ],
   "source": [
    "text=['Introduction to NLP','It is likely to be useful, to people ','Machine learning is the new electrcity','R is good langauage','I like this book','I want more books like this']\n",
    "\n",
    "\n",
    "#convert list to dataframe\n",
    "import pandas as pd\n",
    "df = pd.DataFrame({'tweet':text})\n",
    "print(df)\n",
    "\n",
    "#Install textblob library\n",
    "!pip install textblob\n",
    "\n",
    "#import libraries and use 'correct' function \n",
    "\n",
    "from textblob import TextBlob\n",
    "\n",
    "df = df['tweet'].apply(lambda x: str(TextBlob(x).correct()))\n",
    "print(df)\n",
    "\n"
   ]
  },
  {
   "cell_type": "code",
   "execution_count": 5,
   "metadata": {},
   "outputs": [
    {
     "name": "stdout",
     "output_type": "stream",
     "text": [
      "Requirement already satisfied: autocorrect in /Users/akskulka/anaconda3/lib/python3.7/site-packages (2.3.0)\n",
      "autocorrect.spell is deprecated,             use autocorrect.Speller instead\n",
      "message\n",
      "autocorrect.spell is deprecated,             use autocorrect.Speller instead\n",
      "service\n"
     ]
    }
   ],
   "source": [
    "#You can also use autocorrect library as shown below\n",
    "\n",
    "#install autocorrect\n",
    "\n",
    "!pip install autocorrect\n",
    "\n",
    "from autocorrect import spell\n",
    "print(spell(u'mussage'))\n",
    "print(spell(u'sirvice'))\n"
   ]
  },
  {
   "cell_type": "raw",
   "metadata": {},
   "source": [
    "Discuss on drawbacks of spell corrector"
   ]
  },
  {
   "cell_type": "code",
   "execution_count": null,
   "metadata": {},
   "outputs": [],
   "source": []
  },
  {
   "cell_type": "raw",
   "metadata": {},
   "source": [
    "2-6. Tokenizing Text:\n",
    "Tokenization\n",
    "Tokenization refers to dividing the text into a sequence of words or sentences."
   ]
  },
  {
   "cell_type": "code",
   "execution_count": 38,
   "metadata": {},
   "outputs": [
    {
     "name": "stdout",
     "output_type": "stream",
     "text": [
      "                                               tweet\n",
      "0                        This is introduction to NLP\n",
      "1              It is likely to be useful, to people \n",
      "2             Machine learning is the new electrcity\n",
      "3  There would be less hype around AI and more ac...\n",
      "4                           python is the best tool!\n",
      "5                                R is good langauage\n",
      "6                                   I like this book\n",
      "7                        I want more books like this\n"
     ]
    }
   ],
   "source": [
    "#Let's create a list of strings and assign it to a variable. \n",
    "text=['This is introduction to NLP','It is likely to be useful, to people ','Machine learning is the new electrcity','There would be less hype around AI and more action going forward','python is the best tool!','R is good langauage','I like this book','I want more books like this']\n",
    "\n",
    "#convert list to dataframe\n",
    "import pandas as pd\n",
    "df = pd.DataFrame({'tweet':text})\n",
    "print(df)"
   ]
  },
  {
   "cell_type": "code",
   "execution_count": 39,
   "metadata": {},
   "outputs": [
    {
     "data": {
      "text/html": [
       "<div>\n",
       "<style scoped>\n",
       "    .dataframe tbody tr th:only-of-type {\n",
       "        vertical-align: middle;\n",
       "    }\n",
       "\n",
       "    .dataframe tbody tr th {\n",
       "        vertical-align: top;\n",
       "    }\n",
       "\n",
       "    .dataframe thead th {\n",
       "        text-align: right;\n",
       "    }\n",
       "</style>\n",
       "<table border=\"1\" class=\"dataframe\">\n",
       "  <thead>\n",
       "    <tr style=\"text-align: right;\">\n",
       "      <th></th>\n",
       "      <th>tweet_token</th>\n",
       "    </tr>\n",
       "  </thead>\n",
       "  <tbody>\n",
       "    <tr>\n",
       "      <th>0</th>\n",
       "      <td>[this, is, introduction, to, nlp]</td>\n",
       "    </tr>\n",
       "    <tr>\n",
       "      <th>1</th>\n",
       "      <td>[it, is, likely, to, be, useful, to, people, ]</td>\n",
       "    </tr>\n",
       "    <tr>\n",
       "      <th>2</th>\n",
       "      <td>[machine, learning, is, the, new, electrcity]</td>\n",
       "    </tr>\n",
       "    <tr>\n",
       "      <th>3</th>\n",
       "      <td>[there, would, be, less, hype, around, ai, and...</td>\n",
       "    </tr>\n",
       "    <tr>\n",
       "      <th>4</th>\n",
       "      <td>[python, is, the, best, tool, ]</td>\n",
       "    </tr>\n",
       "  </tbody>\n",
       "</table>\n",
       "</div>"
      ],
      "text/plain": [
       "                                         tweet_token\n",
       "0                  [this, is, introduction, to, nlp]\n",
       "1     [it, is, likely, to, be, useful, to, people, ]\n",
       "2      [machine, learning, is, the, new, electrcity]\n",
       "3  [there, would, be, less, hype, around, ai, and...\n",
       "4                    [python, is, the, best, tool, ]"
      ]
     },
     "execution_count": 39,
     "metadata": {},
     "output_type": "execute_result"
    }
   ],
   "source": [
    "\n",
    "#Creating function for tokenization\n",
    "def tokenization(text):\n",
    "    text = re.split('\\W+', text)\n",
    "    return text\n",
    "# Passing the function to 'text_rare' and store into'text_token'\n",
    "df['tweet_token'] = df['tweet'].apply(lambda x: tokenization(x.lower()))\n",
    "df[['tweet_token']].head()"
   ]
  },
  {
   "cell_type": "code",
   "execution_count": 40,
   "metadata": {},
   "outputs": [
    {
     "name": "stdout",
     "output_type": "stream",
     "text": [
      "                                               tweet\n",
      "0                        This is introduction to NLP\n",
      "1              It is likely to be useful, to people \n",
      "2             Machine learning is the new electrcity\n",
      "3  There would be less hype around AI and more ac...\n",
      "4                           python is the best tool!\n",
      "5                                R is good langauage\n",
      "6                                   I like this book\n",
      "7                        I want more books like this\n"
     ]
    },
    {
     "data": {
      "text/plain": [
       "WordList(['There', 'would', 'be', 'less', 'hype', 'around', 'AI', 'and', 'more', 'action', 'going', 'forward'])"
      ]
     },
     "execution_count": 40,
     "metadata": {},
     "output_type": "execute_result"
    }
   ],
   "source": [
    "#Let's create a list of strings and assign it to a variable. \n",
    "text=['This is introduction to NLP','It is likely to be useful, to people ','Machine learning is the new electrcity','There would be less hype around AI and more action going forward','python is the best tool!','R is good langauage','I like this book','I want more books like this']\n",
    "\n",
    "#convert list to dataframe\n",
    "import pandas as pd\n",
    "df = pd.DataFrame({'tweet':text})\n",
    "print(df)\n",
    "\n",
    "#Using textblob\n",
    "from textblob import TextBlob\n",
    "TextBlob(df['tweet'][3]).words\n",
    "\n",
    "\n",
    "\n"
   ]
  },
  {
   "cell_type": "markdown",
   "metadata": {},
   "source": [
    "NLTK contains a module called tokenize() which further classifies into two sub-categories:\n",
    "\n",
    "Word tokenize: We use the word_tokenize() method to split a sentence into tokens or words\n",
    "Sentence tokenize: We use the sent_tokenize() method to split a document or paragraph into sentences"
   ]
  },
  {
   "cell_type": "code",
   "execution_count": 41,
   "metadata": {},
   "outputs": [
    {
     "data": {
      "text/plain": [
       "['My', 'favorite', 'animal', 'is', 'cat']"
      ]
     },
     "execution_count": 41,
     "metadata": {},
     "output_type": "execute_result"
    }
   ],
   "source": [
    "#using NLTK\n",
    "import nltk\n",
    "\n",
    "#create data\n",
    "mystring = \"My favorite animal is cat\"\n",
    "\n",
    "nltk.word_tokenize(mystring)\n",
    "\n",
    "\n",
    "#using split function from python\n",
    "mystring.split()"
   ]
  },
  {
   "cell_type": "markdown",
   "metadata": {},
   "source": [
    "other reference: https://www.analyticsvidhya.com/blog/2019/07/how-get-started-nlp-6-unique-ways-perform-tokenization/"
   ]
  },
  {
   "cell_type": "code",
   "execution_count": null,
   "metadata": {},
   "outputs": [],
   "source": []
  },
  {
   "cell_type": "raw",
   "metadata": {},
   "source": [
    "2-7. Stemming"
   ]
  },
  {
   "cell_type": "markdown",
   "metadata": {},
   "source": [
    "Stemming usually refers to normalizing words into its base form or root form.\n",
    "\n",
    "Here, we have words waited, waiting and waits. Here the root word is ‘wait’. There are two methods in Stemming namely, Porter Stemming (removes common morphological and inflectional endings from words) and Lancaster Stemming (a more aggressive stemming algorithm)."
   ]
  },
  {
   "cell_type": "code",
   "execution_count": 8,
   "metadata": {},
   "outputs": [
    {
     "data": {
      "text/plain": [
       "'wait'"
      ]
     },
     "execution_count": 8,
     "metadata": {},
     "output_type": "execute_result"
    }
   ],
   "source": [
    "# Importing Porterstemmer from nltk library\n",
    "# Checking for the word ‘giving’ \n",
    "from nltk.stem import PorterStemmer\n",
    "pst = PorterStemmer()\n",
    "pst.stem(\"waiting\")"
   ]
  },
  {
   "cell_type": "code",
   "execution_count": 9,
   "metadata": {},
   "outputs": [
    {
     "name": "stdout",
     "output_type": "stream",
     "text": [
      "                                    tweet\n",
      "0                             they waited\n",
      "1                                  I wait\n",
      "2  There are many people waiting in pound\n"
     ]
    },
    {
     "data": {
      "text/plain": [
       "0                             they wait\n",
       "1                                I wait\n",
       "2    there are mani peopl wait in pound\n",
       "Name: tweet, dtype: object"
      ]
     },
     "execution_count": 9,
     "metadata": {},
     "output_type": "execute_result"
    }
   ],
   "source": [
    "text=['they waited','I wait','There are many people waiting in pound']\n",
    "\n",
    "#convert list to dataframe\n",
    "import pandas as pd\n",
    "df = pd.DataFrame({'tweet':text})\n",
    "print(df)\n",
    "\n",
    "#Import library\n",
    "from nltk.stem import PorterStemmer\n",
    "\n",
    "st = PorterStemmer()\n",
    "\n",
    "df['tweet'][:5].apply(lambda x: \" \".join([st.stem(word) for word in x.split()]))\n"
   ]
  },
  {
   "cell_type": "code",
   "execution_count": 10,
   "metadata": {},
   "outputs": [],
   "source": [
    "#LancasterStemmer"
   ]
  },
  {
   "cell_type": "code",
   "execution_count": 47,
   "metadata": {},
   "outputs": [
    {
     "name": "stdout",
     "output_type": "stream",
     "text": [
      "giving:giv\n",
      "given:giv\n",
      "give:giv\n",
      "gave:gav\n"
     ]
    }
   ],
   "source": [
    "# Importing LancasterStemmer from nltk\n",
    "from nltk.stem import LancasterStemmer\n",
    "lst = LancasterStemmer()\n",
    "stm = [\"giving\", \"given\", \"give\", \"gave\"]\n",
    "for word in stm :\n",
    " print(word+ \":\" +lst.stem(word))"
   ]
  },
  {
   "cell_type": "code",
   "execution_count": null,
   "metadata": {},
   "outputs": [],
   "source": []
  },
  {
   "cell_type": "raw",
   "metadata": {},
   "source": [
    "2-8. Lemmatizing"
   ]
  },
  {
   "cell_type": "markdown",
   "metadata": {},
   "source": [
    "In simpler terms, it is the process of converting a word to its base form. The difference between stemming and lemmatization is, lemmatization considers the context and converts the word to its meaningful base form, whereas stemming just removes the last few characters, often leading to incorrect meanings and spelling errors.\n",
    "For example, lemmatization would correctly identify the base form of ‘caring’ to ‘care’, whereas, stemming would cutoff the ‘ing’ part and convert it to car.\n",
    "Lemmatization can be implemented in python by using Wordnet Lemmatizer, Spacy Lemmatizer, TextBlob, Stanford CoreNLP"
   ]
  },
  {
   "cell_type": "code",
   "execution_count": 12,
   "metadata": {},
   "outputs": [
    {
     "name": "stdout",
     "output_type": "stream",
     "text": [
      "bad\n"
     ]
    }
   ],
   "source": [
    "from nltk.stem import WordNetLemmatizer\n",
    "\n",
    "lemmatizer = WordNetLemmatizer()\n",
    "\n",
    "print(lemmatizer.lemmatize(\"worse\", pos=\"a\"))"
   ]
  },
  {
   "cell_type": "code",
   "execution_count": 13,
   "metadata": {},
   "outputs": [
    {
     "name": "stdout",
     "output_type": "stream",
     "text": [
      "rocks : rock\n",
      "corpora : corpus\n"
     ]
    }
   ],
   "source": [
    "# Importing Lemmatizer library from nltk\n",
    "from nltk.stem import WordNetLemmatizer\n",
    "lemmatizer = WordNetLemmatizer() \n",
    " \n",
    "print(\"rocks :\", lemmatizer.lemmatize(\"rocks\")) \n",
    "print(\"corpora :\", lemmatizer.lemmatize(\"corpora\"))"
   ]
  },
  {
   "cell_type": "code",
   "execution_count": 14,
   "metadata": {},
   "outputs": [
    {
     "name": "stdout",
     "output_type": "stream",
     "text": [
      "rocks : rock\n",
      "corpora : corpus\n",
      "better : good\n"
     ]
    }
   ],
   "source": [
    "from textblob import Word \n",
    "  \n",
    "# create a Word object. \n",
    "u = Word(\"rocks\") \n",
    "  \n",
    "# apply lemmatization. \n",
    "print(\"rocks :\", u.lemmatize()) \n",
    "  \n",
    "# create a Word object. \n",
    "v = Word(\"corpora\") \n",
    "  \n",
    "# apply lemmatization. \n",
    "print(\"corpora :\", v.lemmatize()) \n",
    "  \n",
    "# create a Word object. \n",
    "w = Word(\"better\") \n",
    "   \n",
    "# apply lemmatization with  \n",
    "# parameter \"a\", \"a\" denotes adjective. \n",
    "print(\"better :\", w.lemmatize(\"a\"))"
   ]
  },
  {
   "cell_type": "code",
   "execution_count": 15,
   "metadata": {},
   "outputs": [
    {
     "name": "stdout",
     "output_type": "stream",
     "text": [
      "                            tweet\n",
      "0                      I eat fish\n",
      "1  There are many fishes in pound\n",
      "2                 leaves and leaf\n"
     ]
    },
    {
     "data": {
      "text/plain": [
       "0                      I eat fish\n",
       "1    There are many fish in pound\n",
       "2                   leaf and leaf\n",
       "Name: tweet, dtype: object"
      ]
     },
     "execution_count": 15,
     "metadata": {},
     "output_type": "execute_result"
    }
   ],
   "source": [
    "text=['I eat fish','There are many fishes in pound', 'leaves and leaf']\n",
    "\n",
    "#convert list to dataframe\n",
    "import pandas as pd\n",
    "df = pd.DataFrame({'tweet':text})\n",
    "\n",
    "print(df)\n",
    "\n",
    "#Import library\n",
    "from textblob import Word\n",
    "\n",
    "#Code for lemmatize\n",
    "df['tweet'] = df['tweet'].apply(lambda x: \" \".join([Word(word).lemmatize() for word in x.split()]))\n",
    "\n",
    "df['tweet']\n"
   ]
  },
  {
   "cell_type": "code",
   "execution_count": null,
   "metadata": {},
   "outputs": [],
   "source": []
  },
  {
   "cell_type": "raw",
   "metadata": {},
   "source": [
    "Recipe 2-9. Exploring Text Data"
   ]
  },
  {
   "cell_type": "code",
   "execution_count": 17,
   "metadata": {},
   "outputs": [
    {
     "name": "stderr",
     "output_type": "stream",
     "text": [
      "[nltk_data] Downloading package webtext to\n",
      "[nltk_data]     /Users/akskulka/nltk_data...\n",
      "[nltk_data]   Package webtext is already up-to-date!\n"
     ]
    },
    {
     "data": {
      "image/png": "[encoded data removed]",
      "text/plain": [
       "<Figure size 432x288 with 1 Axes>"
      ]
     },
     "metadata": {
      "needs_background": "light"
     },
     "output_type": "display_data"
    },
    {
     "name": "stdout",
     "output_type": "stream",
     "text": [
      "Requirement already satisfied: wordcloud in /Users/akskulka/anaconda3/lib/python3.7/site-packages (1.8.1)\r\n",
      "Requirement already satisfied: matplotlib in /Users/akskulka/anaconda3/lib/python3.7/site-packages (from wordcloud) (3.0.3)\r\n",
      "Requirement already satisfied: numpy>=1.6.1 in /Users/akskulka/anaconda3/lib/python3.7/site-packages (from wordcloud) (1.16.2)\r\n",
      "Requirement already satisfied: pillow in /Users/akskulka/anaconda3/lib/python3.7/site-packages (from wordcloud) (5.4.1)\r\n",
      "Requirement already satisfied: cycler>=0.10 in /Users/akskulka/anaconda3/lib/python3.7/site-packages (from matplotlib->wordcloud) (0.10.0)\r\n",
      "Requirement already satisfied: kiwisolver>=1.0.1 in /Users/akskulka/anaconda3/lib/python3.7/site-packages (from matplotlib->wordcloud) (1.0.1)\r\n",
      "Requirement already satisfied: pyparsing!=2.0.4,!=2.1.2,!=2.1.6,>=2.0.1 in /Users/akskulka/anaconda3/lib/python3.7/site-packages (from matplotlib->wordcloud) (2.3.1)\r\n",
      "Requirement already satisfied: python-dateutil>=2.1 in /Users/akskulka/anaconda3/lib/python3.7/site-packages (from matplotlib->wordcloud) (2.8.0)\r\n",
      "Requirement already satisfied: six in /Users/akskulka/anaconda3/lib/python3.7/site-packages (from cycler>=0.10->matplotlib->wordcloud) (1.12.0)\r\n",
      "Requirement already satisfied: setuptools in /Users/akskulka/anaconda3/lib/python3.7/site-packages (from kiwisolver>=1.0.1->matplotlib->wordcloud) (40.8.0)\r\n"
     ]
    },
    {
     "data": {
      "image/png": "[encoded data removed]",
      "text/plain": [
       "<Figure size 432x288 with 1 Axes>"
      ]
     },
     "metadata": {
      "needs_background": "light"
     },
     "output_type": "display_data"
    }
   ],
   "source": [
    "#Execute below code to download dataset, if you haven’t already nltk.download().\n",
    "\n",
    "#Importing data\n",
    "import nltk\n",
    "from nltk.corpus import webtext\n",
    "nltk.download('webtext')\n",
    "wt_sentences = webtext.sents('firefox.txt')\n",
    "wt_words = webtext.words('firefox.txt')\n",
    "%matplotlib inline  \n",
    "\n",
    "# Import Library for computing frequency \n",
    "from nltk.probability import FreqDist\n",
    "from nltk.corpus import stopwords\n",
    "import string\n",
    "\n",
    "\n",
    "# Count the number of words \n",
    "\n",
    "len(wt_sentences)\n",
    "len(wt_words)\n",
    "\n",
    "frequency_dist = nltk.FreqDist(wt_words) \n",
    "frequency_dist\n",
    "\n",
    "sorted_frequency_dist =sorted(frequency_dist,key=frequency_dist.__getitem__, reverse=True)\n",
    "sorted_frequency_dist\n",
    "\n",
    "large_words = dict([(k,v) for k,v in frequency_dist.items() if len(k)>3])\n",
    "\n",
    "frequency_dist = nltk.FreqDist(large_words)\n",
    "frequency_dist.plot(50,cumulative=False)\n",
    "\n",
    "#install library\n",
    "!pip install wordcloud\n",
    "\n",
    "#build wordcloud\n",
    "\n",
    "from wordcloud import WordCloud\n",
    "wcloud = WordCloud().generate_from_frequencies(frequency_dist)\n",
    "\n",
    "#plotting the wordcloud\n",
    "\n",
    "import matplotlib.pyplot as plt\n",
    "%matplotlib inline  \n",
    "plt.imshow(wcloud, interpolation='bilinear')\n",
    "plt.axis(\"off\")\n",
    "(-0.5, 399.5, 199.5, -0.5)\n",
    "plt.show()\n",
    "\n"
   ]
  },
  {
   "cell_type": "raw",
   "metadata": {},
   "source": [
    "# other processing"
   ]
  },
  {
   "cell_type": "code",
   "execution_count": 18,
   "metadata": {},
   "outputs": [
    {
     "data": {
      "text/plain": [
       "'How to take control of your debt URL advice for family financial success AT_USER'"
      ]
     },
     "execution_count": 18,
     "metadata": {},
     "output_type": "execute_result"
    }
   ],
   "source": [
    "tweet_sample= \"How to take control of your #debt https://personal.vanguard.com/us/insights/saving-investing/debt-management.#Best advice for #family #financial #success (@PrepareToWin)\"\n",
    "\n",
    "def processRow(row):\n",
    "    \n",
    "    import re\n",
    "    import nltk\n",
    "    from textblob import TextBlob\n",
    "    from nltk.corpus import stopwords\n",
    "    from nltk.stem import PorterStemmer\n",
    "    from textblob import Word\n",
    "    from nltk.util import ngrams\n",
    "    import re\n",
    "    from wordcloud import WordCloud, STOPWORDS\n",
    "    from nltk.tokenize import word_tokenize\n",
    "    \n",
    "    tweet = row\n",
    "    #Lower case\n",
    "    tweet.lower()\n",
    "    #Removes unicode strings like \"\\u002c\" and \"x96\" \n",
    "    tweet = re.sub(r'(\\\\u[0-9A-Fa-f]+)',r'', tweet)       \n",
    "    tweet = re.sub(r'[^\\x00-\\x7f]',r'',tweet)\n",
    "    #convert any url to URL\n",
    "    tweet = re.sub('((www\\.[^\\s]+)|(https?://[^\\s]+))','URL',tweet)\n",
    "    #Convert any @Username to \"AT_USER\"\n",
    "    tweet = re.sub('@[^\\s]+','AT_USER',tweet)\n",
    "    #Remove additional white spaces\n",
    "    tweet = re.sub('[\\s]+', ' ', tweet)\n",
    "    tweet = re.sub('[\\n]+', ' ', tweet)\n",
    "    #Remove not alphanumeric symbols white spaces\n",
    "    tweet = re.sub(r'[^\\w]', ' ', tweet)\n",
    "    #Removes hastag in front of a word \"\"\"\n",
    "    tweet = re.sub(r'#([^\\s]+)', r'\\1', tweet)\n",
    "    #Replace #word with word\n",
    "    tweet = re.sub(r'#([^\\s]+)', r'\\1', tweet)\n",
    "    #Remove :( or :)\n",
    "    tweet = tweet.replace(':)','')\n",
    "    tweet = tweet.replace(':(','')\n",
    "    #remove numbers\n",
    "    tweet = ''.join([i for i in tweet if not i.isdigit()]) \n",
    "    #remove multiple exclamation\n",
    "    tweet = re.sub(r\"(\\!)\\1+\", ' ', tweet)\n",
    "    #remove multiple question marks\n",
    "    tweet = re.sub(r\"(\\?)\\1+\", ' ', tweet)\n",
    "    #remove multistop\n",
    "    tweet = re.sub(r\"(\\.)\\1+\", ' ', tweet)\n",
    "    #lemma\n",
    "    from textblob import Word\n",
    "    tweet =\" \".join([Word(word).lemmatize() for word in tweet.split()])\n",
    "    #stemmer\n",
    "    #st = PorterStemmer()\n",
    "    #tweet=\" \".join([st.stem(word) for word in tweet.split()])\n",
    "    #Removes emoticons from text \n",
    "    tweet = re.sub(':\\)|;\\)|:-\\)|\\(-:|:-D|=D|:P|xD|X-p|\\^\\^|:-*|\\^\\.\\^|\\^\\-\\^|\\^\\_\\^|\\,-\\)|\\)-:|:\\'\\(|:\\(|:-\\(|:\\S|T\\.T|\\.\\_\\.|:<|:-\\S|:-<|\\*\\-\\*|:O|=O|=\\-O|O\\.o|XO|O\\_O|:-\\@|=/|:/|X\\-\\(|>\\.<|>=\\(|D:', '', tweet)\n",
    "    #trim\n",
    "    tweet = tweet.strip('\\'\"')\n",
    "\n",
    "    row = tweet\n",
    "\n",
    "    return row\n",
    "\n",
    "#call the function with your data\n",
    "processRow(tweet_sample)\n"
   ]
  },
  {
   "cell_type": "code",
   "execution_count": 19,
   "metadata": {},
   "outputs": [],
   "source": [
    "#N gram"
   ]
  },
  {
   "cell_type": "code",
   "execution_count": 20,
   "metadata": {},
   "outputs": [
    {
     "data": {
      "text/plain": [
       "[WordList(['I']), WordList(['am']), WordList(['learning']), WordList(['NLP'])]"
      ]
     },
     "execution_count": 20,
     "metadata": {},
     "output_type": "execute_result"
    }
   ],
   "source": [
    "TextBlob(\"I am learning NLP\").ngrams(1)"
   ]
  },
  {
   "cell_type": "code",
   "execution_count": 21,
   "metadata": {},
   "outputs": [
    {
     "data": {
      "text/plain": [
       "[WordList(['I', 'am']),\n",
       " WordList(['am', 'learning']),\n",
       " WordList(['learning', 'NLP'])]"
      ]
     },
     "execution_count": 21,
     "metadata": {},
     "output_type": "execute_result"
    }
   ],
   "source": [
    "TextBlob(\"I am learning NLP\").ngrams(2)"
   ]
  },
  {
   "cell_type": "code",
   "execution_count": 22,
   "metadata": {},
   "outputs": [
    {
     "data": {
      "text/plain": [
       "[WordList(['I', 'eat']), WordList(['eat', 'fish'])]"
      ]
     },
     "execution_count": 22,
     "metadata": {},
     "output_type": "execute_result"
    }
   ],
   "source": [
    "TextBlob(df['tweet'][0]).ngrams(2)"
   ]
  },
  {
   "cell_type": "code",
   "execution_count": null,
   "metadata": {},
   "outputs": [],
   "source": []
  },
  {
   "cell_type": "code",
   "execution_count": 23,
   "metadata": {},
   "outputs": [],
   "source": [
    "#dealing with emoji"
   ]
  },
  {
   "cell_type": "markdown",
   "metadata": {},
   "source": [
    "In today’s online communication, emojis and emoticons are becoming the primary language that allows us to communicate with anyone globally when you need to be quick and precise. Both emoji and emoticons are playing an essential part in text analysis.\n",
    "Both Emoji and Emoticon are most often used in social media, emails, and text messages, though they may be found in any type of electronic communication. On the one hand, we might need to remove for some of our textual analysis. On the other hand, we need to retain as these give some valuable information, especially in Sentiment Analysis and removing them might not be a right solution.\n",
    "For example, if a company wants to find out how people are feeling about a new product, a new campaign, or about the brand itself on social media. Emojis can help identify where there is a need to improve consumer engagement by picturing users’ moods, attitudes, and opinions. We can capture people’s emotions by analyzing emojis and emoticons. This will provide an essential piece of information, and it is vital for companies to understand their customer’s feelings better.\n",
    "Collecting and analyzing data on emojis as well as emoticons give companies useful insights. Hence, we will convert these into word format so they can be used in modeling processes. In this blog, we will see how to save both emoji and emoticon into word form using python.\n",
    "What is an Emoji? 🙂 🙁\n",
    "An emoji is an image small enough to insert into text that expresses an emotion or idea. The word emoji essentially means “picture-character” (from Japanese e — “picture,” and moji — “letter, character”).\n",
    "What is an Emoticon? :) :-]\n",
    "An emoticon is a representation of a human facial expression using only keyboard characters such as letters, numbers, and punctuation marks.\n",
    "Here, I have used a library called emot. It has a good collection of emoticons and emojis with the corresponding words. I have used the same to convert the emojis and emoticons into words."
   ]
  },
  {
   "cell_type": "code",
   "execution_count": 24,
   "metadata": {},
   "outputs": [
    {
     "name": "stdout",
     "output_type": "stream",
     "text": [
      "Requirement already satisfied: emot in /Users/akskulka/anaconda3/lib/python3.7/site-packages (2.1)\r\n"
     ]
    }
   ],
   "source": [
    "#Installing emot library\n",
    "!pip install emot\n",
    "#Importing libraries\n",
    "import re\n",
    "from emot.emo_unicode import UNICODE_EMO, EMOTICONS"
   ]
  },
  {
   "cell_type": "code",
   "execution_count": 25,
   "metadata": {},
   "outputs": [
    {
     "data": {
      "text/plain": [
       "'Hilarious face_with_tears_of_joy. The feeling of making a sale smiling_face_with_sunglasses, The feeling of actually fulfilling orders unamused_face'"
      ]
     },
     "execution_count": 25,
     "metadata": {},
     "output_type": "execute_result"
    }
   ],
   "source": [
    "# Function for converting emojis into word\n",
    "def convert_emojis(text):\n",
    "    for emot in UNICODE_EMO:\n",
    "        text = text.replace(emot, \"_\".join(UNICODE_EMO[emot].replace(\",\",\"\").replace(\":\",\"\").split()))\n",
    "    return text\n",
    "# Example\n",
    "text1 = \"Hilarious 😂. The feeling of making a sale 😎, The feeling of actually fulfilling orders 😒\"\n",
    "convert_emojis(text1)"
   ]
  },
  {
   "cell_type": "code",
   "execution_count": 26,
   "metadata": {},
   "outputs": [
    {
     "data": {
      "text/plain": [
       "'Hello Happy_face_smiley Happy_face_smiley'"
      ]
     },
     "execution_count": 26,
     "metadata": {},
     "output_type": "execute_result"
    }
   ],
   "source": [
    "# Function for converting emoticons into word\n",
    "def convert_emoticons(text):\n",
    "    for emot in EMOTICONS:\n",
    "        text = re.sub(u'('+emot+')', \"_\".join(EMOTICONS[emot].replace(\",\",\"\").split()), text)\n",
    "    return text\n",
    "# Example\n",
    "text = \"Hello :-) :-)\"\n",
    "convert_emoticons(text)"
   ]
  },
  {
   "cell_type": "code",
   "execution_count": 27,
   "metadata": {},
   "outputs": [],
   "source": [
    "# remove them\n",
    "def remove_emoji(string):\n",
    "    emoji_pattern = re.compile(\"[\"\n",
    "                           u\"\\U0001F600-\\U0001F64F\"  # emoticons\n",
    "                           u\"\\U0001F300-\\U0001F5FF\"  # symbols & pictographs\n",
    "                           u\"\\U0001F680-\\U0001F6FF\"  # transport & map symbols\n",
    "                           u\"\\U0001F1E0-\\U0001F1FF\"  # flags (iOS)\n",
    "                           u\"\\U00002702-\\U000027B0\"\n",
    "                           u\"\\U000024C2-\\U0001F251\"\n",
    "                           \"]+\", flags=re.UNICODE)\n",
    "    return emoji_pattern.sub(r'', string)"
   ]
  },
  {
   "cell_type": "code",
   "execution_count": 28,
   "metadata": {},
   "outputs": [],
   "source": [
    "def remove_emoji(string):\n",
    "    emoji_pattern = re.compile(\"[\"\n",
    "                               u\"\\U0001F600-\\U0001F64F\"  # emoticons\n",
    "                               u\"\\U0001F300-\\U0001F5FF\"  # symbols & pictographs\n",
    "                               u\"\\U0001F680-\\U0001F6FF\"  # transport & map symbols\n",
    "                               u\"\\U0001F1E0-\\U0001F1FF\"  # flags (iOS)\n",
    "                               u\"\\U00002500-\\U00002BEF\"  # chinese char\n",
    "                               u\"\\U00002702-\\U000027B0\"\n",
    "                               u\"\\U00002702-\\U000027B0\"\n",
    "                               u\"\\U000024C2-\\U0001F251\"\n",
    "                               u\"\\U0001f926-\\U0001f937\"\n",
    "                               u\"\\U00010000-\\U0010ffff\"\n",
    "                               u\"\\u2640-\\u2642\"\n",
    "                               u\"\\u2600-\\u2B55\"\n",
    "                               u\"\\u200d\"\n",
    "                               u\"\\u23cf\"\n",
    "                               u\"\\u23e9\"\n",
    "                               u\"\\u231a\"\n",
    "                               u\"\\ufe0f\"  # dingbats\n",
    "                               u\"\\u3030\"\n",
    "                               \"]+\", flags=re.UNICODE)\n",
    "    return emoji_pattern.sub(r'', string)"
   ]
  },
  {
   "cell_type": "code",
   "execution_count": 29,
   "metadata": {},
   "outputs": [
    {
     "data": {
      "text/plain": [
       "'Hilarious . The feeling of making a sale , The feeling of actually fulfilling orders '"
      ]
     },
     "execution_count": 29,
     "metadata": {},
     "output_type": "execute_result"
    }
   ],
   "source": [
    "# Example\n",
    "text1 = \"Hilarious 😂. The feeling of making a sale 😎, The feeling of actually fulfilling orders 😒\"\n",
    "remove_emoji(text1)"
   ]
  },
  {
   "cell_type": "code",
   "execution_count": 30,
   "metadata": {},
   "outputs": [],
   "source": [
    "#try others"
   ]
  },
  {
   "cell_type": "code",
   "execution_count": null,
   "metadata": {},
   "outputs": [],
   "source": []
  },
  {
   "cell_type": "code",
   "execution_count": 31,
   "metadata": {},
   "outputs": [
    {
     "name": "stdout",
     "output_type": "stream",
     "text": [
      "Requirement already satisfied: demoji in /Users/akskulka/anaconda3/lib/python3.7/site-packages (0.4.0)\n",
      "Requirement already satisfied: requests<3.0.0 in /Users/akskulka/anaconda3/lib/python3.7/site-packages (from demoji) (2.21.0)\n",
      "Requirement already satisfied: colorama in /Users/akskulka/anaconda3/lib/python3.7/site-packages (from demoji) (0.4.1)\n",
      "Requirement already satisfied: idna<2.9,>=2.5 in /Users/akskulka/anaconda3/lib/python3.7/site-packages (from requests<3.0.0->demoji) (2.8)\n",
      "Requirement already satisfied: urllib3<1.25,>=1.21.1 in /Users/akskulka/anaconda3/lib/python3.7/site-packages (from requests<3.0.0->demoji) (1.24.1)\n",
      "Requirement already satisfied: chardet<3.1.0,>=3.0.2 in /Users/akskulka/anaconda3/lib/python3.7/site-packages (from requests<3.0.0->demoji) (3.0.4)\n",
      "Requirement already satisfied: certifi>=2017.4.17 in /Users/akskulka/anaconda3/lib/python3.7/site-packages (from requests<3.0.0->demoji) (2019.3.9)\n",
      "Downloading emoji data ...\n",
      "... OK (Got response in 1.11 seconds)\n",
      "Writing emoji data to /Users/akskulka/.demoji/codes.json ...\n",
      "... OK\n"
     ]
    }
   ],
   "source": [
    "!pip install demoji\n",
    "import demoji\n",
    "demoji.download_codes()\n"
   ]
  },
  {
   "cell_type": "code",
   "execution_count": 32,
   "metadata": {},
   "outputs": [],
   "source": [
    "tweet = \"\"\"\\\n",
    "#startspreadingthenews yankees win great start by 🎅🏾 going 5strong innings with 5k’s🔥 🐂\n",
    "solo homerun 🌋🌋 with 2 solo homeruns and👹 3run homerun… 🤡 🚣🏼 👨🏽‍⚖️ with rbi’s … 🔥🔥\n",
    "🇲🇽 and 🇳🇮 to close the game🔥🔥!!!….\n",
    "WHAT A GAME!!..\"\"\""
   ]
  },
  {
   "cell_type": "code",
   "execution_count": 33,
   "metadata": {},
   "outputs": [
    {
     "data": {
      "text/plain": [
       "{'🔥': 'fire',\n",
       " '🎅🏾': 'Santa Claus: medium-dark skin tone',\n",
       " '👨🏽\\u200d⚖️': 'man judge: medium skin tone',\n",
       " '🤡': 'clown face',\n",
       " '👹': 'ogre',\n",
       " '🌋': 'volcano',\n",
       " '🇳🇮': 'flag: Nicaragua',\n",
       " '🇲🇽': 'flag: Mexico',\n",
       " '🐂': 'ox',\n",
       " '🚣🏼': 'person rowing boat: medium-light skin tone'}"
      ]
     },
     "execution_count": 33,
     "metadata": {},
     "output_type": "execute_result"
    }
   ],
   "source": [
    "demoji.findall(tweet)"
   ]
  },
  {
   "cell_type": "markdown",
   "metadata": {},
   "source": [
    "Removal and converting of emojis or emoticons are purely based on business use cases.\n",
    "Thanks for reading. Keep learning and stay tuned for more!"
   ]
  },
  {
   "cell_type": "code",
   "execution_count": null,
   "metadata": {},
   "outputs": [],
   "source": []
  },
  {
   "cell_type": "raw",
   "metadata": {},
   "source": [
    "2.19 Named entity recognition"
   ]
  },
  {
   "cell_type": "markdown",
   "metadata": {},
   "source": [
    "Named entity recognition:\n",
    "It is the process of detecting the named entities such as the person name, the location name, the company name, the quantities and the monetary value."
   ]
  },
  {
   "cell_type": "code",
   "execution_count": 45,
   "metadata": {},
   "outputs": [],
   "source": [
    "my_sent = \"WASHINGTON -- In the wake of a string of abuses by New York police officers in the 1990s, Loretta E. Lynch, the top federal prosecutor in Brooklyn, spoke forcefully about the pain of a broken trust that African-Americans felt and said the responsibility for repairing generations of miscommunication and mistrust fell to law enforcement.\"\n"
   ]
  },
  {
   "cell_type": "code",
   "execution_count": 46,
   "metadata": {},
   "outputs": [
    {
     "name": "stdout",
     "output_type": "stream",
     "text": [
      "GPE WASHINGTON\n",
      "GPE New York\n",
      "PERSON Loretta E. Lynch\n",
      "GPE Brooklyn\n"
     ]
    }
   ],
   "source": [
    "import nltk\n",
    "for sent in nltk.sent_tokenize(my_sent):\n",
    "    for chunk in nltk.ne_chunk(nltk.pos_tag(nltk.word_tokenize(sent))):\n",
    "        if hasattr(chunk, 'label'):\n",
    "            print(chunk.label(), ' '.join(c[0] for c in chunk))"
   ]
  },
  {
   "cell_type": "markdown",
   "metadata": {},
   "source": [
    "You can see Washington, New York and Brooklyn are GPE means geo-political entities\n",
    "\n",
    "and Loretta E. Lynch is a PERSON"
   ]
  },
  {
   "cell_type": "code",
   "execution_count": null,
   "metadata": {},
   "outputs": [],
   "source": []
  },
  {
   "cell_type": "raw",
   "metadata": {},
   "source": [
    "2.20 Part of speech tagging (POS)"
   ]
  },
  {
   "cell_type": "markdown",
   "metadata": {},
   "source": [
    "Part-of-speech tagging is used to assign parts of speech to each word of a given text (such as nouns, verbs, pronouns, adverbs, conjunction, adjectives, interjection) based on its definition and its context. There are many tools available for POS taggers and some of the widely used taggers are NLTK, Spacy, TextBlob, Standford CoreNLP, etc"
   ]
  },
  {
   "cell_type": "code",
   "execution_count": 37,
   "metadata": {},
   "outputs": [
    {
     "name": "stdout",
     "output_type": "stream",
     "text": [
      "[('vote', 'NN')]\n",
      "[('to', 'TO')]\n",
      "[('choose', 'NN')]\n",
      "[('a', 'DT')]\n",
      "[('particular', 'JJ')]\n",
      "[('man', 'NN')]\n",
      "[('or', 'CC')]\n",
      "[('a', 'DT')]\n",
      "[('group', 'NN')]\n",
      "[('(', '(')]\n",
      "[('party', 'NN')]\n",
      "[(')', ')')]\n",
      "[('to', 'TO')]\n",
      "[('represent', 'NN')]\n",
      "[('them', 'PRP')]\n",
      "[('in', 'IN')]\n",
      "[('parliament', 'NN')]\n"
     ]
    }
   ],
   "source": [
    "text = \"vote to choose a particular man or a group (party) to represent them in parliament\"\n",
    "#Tokenize the text\n",
    "from nltk import word_tokenize\n",
    "tex = word_tokenize(text)\n",
    "for token in tex:\n",
    "    print(nltk.pos_tag([token]))"
   ]
  },
  {
   "cell_type": "code",
   "execution_count": null,
   "metadata": {},
   "outputs": [],
   "source": []
  },
  {
   "cell_type": "code",
   "execution_count": null,
   "metadata": {},
   "outputs": [],
   "source": []
  }
 ],
 "metadata": {
  "kernelspec": {
   "display_name": "Python 3",
   "language": "python",
   "name": "python3"
  },
  "language_info": {
   "codemirror_mode": {
    "name": "ipython",
    "version": 3
   },
   "file_extension": ".py",
   "mimetype": "text/x-python",
   "name": "python",
   "nbconvert_exporter": "python",
   "pygments_lexer": "ipython3",
   "version": "3.8.3"
  }
 },
 "nbformat": 4,
 "nbformat_minor": 1
}
