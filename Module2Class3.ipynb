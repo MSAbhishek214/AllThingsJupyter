{
 "cells": [
  {
   "cell_type": "code",
   "execution_count": 31,
   "metadata": {},
   "outputs": [
    {
     "name": "stdout",
     "output_type": "stream",
     "text": [
      "[2.5, 8.0]\n",
      "[2.5, 8.0]\n",
      "[2.5, 8.0]\n",
      "[2.5, 8.0]\n"
     ]
    }
   ],
   "source": [
    "# i have a dataset vector\n",
    "dataset = [1,2,3,4,7,8,9]\n",
    "\n",
    "# my k is 2: nothing but number of observed clusters\n",
    "k = 2\n",
    "\n",
    "# number of interations\n",
    "i = 4\n",
    "\n",
    "# my cluster centers are\n",
    "cc = [4, 7]\n",
    "\n",
    "while i > 0:\n",
    "        # list to hold which cluster a record belongs to, is it 4 or 7?\n",
    "    cluster_matrix = []\n",
    "\n",
    "    # compute the distance between each record from the cluster centers\n",
    "    for record in dataset:\n",
    "\n",
    "        # distance matrix holds distance values for each center\n",
    "        dist_matrix = []\n",
    "\n",
    "        for center in cc:\n",
    "            dist_matrix.append(abs(record - center))\n",
    "        cluster_matrix.append([record, dist_matrix.index(min(dist_matrix))])\n",
    "\n",
    "    # compute the centers again but now taking the mean of the number of values in each cluster\n",
    "    cc[0] = sum([data[0] for data in cluster_matrix if data[1] == 0])/4\n",
    "    cc[1] = sum([data[0] for data in cluster_matrix if data[1] == 1])/3\n",
    "\n",
    "    print(cc)\n",
    "    i -= 1"
   ]
  },
  {
   "cell_type": "code",
   "execution_count": 34,
   "metadata": {},
   "outputs": [],
   "source": [
    "a = [1,2,3,4,7,8,9]\n",
    "\n",
    "b = a.copy()"
   ]
  },
  {
   "cell_type": "code",
   "execution_count": 1,
   "metadata": {},
   "outputs": [
    {
     "name": "stdout",
     "output_type": "stream",
     "text": [
      "determinant is:  -14\n"
     ]
    }
   ],
   "source": [
    "# determinant of a matrix\n",
    "import numpy as np\n",
    "a = [[1,4], [5,6]]\n",
    "det_a = a[0][0] * a[1][1] - a[0][1] * a[1][0]\n",
    "print('determinant is: ', det_a)"
   ]
  },
  {
   "cell_type": "code",
   "execution_count": 2,
   "metadata": {},
   "outputs": [
    {
     "data": {
      "text/plain": [
       "-13.999999999999996"
      ]
     },
     "execution_count": 2,
     "metadata": {},
     "output_type": "execute_result"
    }
   ],
   "source": [
    "np.linalg.det(a)"
   ]
  },
  {
   "cell_type": "code",
   "execution_count": null,
   "metadata": {},
   "outputs": [],
   "source": []
  }
 ],
 "metadata": {
  "kernelspec": {
   "display_name": "Python 3",
   "language": "python",
   "name": "python3"
  },
  "language_info": {
   "codemirror_mode": {
    "name": "ipython",
    "version": 3
   },
   "file_extension": ".py",
   "mimetype": "text/x-python",
   "name": "python",
   "nbconvert_exporter": "python",
   "pygments_lexer": "ipython3",
   "version": "3.8.3"
  }
 },
 "nbformat": 4,
 "nbformat_minor": 4
}
