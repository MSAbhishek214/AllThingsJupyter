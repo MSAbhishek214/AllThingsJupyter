{
 "cells": [
  {
   "cell_type": "markdown",
   "metadata": {
    "colab_type": "text",
    "id": "HxwkNF_Bk3jA"
   },
   "source": [
    "# Linear Regression"
   ]
  },
  {
   "cell_type": "markdown",
   "metadata": {
    "colab_type": "text",
    "id": "60SIFk_sk3jC"
   },
   "source": [
    "Let us implement Linear Regression on Boston house pricing data set to predict the Price of a house based on various features."
   ]
  },
  {
   "cell_type": "code",
   "execution_count": 0,
   "metadata": {
    "colab": {
     "base_uri": "https://localhost:8080/",
     "height": 71
    },
    "colab_type": "code",
    "executionInfo": {
     "elapsed": 2005,
     "status": "ok",
     "timestamp": 1587806060702,
     "user": {
      "displayName": "nitin sharma",
      "photoUrl": "https://lh3.googleusercontent.com/a-/AOh14GipRPAC1mJTCRiZJ4x-tY1PlsClex3KCAbs6gvQ6Q=s64",
      "userId": "13417507190894542789"
     },
     "user_tz": -330
    },
    "id": "_mpJHPwDk3jD",
    "outputId": "065b2c44-8b2f-40e9-c2fa-c0697367cc2b"
   },
   "outputs": [
    {
     "name": "stderr",
     "output_type": "stream",
     "text": [
      "/usr/local/lib/python3.6/dist-packages/statsmodels/tools/_testing.py:19: FutureWarning: pandas.util.testing is deprecated. Use the functions in the public API at pandas.testing instead.\n",
      "  import pandas.util.testing as tm\n"
     ]
    }
   ],
   "source": [
    "#Import Required libraries\n",
    "import pandas as pd\n",
    "from sklearn.datasets import load_boston                          #To load the data set\n",
    "import seaborn as sns                                             #For visualisations\n",
    "from sklearn.model_selection import train_test_split              #To split train and test data set\n",
    "from sklearn.linear_model import LinearRegression                 #To implement Linear Regression model\n",
    "from sklearn import metrics                                       #To measure accuracy of our model\n",
    "import numpy as np\n",
    "import matplotlib.pyplot as plt\n",
    "from sklearn.decomposition import PCA"
   ]
  },
  {
   "cell_type": "code",
   "execution_count": 0,
   "metadata": {
    "colab": {},
    "colab_type": "code",
    "id": "vrsn0IYXx3oF"
   },
   "outputs": [],
   "source": [
    "\n"
   ]
  },
  {
   "cell_type": "code",
   "execution_count": 0,
   "metadata": {
    "colab": {},
    "colab_type": "code",
    "id": "NhXLp221k3jI"
   },
   "outputs": [],
   "source": [
    "#Load the data set\n",
    "boston_df=load_boston()"
   ]
  },
  {
   "cell_type": "code",
   "execution_count": 0,
   "metadata": {
    "colab": {},
    "colab_type": "code",
    "id": "A50qYUpfk3jL"
   },
   "outputs": [],
   "source": [
    "#Convert this dataset into Pandas dataframe\n",
    "df=pd.DataFrame(boston_df.data)\n",
    "df.columns=boston_df.feature_names\n",
    "df['Price']=boston_df.target"
   ]
  },
  {
   "cell_type": "code",
   "execution_count": 0,
   "metadata": {
    "colab": {
     "base_uri": "https://localhost:8080/",
     "height": 221
    },
    "colab_type": "code",
    "executionInfo": {
     "elapsed": 1422,
     "status": "ok",
     "timestamp": 1587806096063,
     "user": {
      "displayName": "nitin sharma",
      "photoUrl": "https://lh3.googleusercontent.com/a-/AOh14GipRPAC1mJTCRiZJ4x-tY1PlsClex3KCAbs6gvQ6Q=s64",
      "userId": "13417507190894542789"
     },
     "user_tz": -330
    },
    "id": "m1awRTaQk3jN",
    "outputId": "f6869997-e48f-4773-cdd8-47b5184fa34a"
   },
   "outputs": [
    {
     "name": "stdout",
     "output_type": "stream",
     "text": [
      "(506, 14)\n"
     ]
    },
    {
     "data": {
      "text/html": [
       "<div>\n",
       "<style scoped>\n",
       "    .dataframe tbody tr th:only-of-type {\n",
       "        vertical-align: middle;\n",
       "    }\n",
       "\n",
       "    .dataframe tbody tr th {\n",
       "        vertical-align: top;\n",
       "    }\n",
       "\n",
       "    .dataframe thead th {\n",
       "        text-align: right;\n",
       "    }\n",
       "</style>\n",
       "<table border=\"1\" class=\"dataframe\">\n",
       "  <thead>\n",
       "    <tr style=\"text-align: right;\">\n",
       "      <th></th>\n",
       "      <th>CRIM</th>\n",
       "      <th>ZN</th>\n",
       "      <th>INDUS</th>\n",
       "      <th>CHAS</th>\n",
       "      <th>NOX</th>\n",
       "      <th>RM</th>\n",
       "      <th>AGE</th>\n",
       "      <th>DIS</th>\n",
       "      <th>RAD</th>\n",
       "      <th>TAX</th>\n",
       "      <th>PTRATIO</th>\n",
       "      <th>B</th>\n",
       "      <th>LSTAT</th>\n",
       "      <th>Price</th>\n",
       "    </tr>\n",
       "  </thead>\n",
       "  <tbody>\n",
       "    <tr>\n",
       "      <th>0</th>\n",
       "      <td>0.00632</td>\n",
       "      <td>18.0</td>\n",
       "      <td>2.31</td>\n",
       "      <td>0.0</td>\n",
       "      <td>0.538</td>\n",
       "      <td>6.575</td>\n",
       "      <td>65.2</td>\n",
       "      <td>4.0900</td>\n",
       "      <td>1.0</td>\n",
       "      <td>296.0</td>\n",
       "      <td>15.3</td>\n",
       "      <td>396.90</td>\n",
       "      <td>4.98</td>\n",
       "      <td>24.0</td>\n",
       "    </tr>\n",
       "    <tr>\n",
       "      <th>1</th>\n",
       "      <td>0.02731</td>\n",
       "      <td>0.0</td>\n",
       "      <td>7.07</td>\n",
       "      <td>0.0</td>\n",
       "      <td>0.469</td>\n",
       "      <td>6.421</td>\n",
       "      <td>78.9</td>\n",
       "      <td>4.9671</td>\n",
       "      <td>2.0</td>\n",
       "      <td>242.0</td>\n",
       "      <td>17.8</td>\n",
       "      <td>396.90</td>\n",
       "      <td>9.14</td>\n",
       "      <td>21.6</td>\n",
       "    </tr>\n",
       "    <tr>\n",
       "      <th>2</th>\n",
       "      <td>0.02729</td>\n",
       "      <td>0.0</td>\n",
       "      <td>7.07</td>\n",
       "      <td>0.0</td>\n",
       "      <td>0.469</td>\n",
       "      <td>7.185</td>\n",
       "      <td>61.1</td>\n",
       "      <td>4.9671</td>\n",
       "      <td>2.0</td>\n",
       "      <td>242.0</td>\n",
       "      <td>17.8</td>\n",
       "      <td>392.83</td>\n",
       "      <td>4.03</td>\n",
       "      <td>34.7</td>\n",
       "    </tr>\n",
       "    <tr>\n",
       "      <th>3</th>\n",
       "      <td>0.03237</td>\n",
       "      <td>0.0</td>\n",
       "      <td>2.18</td>\n",
       "      <td>0.0</td>\n",
       "      <td>0.458</td>\n",
       "      <td>6.998</td>\n",
       "      <td>45.8</td>\n",
       "      <td>6.0622</td>\n",
       "      <td>3.0</td>\n",
       "      <td>222.0</td>\n",
       "      <td>18.7</td>\n",
       "      <td>394.63</td>\n",
       "      <td>2.94</td>\n",
       "      <td>33.4</td>\n",
       "    </tr>\n",
       "    <tr>\n",
       "      <th>4</th>\n",
       "      <td>0.06905</td>\n",
       "      <td>0.0</td>\n",
       "      <td>2.18</td>\n",
       "      <td>0.0</td>\n",
       "      <td>0.458</td>\n",
       "      <td>7.147</td>\n",
       "      <td>54.2</td>\n",
       "      <td>6.0622</td>\n",
       "      <td>3.0</td>\n",
       "      <td>222.0</td>\n",
       "      <td>18.7</td>\n",
       "      <td>396.90</td>\n",
       "      <td>5.33</td>\n",
       "      <td>36.2</td>\n",
       "    </tr>\n",
       "  </tbody>\n",
       "</table>\n",
       "</div>"
      ],
      "text/plain": [
       "      CRIM    ZN  INDUS  CHAS    NOX  ...    TAX  PTRATIO       B  LSTAT  Price\n",
       "0  0.00632  18.0   2.31   0.0  0.538  ...  296.0     15.3  396.90   4.98   24.0\n",
       "1  0.02731   0.0   7.07   0.0  0.469  ...  242.0     17.8  396.90   9.14   21.6\n",
       "2  0.02729   0.0   7.07   0.0  0.469  ...  242.0     17.8  392.83   4.03   34.7\n",
       "3  0.03237   0.0   2.18   0.0  0.458  ...  222.0     18.7  394.63   2.94   33.4\n",
       "4  0.06905   0.0   2.18   0.0  0.458  ...  222.0     18.7  396.90   5.33   36.2\n",
       "\n",
       "[5 rows x 14 columns]"
      ]
     },
     "execution_count": 4,
     "metadata": {
      "tags": []
     },
     "output_type": "execute_result"
    }
   ],
   "source": [
    "print(df.shape)\n",
    "df.head()"
   ]
  },
  {
   "cell_type": "code",
   "execution_count": 0,
   "metadata": {
    "colab": {
     "base_uri": "https://localhost:8080/",
     "height": 904
    },
    "colab_type": "code",
    "executionInfo": {
     "elapsed": 1214,
     "status": "ok",
     "timestamp": 1587806105690,
     "user": {
      "displayName": "nitin sharma",
      "photoUrl": "https://lh3.googleusercontent.com/a-/AOh14GipRPAC1mJTCRiZJ4x-tY1PlsClex3KCAbs6gvQ6Q=s64",
      "userId": "13417507190894542789"
     },
     "user_tz": -330
    },
    "id": "WOVx-2dDk3jS",
    "outputId": "50a6cae2-89fb-4f46-d58e-242954219b22"
   },
   "outputs": [
    {
     "name": "stdout",
     "output_type": "stream",
     "text": [
      ".. _boston_dataset:\n",
      "\n",
      "Boston house prices dataset\n",
      "---------------------------\n",
      "\n",
      "**Data Set Characteristics:**  \n",
      "\n",
      "    :Number of Instances: 506 \n",
      "\n",
      "    :Number of Attributes: 13 numeric/categorical predictive. Median Value (attribute 14) is usually the target.\n",
      "\n",
      "    :Attribute Information (in order):\n",
      "        - CRIM     per capita crime rate by town\n",
      "        - ZN       proportion of residential land zoned for lots over 25,000 sq.ft.\n",
      "        - INDUS    proportion of non-retail business acres per town\n",
      "        - CHAS     Charles River dummy variable (= 1 if tract bounds river; 0 otherwise)\n",
      "        - NOX      nitric oxides concentration (parts per 10 million)\n",
      "        - RM       average number of rooms per dwelling\n",
      "        - AGE      proportion of owner-occupied units built prior to 1940\n",
      "        - DIS      weighted distances to five Boston employment centres\n",
      "        - RAD      index of accessibility to radial highways\n",
      "        - TAX      full-value property-tax rate per $10,000\n",
      "        - PTRATIO  pupil-teacher ratio by town\n",
      "        - B        1000(Bk - 0.63)^2 where Bk is the proportion of blacks by town\n",
      "        - LSTAT    % lower status of the population\n",
      "        - MEDV     Median value of owner-occupied homes in $1000's\n",
      "\n",
      "    :Missing Attribute Values: None\n",
      "\n",
      "    :Creator: Harrison, D. and Rubinfeld, D.L.\n",
      "\n",
      "This is a copy of UCI ML housing dataset.\n",
      "https://archive.ics.uci.edu/ml/machine-learning-databases/housing/\n",
      "\n",
      "\n",
      "This dataset was taken from the StatLib library which is maintained at Carnegie Mellon University.\n",
      "\n",
      "The Boston house-price data of Harrison, D. and Rubinfeld, D.L. 'Hedonic\n",
      "prices and the demand for clean air', J. Environ. Economics & Management,\n",
      "vol.5, 81-102, 1978.   Used in Belsley, Kuh & Welsch, 'Regression diagnostics\n",
      "...', Wiley, 1980.   N.B. Various transformations are used in the table on\n",
      "pages 244-261 of the latter.\n",
      "\n",
      "The Boston house-price data has been used in many machine learning papers that address regression\n",
      "problems.   \n",
      "     \n",
      ".. topic:: References\n",
      "\n",
      "   - Belsley, Kuh & Welsch, 'Regression diagnostics: Identifying Influential Data and Sources of Collinearity', Wiley, 1980. 244-261.\n",
      "   - Quinlan,R. (1993). Combining Instance-Based and Model-Based Learning. In Proceedings on the Tenth International Conference of Machine Learning, 236-243, University of Massachusetts, Amherst. Morgan Kaufmann.\n",
      "\n"
     ]
    }
   ],
   "source": [
    "#Find out what each variable signifies\n",
    "print (boston_df.DESCR)"
   ]
  },
  {
   "cell_type": "markdown",
   "metadata": {
    "colab_type": "text",
    "id": "QNLpci6Zk3jW"
   },
   "source": [
    "# Exploratory Data Analysis"
   ]
  },
  {
   "cell_type": "code",
   "execution_count": 0,
   "metadata": {
    "colab": {
     "base_uri": "https://localhost:8080/",
     "height": 296
    },
    "colab_type": "code",
    "executionInfo": {
     "elapsed": 1296,
     "status": "ok",
     "timestamp": 1587806161104,
     "user": {
      "displayName": "nitin sharma",
      "photoUrl": "https://lh3.googleusercontent.com/a-/AOh14GipRPAC1mJTCRiZJ4x-tY1PlsClex3KCAbs6gvQ6Q=s64",
      "userId": "13417507190894542789"
     },
     "user_tz": -330
    },
    "id": "4x3igaiZk3jX",
    "outputId": "697d870f-8679-4aac-b559-8b5a519515bb"
   },
   "outputs": [
    {
     "data": {
      "text/plain": [
       "Text(0, 0.5, 'Number of houses')"
      ]
     },
     "execution_count": 6,
     "metadata": {
      "tags": []
     },
     "output_type": "execute_result"
    },
    {
     "data": {
      "image/png": "[encoded data removed]",
      "text/plain": [
       "<Figure size 432x288 with 1 Axes>"
      ]
     },
     "metadata": {
      "needs_background": "light",
      "tags": []
     },
     "output_type": "display_data"
    }
   ],
   "source": [
    "#Find out how many houses are falling in each of price range\n",
    "plt.hist(df.Price,bins=100)\n",
    "plt.xlabel(\"Price of houses\")\n",
    "plt.ylabel(\"Number of houses\")"
   ]
  },
  {
   "cell_type": "code",
   "execution_count": 0,
   "metadata": {
    "colab": {
     "base_uri": "https://localhost:8080/",
     "height": 386
    },
    "colab_type": "code",
    "executionInfo": {
     "elapsed": 1531,
     "status": "ok",
     "timestamp": 1587806163773,
     "user": {
      "displayName": "nitin sharma",
      "photoUrl": "https://lh3.googleusercontent.com/a-/AOh14GipRPAC1mJTCRiZJ4x-tY1PlsClex3KCAbs6gvQ6Q=s64",
      "userId": "13417507190894542789"
     },
     "user_tz": -330
    },
    "id": "w7tP89YYk3lW",
    "outputId": "a74a7cc4-7e15-4498-94e8-3a66ee058c70"
   },
   "outputs": [
    {
     "data": {
      "text/plain": [
       "<seaborn.axisgrid.FacetGrid at 0x7f4b4dd07860>"
      ]
     },
     "execution_count": 7,
     "metadata": {
      "tags": []
     },
     "output_type": "execute_result"
    },
    {
     "data": {
      "image/png": "[encoded data removed]",
      "text/plain": [
       "<Figure size 360x360 with 1 Axes>"
      ]
     },
     "metadata": {
      "needs_background": "light",
      "tags": []
     },
     "output_type": "display_data"
    }
   ],
   "source": [
    "#Room numbers and Price as linearly correlated\n",
    "sns.lmplot('RM','Price',df)"
   ]
  },
  {
   "cell_type": "code",
   "execution_count": 0,
   "metadata": {
    "colab": {
     "base_uri": "https://localhost:8080/",
     "height": 386
    },
    "colab_type": "code",
    "executionInfo": {
     "elapsed": 1890,
     "status": "ok",
     "timestamp": 1587806179621,
     "user": {
      "displayName": "nitin sharma",
      "photoUrl": "https://lh3.googleusercontent.com/a-/AOh14GipRPAC1mJTCRiZJ4x-tY1PlsClex3KCAbs6gvQ6Q=s64",
      "userId": "13417507190894542789"
     },
     "user_tz": -330
    },
    "id": "G-1coXrQk3lb",
    "outputId": "3f913c5a-94dd-4874-ae3d-03715c1627ae"
   },
   "outputs": [
    {
     "data": {
      "text/plain": [
       "<seaborn.axisgrid.FacetGrid at 0x7f4b4d8055f8>"
      ]
     },
     "execution_count": 8,
     "metadata": {
      "tags": []
     },
     "output_type": "execute_result"
    },
    {
     "data": {
      "image/png": "[encoded data removed]",
      "text/plain": [
       "<Figure size 360x360 with 1 Axes>"
      ]
     },
     "metadata": {
      "needs_background": "light",
      "tags": []
     },
     "output_type": "display_data"
    }
   ],
   "source": [
    "#Age of the house and its price are negatively correlated\n",
    "sns.lmplot('AGE','Price',df)"
   ]
  },
  {
   "cell_type": "code",
   "execution_count": 0,
   "metadata": {
    "colab": {
     "base_uri": "https://localhost:8080/",
     "height": 386
    },
    "colab_type": "code",
    "executionInfo": {
     "elapsed": 1515,
     "status": "ok",
     "timestamp": 1587806184152,
     "user": {
      "displayName": "nitin sharma",
      "photoUrl": "https://lh3.googleusercontent.com/a-/AOh14GipRPAC1mJTCRiZJ4x-tY1PlsClex3KCAbs6gvQ6Q=s64",
      "userId": "13417507190894542789"
     },
     "user_tz": -330
    },
    "id": "BbiuLOmhk3li",
    "outputId": "9e4dc769-d96b-4f15-f528-65589a006efb"
   },
   "outputs": [
    {
     "data": {
      "text/plain": [
       "<seaborn.axisgrid.FacetGrid at 0x7f4b4af41438>"
      ]
     },
     "execution_count": 9,
     "metadata": {
      "tags": []
     },
     "output_type": "execute_result"
    },
    {
     "data": {
      "image/png": "[encoded data removed]",
      "text/plain": [
       "<Figure size 360x360 with 1 Axes>"
      ]
     },
     "metadata": {
      "needs_background": "light",
      "tags": []
     },
     "output_type": "display_data"
    }
   ],
   "source": [
    "#nitric oxides concentration and house price are negatively correlated\n",
    "sns.lmplot('NOX','Price',df)"
   ]
  },
  {
   "cell_type": "code",
   "execution_count": 0,
   "metadata": {
    "colab": {
     "base_uri": "https://localhost:8080/",
     "height": 386
    },
    "colab_type": "code",
    "executionInfo": {
     "elapsed": 1837,
     "status": "ok",
     "timestamp": 1587806187887,
     "user": {
      "displayName": "nitin sharma",
      "photoUrl": "https://lh3.googleusercontent.com/a-/AOh14GipRPAC1mJTCRiZJ4x-tY1PlsClex3KCAbs6gvQ6Q=s64",
      "userId": "13417507190894542789"
     },
     "user_tz": -330
    },
    "id": "K-lzeawXk3lk",
    "outputId": "b37c02f6-c443-4a44-cb10-87087061da43"
   },
   "outputs": [
    {
     "data": {
      "text/plain": [
       "<seaborn.axisgrid.FacetGrid at 0x7f4b4af209b0>"
      ]
     },
     "execution_count": 10,
     "metadata": {
      "tags": []
     },
     "output_type": "execute_result"
    },
    {
     "data": {
      "image/png": "[encoded data removed]",
      "text/plain": [
       "<Figure size 360x360 with 1 Axes>"
      ]
     },
     "metadata": {
      "needs_background": "light",
      "tags": []
     },
     "output_type": "display_data"
    }
   ],
   "source": [
    "#weighted distances to five Boston employment centres and Price are slightly correlated\n",
    "sns.lmplot('DIS','Price',df)"
   ]
  },
  {
   "cell_type": "code",
   "execution_count": 0,
   "metadata": {
    "colab": {},
    "colab_type": "code",
    "id": "BjYDHKWvk3lo"
   },
   "outputs": [],
   "source": [
    "#Seperate Dependant and Independant variables\n",
    "x = df.drop(columns=['Price'])\n",
    "y = df['Price']"
   ]
  },
  {
   "cell_type": "code",
   "execution_count": 0,
   "metadata": {
    "colab": {
     "base_uri": "https://localhost:8080/",
     "height": 318
    },
    "colab_type": "code",
    "executionInfo": {
     "elapsed": 1669,
     "status": "ok",
     "timestamp": 1587806191055,
     "user": {
      "displayName": "nitin sharma",
      "photoUrl": "https://lh3.googleusercontent.com/a-/AOh14GipRPAC1mJTCRiZJ4x-tY1PlsClex3KCAbs6gvQ6Q=s64",
      "userId": "13417507190894542789"
     },
     "user_tz": -330
    },
    "id": "sS46UEl6k3ls",
    "outputId": "4cc403b8-2e5c-4d3c-86e4-2b73e1a8a0c2"
   },
   "outputs": [
    {
     "data": {
      "text/plain": [
       "<matplotlib.axes._subplots.AxesSubplot at 0x7f4b4aeb4160>"
      ]
     },
     "execution_count": 12,
     "metadata": {
      "tags": []
     },
     "output_type": "execute_result"
    },
    {
     "data": {
      "image/png": "[encoded data removed]",
      "text/plain": [
       "<Figure size 432x288 with 2 Axes>"
      ]
     },
     "metadata": {
      "needs_background": "light",
      "tags": []
     },
     "output_type": "display_data"
    }
   ],
   "source": [
    "#Heat map of Correlation of variables\n",
    "corr = df.corr()\n",
    "sns.heatmap(corr, \n",
    "            xticklabels=corr.columns.values,\n",
    "            yticklabels=corr.columns.values,cmap='BuGn')"
   ]
  },
  {
   "cell_type": "code",
   "execution_count": 0,
   "metadata": {
    "colab": {
     "base_uri": "https://localhost:8080/",
     "height": 68
    },
    "colab_type": "code",
    "executionInfo": {
     "elapsed": 1447,
     "status": "ok",
     "timestamp": 1587806191056,
     "user": {
      "displayName": "nitin sharma",
      "photoUrl": "https://lh3.googleusercontent.com/a-/AOh14GipRPAC1mJTCRiZJ4x-tY1PlsClex3KCAbs6gvQ6Q=s64",
      "userId": "13417507190894542789"
     },
     "user_tz": -330
    },
    "id": "biilZ5QuREms",
    "outputId": "6ea3b6d7-4c98-4d6b-be66-606934b8b0fe"
   },
   "outputs": [
    {
     "data": {
      "text/plain": [
       "Index(['CRIM', 'ZN', 'INDUS', 'CHAS', 'NOX', 'RM', 'AGE', 'DIS', 'RAD', 'TAX',\n",
       "       'PTRATIO', 'B', 'LSTAT'],\n",
       "      dtype='object')"
      ]
     },
     "execution_count": 13,
     "metadata": {
      "tags": []
     },
     "output_type": "execute_result"
    }
   ],
   "source": [
    "# VIF for the data\n",
    "x.columns"
   ]
  },
  {
   "cell_type": "code",
   "execution_count": 0,
   "metadata": {
    "colab": {
     "base_uri": "https://localhost:8080/",
     "height": 54
    },
    "colab_type": "code",
    "executionInfo": {
     "elapsed": 1306,
     "status": "ok",
     "timestamp": 1586603239832,
     "user": {
      "displayName": "nitin sharma",
      "photoUrl": "https://lh3.googleusercontent.com/a-/AOh14GipRPAC1mJTCRiZJ4x-tY1PlsClex3KCAbs6gvQ6Q=s64",
      "userId": "13417507190894542789"
     },
     "user_tz": -330
    },
    "id": "LB1vNmj52Qf5",
    "outputId": "6c88dca4-857f-4185-dd1b-ff3116498a48"
   },
   "outputs": [
    {
     "data": {
      "text/plain": [
       "\"\\n\\nimport numpy as np\\nimport pandas as pd\\nimport time\\nfrom statsmodels.stats.outliers_influence import variance_inflation_factor    \\nfrom joblib import Parallel, delayed\\n\\n# Defining the function that you will run later\\ndef calculate_vif_(X, thresh=5.0):\\n    variables = [X.columns[i] for i in range(X.shape[1])]\\n    dropped=True\\n    while dropped:\\n        dropped=False\\n        print(len(variables))\\n        vif = Parallel(n_jobs=-1,verbose=5)(delayed(variance_inflation_factor)(X[variables].values, ix) for ix in range(len(variables)))\\n\\n        maxloc = vif.index(max(vif))\\n        print(vif) \\n        if max(vif) > thresh:\\n            print(time.ctime() + ' dropping '' + X[variables].columns[maxloc] + '' at index: ' + str(maxloc))\\n            variables.pop(maxloc)\\n            dropped=True\\n\\n    print('Remaining variables:')\\n    print([variables])\\n    return X[[i for i in variables]]\\n\""
      ]
     },
     "execution_count": 67,
     "metadata": {
      "tags": []
     },
     "output_type": "execute_result"
    }
   ],
   "source": [
    "'''\n",
    "\n",
    "import numpy as np\n",
    "import pandas as pd\n",
    "import time\n",
    "from statsmodels.stats.outliers_influence import variance_inflation_factor    \n",
    "from joblib import Parallel, delayed\n",
    "\n",
    "# Defining the function that you will run later\n",
    "def calculate_vif_(X, thresh=5.0):\n",
    "    variables = [X.columns[i] for i in range(X.shape[1])]\n",
    "    dropped=True\n",
    "    while dropped:\n",
    "        dropped=False\n",
    "        print(len(variables))\n",
    "        vif = Parallel(n_jobs=-1,verbose=5)(delayed(variance_inflation_factor)(X[variables].values, ix) for ix in range(len(variables)))\n",
    "\n",
    "        maxloc = vif.index(max(vif))\n",
    "        print(vif) \n",
    "        if max(vif) > thresh:\n",
    "            print(time.ctime() + ' dropping \\'' + X[variables].columns[maxloc] + '\\' at index: ' + str(maxloc))\n",
    "            variables.pop(maxloc)\n",
    "            dropped=True\n",
    "\n",
    "    print('Remaining variables:')\n",
    "    print([variables])\n",
    "    return X[[i for i in variables]]\n",
    "'''\n"
   ]
  },
  {
   "cell_type": "code",
   "execution_count": 0,
   "metadata": {
    "colab": {
     "base_uri": "https://localhost:8080/",
     "height": 34
    },
    "colab_type": "code",
    "executionInfo": {
     "elapsed": 1064,
     "status": "ok",
     "timestamp": 1586603239832,
     "user": {
      "displayName": "nitin sharma",
      "photoUrl": "https://lh3.googleusercontent.com/a-/AOh14GipRPAC1mJTCRiZJ4x-tY1PlsClex3KCAbs6gvQ6Q=s64",
      "userId": "13417507190894542789"
     },
     "user_tz": -330
    },
    "id": "mCfmNbxc2X-a",
    "outputId": "9bf50f2e-d255-4c33-9cc1-50c6826562cf"
   },
   "outputs": [
    {
     "data": {
      "text/plain": [
       "'\\nX = x.copy(deep=True)\\nx = calculate_vif_(X,8)\\n'"
      ]
     },
     "execution_count": 68,
     "metadata": {
      "tags": []
     },
     "output_type": "execute_result"
    }
   ],
   "source": [
    "'''\n",
    "X = x.copy(deep=True)\n",
    "x = calculate_vif_(X,8)\n",
    "'''"
   ]
  },
  {
   "cell_type": "code",
   "execution_count": 0,
   "metadata": {
    "colab": {
     "base_uri": "https://localhost:8080/",
     "height": 68
    },
    "colab_type": "code",
    "executionInfo": {
     "elapsed": 759,
     "status": "ok",
     "timestamp": 1586603241825,
     "user": {
      "displayName": "nitin sharma",
      "photoUrl": "https://lh3.googleusercontent.com/a-/AOh14GipRPAC1mJTCRiZJ4x-tY1PlsClex3KCAbs6gvQ6Q=s64",
      "userId": "13417507190894542789"
     },
     "user_tz": -330
    },
    "id": "sluyU7Fk2gu6",
    "outputId": "25a345f3-7c2d-49d2-85e4-4be67e2055c8"
   },
   "outputs": [
    {
     "data": {
      "text/plain": [
       "Index(['CRIM', 'ZN', 'INDUS', 'CHAS', 'NOX', 'RM', 'AGE', 'DIS', 'RAD', 'TAX',\n",
       "       'PTRATIO', 'B', 'LSTAT'],\n",
       "      dtype='object')"
      ]
     },
     "execution_count": 69,
     "metadata": {
      "tags": []
     },
     "output_type": "execute_result"
    }
   ],
   "source": [
    "x.columns"
   ]
  },
  {
   "cell_type": "code",
   "execution_count": 0,
   "metadata": {
    "colab": {},
    "colab_type": "code",
    "id": "hLKY3ZJm2QiH"
   },
   "outputs": [],
   "source": [
    "'''\n",
    "pca = PCA(n_components=0.98)\n",
    "x_transformed = pca.fit_transform(x)\n",
    "x_trans = pd.DataFrame(x_transformed)\n",
    "'''"
   ]
  },
  {
   "cell_type": "code",
   "execution_count": 0,
   "metadata": {
    "colab": {},
    "colab_type": "code",
    "id": "F2pjc8CKBcgX"
   },
   "outputs": [],
   "source": [
    "0,1,2,3,4,5,6,7,8\n",
    "0,1,4,9,16,25,36,49,64"
   ]
  },
  {
   "cell_type": "code",
   "execution_count": 0,
   "metadata": {
    "colab": {
     "base_uri": "https://localhost:8080/",
     "height": 419
    },
    "colab_type": "code",
    "executionInfo": {
     "elapsed": 1155,
     "status": "ok",
     "timestamp": 1586604377116,
     "user": {
      "displayName": "nitin sharma",
      "photoUrl": "https://lh3.googleusercontent.com/a-/AOh14GipRPAC1mJTCRiZJ4x-tY1PlsClex3KCAbs6gvQ6Q=s64",
      "userId": "13417507190894542789"
     },
     "user_tz": -330
    },
    "id": "Kc5lypqM_UvY",
    "outputId": "3a5ae482-1563-4819-c5c8-70dad86f7794"
   },
   "outputs": [
    {
     "data": {
      "text/html": [
       "<div>\n",
       "<style scoped>\n",
       "    .dataframe tbody tr th:only-of-type {\n",
       "        vertical-align: middle;\n",
       "    }\n",
       "\n",
       "    .dataframe tbody tr th {\n",
       "        vertical-align: top;\n",
       "    }\n",
       "\n",
       "    .dataframe thead th {\n",
       "        text-align: right;\n",
       "    }\n",
       "</style>\n",
       "<table border=\"1\" class=\"dataframe\">\n",
       "  <thead>\n",
       "    <tr style=\"text-align: right;\">\n",
       "      <th></th>\n",
       "      <th>0</th>\n",
       "      <th>1</th>\n",
       "      <th>2</th>\n",
       "    </tr>\n",
       "  </thead>\n",
       "  <tbody>\n",
       "    <tr>\n",
       "      <th>0</th>\n",
       "      <td>-119.818843</td>\n",
       "      <td>-5.560056</td>\n",
       "      <td>-3.172693</td>\n",
       "    </tr>\n",
       "    <tr>\n",
       "      <th>1</th>\n",
       "      <td>-168.890155</td>\n",
       "      <td>10.116209</td>\n",
       "      <td>-30.781887</td>\n",
       "    </tr>\n",
       "    <tr>\n",
       "      <th>2</th>\n",
       "      <td>-169.311707</td>\n",
       "      <td>14.080532</td>\n",
       "      <td>-16.753628</td>\n",
       "    </tr>\n",
       "    <tr>\n",
       "      <th>3</th>\n",
       "      <td>-190.230642</td>\n",
       "      <td>18.302463</td>\n",
       "      <td>-6.534195</td>\n",
       "    </tr>\n",
       "    <tr>\n",
       "      <th>4</th>\n",
       "      <td>-190.133451</td>\n",
       "      <td>16.097947</td>\n",
       "      <td>-13.158520</td>\n",
       "    </tr>\n",
       "    <tr>\n",
       "      <th>...</th>\n",
       "      <td>...</td>\n",
       "      <td>...</td>\n",
       "      <td>...</td>\n",
       "    </tr>\n",
       "    <tr>\n",
       "      <th>501</th>\n",
       "      <td>-138.697933</td>\n",
       "      <td>5.781485</td>\n",
       "      <td>-20.978012</td>\n",
       "    </tr>\n",
       "    <tr>\n",
       "      <th>502</th>\n",
       "      <td>-139.504439</td>\n",
       "      <td>1.039389</td>\n",
       "      <td>-26.794150</td>\n",
       "    </tr>\n",
       "    <tr>\n",
       "      <th>503</th>\n",
       "      <td>-138.387163</td>\n",
       "      <td>0.938092</td>\n",
       "      <td>-37.285181</td>\n",
       "    </tr>\n",
       "    <tr>\n",
       "      <th>504</th>\n",
       "      <td>-137.505173</td>\n",
       "      <td>4.251825</td>\n",
       "      <td>-35.988342</td>\n",
       "    </tr>\n",
       "    <tr>\n",
       "      <th>505</th>\n",
       "      <td>-139.190333</td>\n",
       "      <td>1.009064</td>\n",
       "      <td>-29.772432</td>\n",
       "    </tr>\n",
       "  </tbody>\n",
       "</table>\n",
       "<p>506 rows × 3 columns</p>\n",
       "</div>"
      ],
      "text/plain": [
       "              0          1          2\n",
       "0   -119.818843  -5.560056  -3.172693\n",
       "1   -168.890155  10.116209 -30.781887\n",
       "2   -169.311707  14.080532 -16.753628\n",
       "3   -190.230642  18.302463  -6.534195\n",
       "4   -190.133451  16.097947 -13.158520\n",
       "..          ...        ...        ...\n",
       "501 -138.697933   5.781485 -20.978012\n",
       "502 -139.504439   1.039389 -26.794150\n",
       "503 -138.387163   0.938092 -37.285181\n",
       "504 -137.505173   4.251825 -35.988342\n",
       "505 -139.190333   1.009064 -29.772432\n",
       "\n",
       "[506 rows x 3 columns]"
      ]
     },
     "execution_count": 82,
     "metadata": {
      "tags": []
     },
     "output_type": "execute_result"
    }
   ],
   "source": [
    "x_trans"
   ]
  },
  {
   "cell_type": "code",
   "execution_count": 0,
   "metadata": {
    "colab": {
     "base_uri": "https://localhost:8080/",
     "height": 419
    },
    "colab_type": "code",
    "executionInfo": {
     "elapsed": 1145,
     "status": "ok",
     "timestamp": 1586604385291,
     "user": {
      "displayName": "nitin sharma",
      "photoUrl": "https://lh3.googleusercontent.com/a-/AOh14GipRPAC1mJTCRiZJ4x-tY1PlsClex3KCAbs6gvQ6Q=s64",
      "userId": "13417507190894542789"
     },
     "user_tz": -330
    },
    "id": "vGr0yIRP_ZTo",
    "outputId": "ecbc9763-ea40-42ea-8fda-2be7c7045d7c"
   },
   "outputs": [
    {
     "data": {
      "text/html": [
       "<div>\n",
       "<style scoped>\n",
       "    .dataframe tbody tr th:only-of-type {\n",
       "        vertical-align: middle;\n",
       "    }\n",
       "\n",
       "    .dataframe tbody tr th {\n",
       "        vertical-align: top;\n",
       "    }\n",
       "\n",
       "    .dataframe thead th {\n",
       "        text-align: right;\n",
       "    }\n",
       "</style>\n",
       "<table border=\"1\" class=\"dataframe\">\n",
       "  <thead>\n",
       "    <tr style=\"text-align: right;\">\n",
       "      <th></th>\n",
       "      <th>CRIM</th>\n",
       "      <th>ZN</th>\n",
       "      <th>INDUS</th>\n",
       "      <th>CHAS</th>\n",
       "      <th>NOX</th>\n",
       "      <th>RM</th>\n",
       "      <th>AGE</th>\n",
       "      <th>DIS</th>\n",
       "      <th>RAD</th>\n",
       "      <th>TAX</th>\n",
       "      <th>PTRATIO</th>\n",
       "      <th>B</th>\n",
       "      <th>LSTAT</th>\n",
       "    </tr>\n",
       "  </thead>\n",
       "  <tbody>\n",
       "    <tr>\n",
       "      <th>0</th>\n",
       "      <td>0.00632</td>\n",
       "      <td>18.0</td>\n",
       "      <td>2.31</td>\n",
       "      <td>0.0</td>\n",
       "      <td>0.538</td>\n",
       "      <td>6.575</td>\n",
       "      <td>65.2</td>\n",
       "      <td>4.0900</td>\n",
       "      <td>1.0</td>\n",
       "      <td>296.0</td>\n",
       "      <td>15.3</td>\n",
       "      <td>396.90</td>\n",
       "      <td>4.98</td>\n",
       "    </tr>\n",
       "    <tr>\n",
       "      <th>1</th>\n",
       "      <td>0.02731</td>\n",
       "      <td>0.0</td>\n",
       "      <td>7.07</td>\n",
       "      <td>0.0</td>\n",
       "      <td>0.469</td>\n",
       "      <td>6.421</td>\n",
       "      <td>78.9</td>\n",
       "      <td>4.9671</td>\n",
       "      <td>2.0</td>\n",
       "      <td>242.0</td>\n",
       "      <td>17.8</td>\n",
       "      <td>396.90</td>\n",
       "      <td>9.14</td>\n",
       "    </tr>\n",
       "    <tr>\n",
       "      <th>2</th>\n",
       "      <td>0.02729</td>\n",
       "      <td>0.0</td>\n",
       "      <td>7.07</td>\n",
       "      <td>0.0</td>\n",
       "      <td>0.469</td>\n",
       "      <td>7.185</td>\n",
       "      <td>61.1</td>\n",
       "      <td>4.9671</td>\n",
       "      <td>2.0</td>\n",
       "      <td>242.0</td>\n",
       "      <td>17.8</td>\n",
       "      <td>392.83</td>\n",
       "      <td>4.03</td>\n",
       "    </tr>\n",
       "    <tr>\n",
       "      <th>3</th>\n",
       "      <td>0.03237</td>\n",
       "      <td>0.0</td>\n",
       "      <td>2.18</td>\n",
       "      <td>0.0</td>\n",
       "      <td>0.458</td>\n",
       "      <td>6.998</td>\n",
       "      <td>45.8</td>\n",
       "      <td>6.0622</td>\n",
       "      <td>3.0</td>\n",
       "      <td>222.0</td>\n",
       "      <td>18.7</td>\n",
       "      <td>394.63</td>\n",
       "      <td>2.94</td>\n",
       "    </tr>\n",
       "    <tr>\n",
       "      <th>4</th>\n",
       "      <td>0.06905</td>\n",
       "      <td>0.0</td>\n",
       "      <td>2.18</td>\n",
       "      <td>0.0</td>\n",
       "      <td>0.458</td>\n",
       "      <td>7.147</td>\n",
       "      <td>54.2</td>\n",
       "      <td>6.0622</td>\n",
       "      <td>3.0</td>\n",
       "      <td>222.0</td>\n",
       "      <td>18.7</td>\n",
       "      <td>396.90</td>\n",
       "      <td>5.33</td>\n",
       "    </tr>\n",
       "    <tr>\n",
       "      <th>...</th>\n",
       "      <td>...</td>\n",
       "      <td>...</td>\n",
       "      <td>...</td>\n",
       "      <td>...</td>\n",
       "      <td>...</td>\n",
       "      <td>...</td>\n",
       "      <td>...</td>\n",
       "      <td>...</td>\n",
       "      <td>...</td>\n",
       "      <td>...</td>\n",
       "      <td>...</td>\n",
       "      <td>...</td>\n",
       "      <td>...</td>\n",
       "    </tr>\n",
       "    <tr>\n",
       "      <th>501</th>\n",
       "      <td>0.06263</td>\n",
       "      <td>0.0</td>\n",
       "      <td>11.93</td>\n",
       "      <td>0.0</td>\n",
       "      <td>0.573</td>\n",
       "      <td>6.593</td>\n",
       "      <td>69.1</td>\n",
       "      <td>2.4786</td>\n",
       "      <td>1.0</td>\n",
       "      <td>273.0</td>\n",
       "      <td>21.0</td>\n",
       "      <td>391.99</td>\n",
       "      <td>9.67</td>\n",
       "    </tr>\n",
       "    <tr>\n",
       "      <th>502</th>\n",
       "      <td>0.04527</td>\n",
       "      <td>0.0</td>\n",
       "      <td>11.93</td>\n",
       "      <td>0.0</td>\n",
       "      <td>0.573</td>\n",
       "      <td>6.120</td>\n",
       "      <td>76.7</td>\n",
       "      <td>2.2875</td>\n",
       "      <td>1.0</td>\n",
       "      <td>273.0</td>\n",
       "      <td>21.0</td>\n",
       "      <td>396.90</td>\n",
       "      <td>9.08</td>\n",
       "    </tr>\n",
       "    <tr>\n",
       "      <th>503</th>\n",
       "      <td>0.06076</td>\n",
       "      <td>0.0</td>\n",
       "      <td>11.93</td>\n",
       "      <td>0.0</td>\n",
       "      <td>0.573</td>\n",
       "      <td>6.976</td>\n",
       "      <td>91.0</td>\n",
       "      <td>2.1675</td>\n",
       "      <td>1.0</td>\n",
       "      <td>273.0</td>\n",
       "      <td>21.0</td>\n",
       "      <td>396.90</td>\n",
       "      <td>5.64</td>\n",
       "    </tr>\n",
       "    <tr>\n",
       "      <th>504</th>\n",
       "      <td>0.10959</td>\n",
       "      <td>0.0</td>\n",
       "      <td>11.93</td>\n",
       "      <td>0.0</td>\n",
       "      <td>0.573</td>\n",
       "      <td>6.794</td>\n",
       "      <td>89.3</td>\n",
       "      <td>2.3889</td>\n",
       "      <td>1.0</td>\n",
       "      <td>273.0</td>\n",
       "      <td>21.0</td>\n",
       "      <td>393.45</td>\n",
       "      <td>6.48</td>\n",
       "    </tr>\n",
       "    <tr>\n",
       "      <th>505</th>\n",
       "      <td>0.04741</td>\n",
       "      <td>0.0</td>\n",
       "      <td>11.93</td>\n",
       "      <td>0.0</td>\n",
       "      <td>0.573</td>\n",
       "      <td>6.030</td>\n",
       "      <td>80.8</td>\n",
       "      <td>2.5050</td>\n",
       "      <td>1.0</td>\n",
       "      <td>273.0</td>\n",
       "      <td>21.0</td>\n",
       "      <td>396.90</td>\n",
       "      <td>7.88</td>\n",
       "    </tr>\n",
       "  </tbody>\n",
       "</table>\n",
       "<p>506 rows × 13 columns</p>\n",
       "</div>"
      ],
      "text/plain": [
       "        CRIM    ZN  INDUS  CHAS    NOX  ...  RAD    TAX  PTRATIO       B  LSTAT\n",
       "0    0.00632  18.0   2.31   0.0  0.538  ...  1.0  296.0     15.3  396.90   4.98\n",
       "1    0.02731   0.0   7.07   0.0  0.469  ...  2.0  242.0     17.8  396.90   9.14\n",
       "2    0.02729   0.0   7.07   0.0  0.469  ...  2.0  242.0     17.8  392.83   4.03\n",
       "3    0.03237   0.0   2.18   0.0  0.458  ...  3.0  222.0     18.7  394.63   2.94\n",
       "4    0.06905   0.0   2.18   0.0  0.458  ...  3.0  222.0     18.7  396.90   5.33\n",
       "..       ...   ...    ...   ...    ...  ...  ...    ...      ...     ...    ...\n",
       "501  0.06263   0.0  11.93   0.0  0.573  ...  1.0  273.0     21.0  391.99   9.67\n",
       "502  0.04527   0.0  11.93   0.0  0.573  ...  1.0  273.0     21.0  396.90   9.08\n",
       "503  0.06076   0.0  11.93   0.0  0.573  ...  1.0  273.0     21.0  396.90   5.64\n",
       "504  0.10959   0.0  11.93   0.0  0.573  ...  1.0  273.0     21.0  393.45   6.48\n",
       "505  0.04741   0.0  11.93   0.0  0.573  ...  1.0  273.0     21.0  396.90   7.88\n",
       "\n",
       "[506 rows x 13 columns]"
      ]
     },
     "execution_count": 83,
     "metadata": {
      "tags": []
     },
     "output_type": "execute_result"
    }
   ],
   "source": [
    "x"
   ]
  },
  {
   "cell_type": "code",
   "execution_count": 0,
   "metadata": {
    "colab": {},
    "colab_type": "code",
    "id": "nCruFi5Fk3lu"
   },
   "outputs": [],
   "source": [
    "#Split our data set into train and test data set\n",
    "xtrain, xtest, ytrain, ytest = train_test_split(x, y, test_size = 0.3, random_state=111 )\n",
    "#xtrain, xtest, ytrain, ytest = train_test_split(x_trans, y, test_size = 0.3, random_state=111 )#"
   ]
  },
  {
   "cell_type": "code",
   "execution_count": 0,
   "metadata": {
    "colab": {
     "base_uri": "https://localhost:8080/",
     "height": 85
    },
    "colab_type": "code",
    "executionInfo": {
     "elapsed": 1204,
     "status": "ok",
     "timestamp": 1587806554728,
     "user": {
      "displayName": "nitin sharma",
      "photoUrl": "https://lh3.googleusercontent.com/a-/AOh14GipRPAC1mJTCRiZJ4x-tY1PlsClex3KCAbs6gvQ6Q=s64",
      "userId": "13417507190894542789"
     },
     "user_tz": -330
    },
    "id": "F9wYoQkgk3lz",
    "outputId": "5775e0c5-60e7-4c09-b07b-9185f0db1357"
   },
   "outputs": [
    {
     "name": "stdout",
     "output_type": "stream",
     "text": [
      "(354, 13)\n",
      "(354,)\n",
      "(152, 13)\n",
      "(152,)\n"
     ]
    }
   ],
   "source": [
    "print(xtrain.shape)\n",
    "print(ytrain.shape)\n",
    "print(xtest.shape)\n",
    "print(ytest.shape)"
   ]
  },
  {
   "cell_type": "code",
   "execution_count": 0,
   "metadata": {
    "colab": {
     "base_uri": "https://localhost:8080/",
     "height": 34
    },
    "colab_type": "code",
    "executionInfo": {
     "elapsed": 1189,
     "status": "ok",
     "timestamp": 1587806561550,
     "user": {
      "displayName": "nitin sharma",
      "photoUrl": "https://lh3.googleusercontent.com/a-/AOh14GipRPAC1mJTCRiZJ4x-tY1PlsClex3KCAbs6gvQ6Q=s64",
      "userId": "13417507190894542789"
     },
     "user_tz": -330
    },
    "id": "l04g5FgFQPmH",
    "outputId": "9f3be802-8292-4b17-b434-47e01fa3f079"
   },
   "outputs": [
    {
     "data": {
      "text/plain": [
       "506"
      ]
     },
     "execution_count": 17,
     "metadata": {
      "tags": []
     },
     "output_type": "execute_result"
    }
   ],
   "source": [
    "xtrain.shape[0] + xtest.shape[0]"
   ]
  },
  {
   "cell_type": "markdown",
   "metadata": {
    "colab_type": "text",
    "id": "iyTPjrZQk3l1"
   },
   "source": [
    "# Linear Regression model Implementation"
   ]
  },
  {
   "cell_type": "code",
   "execution_count": 0,
   "metadata": {
    "colab": {},
    "colab_type": "code",
    "id": "CgF8EsjBpX_-"
   },
   "outputs": [],
   "source": [
    "import statsmodels.api as sm"
   ]
  },
  {
   "cell_type": "code",
   "execution_count": 0,
   "metadata": {
    "colab": {},
    "colab_type": "code",
    "id": "tWsdOVz7pdF4"
   },
   "outputs": [],
   "source": [
    "mod = sm.OLS(ytrain, xtrain)"
   ]
  },
  {
   "cell_type": "code",
   "execution_count": 0,
   "metadata": {
    "colab": {},
    "colab_type": "code",
    "id": "5Nfft_ZEppkV"
   },
   "outputs": [],
   "source": [
    "res = mod.fit()"
   ]
  },
  {
   "cell_type": "code",
   "execution_count": 0,
   "metadata": {
    "colab": {
     "base_uri": "https://localhost:8080/",
     "height": 663
    },
    "colab_type": "code",
    "executionInfo": {
     "elapsed": 1354,
     "status": "ok",
     "timestamp": 1587806685636,
     "user": {
      "displayName": "nitin sharma",
      "photoUrl": "https://lh3.googleusercontent.com/a-/AOh14GipRPAC1mJTCRiZJ4x-tY1PlsClex3KCAbs6gvQ6Q=s64",
      "userId": "13417507190894542789"
     },
     "user_tz": -330
    },
    "id": "xhfywhptpwLL",
    "outputId": "dd6ba7dd-dccc-43ce-e28a-124786f97b6e"
   },
   "outputs": [
    {
     "name": "stdout",
     "output_type": "stream",
     "text": [
      "                                 OLS Regression Results                                \n",
      "=======================================================================================\n",
      "Dep. Variable:                  Price   R-squared (uncentered):                   0.962\n",
      "Model:                            OLS   Adj. R-squared (uncentered):              0.960\n",
      "Method:                 Least Squares   F-statistic:                              661.7\n",
      "Date:                Sat, 25 Apr 2020   Prob (F-statistic):                   7.56e-233\n",
      "Time:                        09:24:44   Log-Likelihood:                         -1048.2\n",
      "No. Observations:                 354   AIC:                                      2122.\n",
      "Df Residuals:                     341   BIC:                                      2173.\n",
      "Df Model:                          13                                                  \n",
      "Covariance Type:            nonrobust                                                  \n",
      "==============================================================================\n",
      "                 coef    std err          t      P>|t|      [0.025      0.975]\n",
      "------------------------------------------------------------------------------\n",
      "CRIM          -0.0759      0.048     -1.598      0.111      -0.169       0.018\n",
      "ZN             0.0424      0.018      2.390      0.017       0.007       0.077\n",
      "INDUS         -0.0035      0.076     -0.047      0.963      -0.152       0.145\n",
      "CHAS           1.3208      1.012      1.305      0.193      -0.670       3.312\n",
      "NOX            0.0871      3.948      0.022      0.982      -7.679       7.853\n",
      "RM             5.7743      0.362     15.964      0.000       5.063       6.486\n",
      "AGE           -0.0178      0.015     -1.163      0.246      -0.048       0.012\n",
      "DIS           -0.8414      0.219     -3.848      0.000      -1.272      -0.411\n",
      "RAD            0.1065      0.075      1.417      0.157      -0.041       0.254\n",
      "TAX           -0.0078      0.005     -1.724      0.086      -0.017       0.001\n",
      "PTRATIO       -0.4111      0.130     -3.157      0.002      -0.667      -0.155\n",
      "B              0.0154      0.003      4.933      0.000       0.009       0.021\n",
      "LSTAT         -0.4411      0.058     -7.618      0.000      -0.555      -0.327\n",
      "==============================================================================\n",
      "Omnibus:                      171.561   Durbin-Watson:                   2.024\n",
      "Prob(Omnibus):                  0.000   Jarque-Bera (JB):             1590.162\n",
      "Skew:                           1.801   Prob(JB):                         0.00\n",
      "Kurtosis:                      12.738   Cond. No.                     8.81e+03\n",
      "==============================================================================\n",
      "\n",
      "Warnings:\n",
      "[1] Standard Errors assume that the covariance matrix of the errors is correctly specified.\n",
      "[2] The condition number is large, 8.81e+03. This might indicate that there are\n",
      "strong multicollinearity or other numerical problems.\n"
     ]
    }
   ],
   "source": [
    "print(res.summary())"
   ]
  },
  {
   "cell_type": "code",
   "execution_count": 0,
   "metadata": {
    "colab": {},
    "colab_type": "code",
    "id": "3X2TTl1XsOXG"
   },
   "outputs": [],
   "source": [
    "y_pred = res.predict(xtest)"
   ]
  },
  {
   "cell_type": "code",
   "execution_count": 0,
   "metadata": {
    "colab": {
     "base_uri": "https://localhost:8080/",
     "height": 34
    },
    "colab_type": "code",
    "executionInfo": {
     "elapsed": 1205,
     "status": "ok",
     "timestamp": 1587807419105,
     "user": {
      "displayName": "nitin sharma",
      "photoUrl": "https://lh3.googleusercontent.com/a-/AOh14GipRPAC1mJTCRiZJ4x-tY1PlsClex3KCAbs6gvQ6Q=s64",
      "userId": "13417507190894542789"
     },
     "user_tz": -330
    },
    "id": "MofFnSeosUlG",
    "outputId": "40b16098-e197-475b-ab91-0f4d45c4c210"
   },
   "outputs": [
    {
     "data": {
      "text/plain": [
       "30.995385439974573"
      ]
     },
     "execution_count": 26,
     "metadata": {
      "tags": []
     },
     "output_type": "execute_result"
    }
   ],
   "source": [
    "metrics.mean_squared_error(y_pred,ytest)"
   ]
  },
  {
   "cell_type": "code",
   "execution_count": 0,
   "metadata": {
    "colab": {},
    "colab_type": "code",
    "id": "A0EsfWw7k3l2"
   },
   "outputs": [],
   "source": [
    "\n",
    "lr = LinearRegression()\n",
    "lr = lr.fit(xtrain, ytrain)"
   ]
  },
  {
   "cell_type": "code",
   "execution_count": 0,
   "metadata": {
    "colab": {
     "base_uri": "https://localhost:8080/",
     "height": 34
    },
    "colab_type": "code",
    "executionInfo": {
     "elapsed": 875,
     "status": "ok",
     "timestamp": 1586603423240,
     "user": {
      "displayName": "nitin sharma",
      "photoUrl": "https://lh3.googleusercontent.com/a-/AOh14GipRPAC1mJTCRiZJ4x-tY1PlsClex3KCAbs6gvQ6Q=s64",
      "userId": "13417507190894542789"
     },
     "user_tz": -330
    },
    "id": "A1nREXDSk3l4",
    "outputId": "4e1ea484-a3e5-41b8-e857-79761e54c20e"
   },
   "outputs": [
    {
     "data": {
      "text/plain": [
       "22.465189904701358"
      ]
     },
     "execution_count": 77,
     "metadata": {
      "tags": []
     },
     "output_type": "execute_result"
    }
   ],
   "source": [
    "#Find out intercept of model\n",
    "lr.intercept_"
   ]
  },
  {
   "cell_type": "code",
   "execution_count": 0,
   "metadata": {
    "colab": {
     "base_uri": "https://localhost:8080/",
     "height": 102
    },
    "colab_type": "code",
    "executionInfo": {
     "elapsed": 709,
     "status": "ok",
     "timestamp": 1586603424985,
     "user": {
      "displayName": "nitin sharma",
      "photoUrl": "https://lh3.googleusercontent.com/a-/AOh14GipRPAC1mJTCRiZJ4x-tY1PlsClex3KCAbs6gvQ6Q=s64",
      "userId": "13417507190894542789"
     },
     "user_tz": -330
    },
    "id": "HBFa6mLlk3l7",
    "outputId": "2cb46ea9-7b36-4414-e4a6-bda2b02c84a2"
   },
   "outputs": [
    {
     "name": "stdout",
     "output_type": "stream",
     "text": [
      "3\n",
      "[-0.02532177 -0.00853561  0.07596095]\n",
      "Index(['CRIM', 'ZN', 'INDUS', 'CHAS', 'NOX', 'RM', 'AGE', 'DIS', 'RAD', 'TAX',\n",
      "       'PTRATIO', 'B', 'LSTAT', 'Price'],\n",
      "      dtype='object')\n"
     ]
    }
   ],
   "source": [
    "#Find out coeffcients of the model\n",
    "print(len(lr.coef_))\n",
    "print(lr.coef_)\n",
    "print(df.columns)"
   ]
  },
  {
   "cell_type": "code",
   "execution_count": 0,
   "metadata": {
    "colab": {},
    "colab_type": "code",
    "id": "hNtBRY6-k3mB"
   },
   "outputs": [],
   "source": [
    "#Create a data frame to find out coefficients of variables\n",
    "coeffdf = pd.DataFrame(lr.coef_, x.columns, columns=['Coefficients'])"
   ]
  },
  {
   "cell_type": "code",
   "execution_count": 0,
   "metadata": {
    "colab": {
     "base_uri": "https://localhost:8080/",
     "height": 266
    },
    "colab_type": "code",
    "executionInfo": {
     "elapsed": 729,
     "status": "ok",
     "timestamp": 1586602480764,
     "user": {
      "displayName": "nitin sharma",
      "photoUrl": "https://lh3.googleusercontent.com/a-/AOh14GipRPAC1mJTCRiZJ4x-tY1PlsClex3KCAbs6gvQ6Q=s64",
      "userId": "13417507190894542789"
     },
     "user_tz": -330
    },
    "id": "rvaodZKOk3mE",
    "outputId": "ba0fd9b8-e304-44f6-aa6c-36fd972f0d25"
   },
   "outputs": [
    {
     "data": {
      "text/html": [
       "<div>\n",
       "<style scoped>\n",
       "    .dataframe tbody tr th:only-of-type {\n",
       "        vertical-align: middle;\n",
       "    }\n",
       "\n",
       "    .dataframe tbody tr th {\n",
       "        vertical-align: top;\n",
       "    }\n",
       "\n",
       "    .dataframe thead th {\n",
       "        text-align: right;\n",
       "    }\n",
       "</style>\n",
       "<table border=\"1\" class=\"dataframe\">\n",
       "  <thead>\n",
       "    <tr style=\"text-align: right;\">\n",
       "      <th></th>\n",
       "      <th>Coefficients</th>\n",
       "    </tr>\n",
       "  </thead>\n",
       "  <tbody>\n",
       "    <tr>\n",
       "      <th>CRIM</th>\n",
       "      <td>-0.138865</td>\n",
       "    </tr>\n",
       "    <tr>\n",
       "      <th>ZN</th>\n",
       "      <td>0.083614</td>\n",
       "    </tr>\n",
       "    <tr>\n",
       "      <th>INDUS</th>\n",
       "      <td>-0.261729</td>\n",
       "    </tr>\n",
       "    <tr>\n",
       "      <th>CHAS</th>\n",
       "      <td>3.205088</td>\n",
       "    </tr>\n",
       "    <tr>\n",
       "      <th>DIS</th>\n",
       "      <td>-1.560520</td>\n",
       "    </tr>\n",
       "    <tr>\n",
       "      <th>RAD</th>\n",
       "      <td>0.006814</td>\n",
       "    </tr>\n",
       "    <tr>\n",
       "      <th>LSTAT</th>\n",
       "      <td>-0.858025</td>\n",
       "    </tr>\n",
       "  </tbody>\n",
       "</table>\n",
       "</div>"
      ],
      "text/plain": [
       "       Coefficients\n",
       "CRIM      -0.138865\n",
       "ZN         0.083614\n",
       "INDUS     -0.261729\n",
       "CHAS       3.205088\n",
       "DIS       -1.560520\n",
       "RAD        0.006814\n",
       "LSTAT     -0.858025"
      ]
     },
     "execution_count": 30,
     "metadata": {
      "tags": []
     },
     "output_type": "execute_result"
    }
   ],
   "source": [
    "coeffdf"
   ]
  },
  {
   "cell_type": "code",
   "execution_count": 0,
   "metadata": {
    "colab": {
     "base_uri": "https://localhost:8080/",
     "height": 34
    },
    "colab_type": "code",
    "executionInfo": {
     "elapsed": 1141,
     "status": "ok",
     "timestamp": 1586603437698,
     "user": {
      "displayName": "nitin sharma",
      "photoUrl": "https://lh3.googleusercontent.com/a-/AOh14GipRPAC1mJTCRiZJ4x-tY1PlsClex3KCAbs6gvQ6Q=s64",
      "userId": "13417507190894542789"
     },
     "user_tz": -330
    },
    "id": "k4bz6Isok3mK",
    "outputId": "f2cfbc0d-3f20-4563-bf35-dac112aa6c06"
   },
   "outputs": [
    {
     "data": {
      "text/plain": [
       "0.3140638020443165"
      ]
     },
     "execution_count": 79,
     "metadata": {
      "tags": []
     },
     "output_type": "execute_result"
    }
   ],
   "source": [
    "#Find out performance of model on train set\n",
    "lr.score(xtrain, ytrain)"
   ]
  },
  {
   "cell_type": "code",
   "execution_count": 0,
   "metadata": {
    "colab": {
     "base_uri": "https://localhost:8080/",
     "height": 34
    },
    "colab_type": "code",
    "executionInfo": {
     "elapsed": 786,
     "status": "ok",
     "timestamp": 1586603439583,
     "user": {
      "displayName": "nitin sharma",
      "photoUrl": "https://lh3.googleusercontent.com/a-/AOh14GipRPAC1mJTCRiZJ4x-tY1PlsClex3KCAbs6gvQ6Q=s64",
      "userId": "13417507190894542789"
     },
     "user_tz": -330
    },
    "id": "tSy1I3fXk3mN",
    "outputId": "ca5b04c2-82f0-4eb9-de52-fa9dafe18b66"
   },
   "outputs": [
    {
     "data": {
      "text/plain": [
       "0.2333202901404613"
      ]
     },
     "execution_count": 80,
     "metadata": {
      "tags": []
     },
     "output_type": "execute_result"
    }
   ],
   "source": [
    "#Find out performance of model on test set\n",
    "lr.score(xtest, ytest)"
   ]
  },
  {
   "cell_type": "code",
   "execution_count": 0,
   "metadata": {
    "colab": {},
    "colab_type": "code",
    "id": "ckVIwX4Sk3mQ"
   },
   "outputs": [],
   "source": [
    "#Predict on test data set using the model\n",
    "pred = lr.predict(xtest)"
   ]
  },
  {
   "cell_type": "code",
   "execution_count": 0,
   "metadata": {
    "colab": {},
    "colab_type": "code",
    "id": "TvjgF_TLk3mT"
   },
   "outputs": [],
   "source": [
    "#Create a dataframe to compare between Actual and Predicted\n",
    "comparisontab = pd.DataFrame({'Actual': ytest, 'Predicted': pred})"
   ]
  },
  {
   "cell_type": "code",
   "execution_count": 0,
   "metadata": {
    "colab": {
     "base_uri": "https://localhost:8080/",
     "height": 204
    },
    "colab_type": "code",
    "executionInfo": {
     "elapsed": 930,
     "status": "ok",
     "timestamp": 1586602505001,
     "user": {
      "displayName": "nitin sharma",
      "photoUrl": "https://lh3.googleusercontent.com/a-/AOh14GipRPAC1mJTCRiZJ4x-tY1PlsClex3KCAbs6gvQ6Q=s64",
      "userId": "13417507190894542789"
     },
     "user_tz": -330
    },
    "id": "PHfHSvYek3mV",
    "outputId": "ee790a5c-f66f-4d71-fbc4-fca1a599cec7"
   },
   "outputs": [
    {
     "data": {
      "text/html": [
       "<div>\n",
       "<style scoped>\n",
       "    .dataframe tbody tr th:only-of-type {\n",
       "        vertical-align: middle;\n",
       "    }\n",
       "\n",
       "    .dataframe tbody tr th {\n",
       "        vertical-align: top;\n",
       "    }\n",
       "\n",
       "    .dataframe thead th {\n",
       "        text-align: right;\n",
       "    }\n",
       "</style>\n",
       "<table border=\"1\" class=\"dataframe\">\n",
       "  <thead>\n",
       "    <tr style=\"text-align: right;\">\n",
       "      <th></th>\n",
       "      <th>Actual</th>\n",
       "      <th>Predicted</th>\n",
       "    </tr>\n",
       "  </thead>\n",
       "  <tbody>\n",
       "    <tr>\n",
       "      <th>93</th>\n",
       "      <td>25.0</td>\n",
       "      <td>28.732544</td>\n",
       "    </tr>\n",
       "    <tr>\n",
       "      <th>223</th>\n",
       "      <td>30.1</td>\n",
       "      <td>28.072803</td>\n",
       "    </tr>\n",
       "    <tr>\n",
       "      <th>39</th>\n",
       "      <td>30.8</td>\n",
       "      <td>34.733893</td>\n",
       "    </tr>\n",
       "    <tr>\n",
       "      <th>122</th>\n",
       "      <td>20.5</td>\n",
       "      <td>15.999871</td>\n",
       "    </tr>\n",
       "    <tr>\n",
       "      <th>203</th>\n",
       "      <td>48.5</td>\n",
       "      <td>37.361992</td>\n",
       "    </tr>\n",
       "  </tbody>\n",
       "</table>\n",
       "</div>"
      ],
      "text/plain": [
       "     Actual  Predicted\n",
       "93     25.0  28.732544\n",
       "223    30.1  28.072803\n",
       "39     30.8  34.733893\n",
       "122    20.5  15.999871\n",
       "203    48.5  37.361992"
      ]
     },
     "execution_count": 35,
     "metadata": {
      "tags": []
     },
     "output_type": "execute_result"
    }
   ],
   "source": [
    "comparisontab.head()"
   ]
  },
  {
   "cell_type": "code",
   "execution_count": 0,
   "metadata": {
    "colab": {
     "base_uri": "https://localhost:8080/",
     "height": 492
    },
    "colab_type": "code",
    "executionInfo": {
     "elapsed": 1159,
     "status": "ok",
     "timestamp": 1586602509598,
     "user": {
      "displayName": "nitin sharma",
      "photoUrl": "https://lh3.googleusercontent.com/a-/AOh14GipRPAC1mJTCRiZJ4x-tY1PlsClex3KCAbs6gvQ6Q=s64",
      "userId": "13417507190894542789"
     },
     "user_tz": -330
    },
    "id": "jmRGc-Ckk3mY",
    "outputId": "59a6455c-7147-467b-930e-61b1725d48d6"
   },
   "outputs": [
    {
     "data": {
      "image/png": "[encoded data removed]",
      "text/plain": [
       "<Figure size 720x576 with 1 Axes>"
      ]
     },
     "metadata": {
      "needs_background": "light",
      "tags": []
     },
     "output_type": "display_data"
    }
   ],
   "source": [
    "#Plot Actalu and Predicted\n",
    "\n",
    "comparisontab.head(20).plot(kind='bar',figsize=(10,8))\n",
    "plt.grid(which='major', linestyle='-', linewidth='0.5', color='green')\n",
    "plt.grid(which='minor', linestyle=':', linewidth='0.5', color='black')\n",
    "plt.show()"
   ]
  },
  {
   "cell_type": "code",
   "execution_count": 0,
   "metadata": {
    "colab": {
     "base_uri": "https://localhost:8080/",
     "height": 68
    },
    "colab_type": "code",
    "executionInfo": {
     "elapsed": 1189,
     "status": "ok",
     "timestamp": 1586602512804,
     "user": {
      "displayName": "nitin sharma",
      "photoUrl": "https://lh3.googleusercontent.com/a-/AOh14GipRPAC1mJTCRiZJ4x-tY1PlsClex3KCAbs6gvQ6Q=s64",
      "userId": "13417507190894542789"
     },
     "user_tz": -330
    },
    "id": "MYAeJI4Xk3mb",
    "outputId": "7fc7a320-3eeb-476d-df90-a37bcb68c2c5"
   },
   "outputs": [
    {
     "name": "stdout",
     "output_type": "stream",
     "text": [
      "Mean Absolute Error: 4.532458786794264\n",
      "Mean Squared Error: 40.23867513855247\n",
      "Root Mean Squared Error: 6.343396183319506\n"
     ]
    }
   ],
   "source": [
    "#Calculate MAE, RMSE, MSE\n",
    "\n",
    "print('Mean Absolute Error:', metrics.mean_absolute_error(ytest, pred))  \n",
    "print('Mean Squared Error:', metrics.mean_squared_error(ytest, pred))  \n",
    "print('Root Mean Squared Error:', np.sqrt(metrics.mean_squared_error(ytest, pred)))"
   ]
  },
  {
   "cell_type": "code",
   "execution_count": 0,
   "metadata": {
    "colab": {},
    "colab_type": "code",
    "id": "90-ILwTWk3mc"
   },
   "outputs": [],
   "source": [
    "# Adding PCA \n"
   ]
  },
  {
   "cell_type": "code",
   "execution_count": 0,
   "metadata": {
    "colab": {},
    "colab_type": "code",
    "id": "w4yp57jW58n9"
   },
   "outputs": [],
   "source": [
    "from sklearn.decomposition import PCA"
   ]
  },
  {
   "cell_type": "code",
   "execution_count": 0,
   "metadata": {
    "colab": {},
    "colab_type": "code",
    "id": "-BNF7u6w5_-1"
   },
   "outputs": [],
   "source": [
    "pca = PCA(n_components=0.9)"
   ]
  },
  {
   "cell_type": "code",
   "execution_count": 0,
   "metadata": {
    "colab": {},
    "colab_type": "code",
    "id": "KD4sunV_6TPJ"
   },
   "outputs": [],
   "source": [
    "x_transformed = pca.fit_transform(x)"
   ]
  },
  {
   "cell_type": "code",
   "execution_count": 0,
   "metadata": {
    "colab": {
     "base_uri": "https://localhost:8080/",
     "height": 34
    },
    "colab_type": "code",
    "executionInfo": {
     "elapsed": 1117,
     "status": "ok",
     "timestamp": 1586603126646,
     "user": {
      "displayName": "nitin sharma",
      "photoUrl": "https://lh3.googleusercontent.com/a-/AOh14GipRPAC1mJTCRiZJ4x-tY1PlsClex3KCAbs6gvQ6Q=s64",
      "userId": "13417507190894542789"
     },
     "user_tz": -330
    },
    "id": "Cpux61sj6W2-",
    "outputId": "c13c5acd-9678-445a-d869-91610066be35"
   },
   "outputs": [
    {
     "data": {
      "text/plain": [
       "(506, 3)"
      ]
     },
     "execution_count": 52,
     "metadata": {
      "tags": []
     },
     "output_type": "execute_result"
    }
   ],
   "source": [
    "x_transformed.shape"
   ]
  },
  {
   "cell_type": "code",
   "execution_count": 0,
   "metadata": {
    "colab": {
     "base_uri": "https://localhost:8080/",
     "height": 34
    },
    "colab_type": "code",
    "executionInfo": {
     "elapsed": 803,
     "status": "ok",
     "timestamp": 1586603127998,
     "user": {
      "displayName": "nitin sharma",
      "photoUrl": "https://lh3.googleusercontent.com/a-/AOh14GipRPAC1mJTCRiZJ4x-tY1PlsClex3KCAbs6gvQ6Q=s64",
      "userId": "13417507190894542789"
     },
     "user_tz": -330
    },
    "id": "oYMwZbST6bwq",
    "outputId": "0a63cf31-b932-4762-c3b9-99264318f643"
   },
   "outputs": [
    {
     "data": {
      "text/plain": [
       "(506, 3)"
      ]
     },
     "execution_count": 53,
     "metadata": {
      "tags": []
     },
     "output_type": "execute_result"
    }
   ],
   "source": [
    "x_transformed.shape"
   ]
  },
  {
   "cell_type": "code",
   "execution_count": 0,
   "metadata": {
    "colab": {},
    "colab_type": "code",
    "id": "g-mU1Gik6eQM"
   },
   "outputs": [],
   "source": []
  }
 ],
 "metadata": {
  "colab": {
   "collapsed_sections": [],
   "name": "Linear Regression.ipynb",
   "provenance": [],
   "toc_visible": true
  },
  "kernelspec": {
   "display_name": "Python 3",
   "language": "python",
   "name": "python3"
  },
  "language_info": {
   "codemirror_mode": {
    "name": "ipython",
    "version": 3
   },
   "file_extension": ".py",
   "mimetype": "text/x-python",
   "name": "python",
   "nbconvert_exporter": "python",
   "pygments_lexer": "ipython3",
   "version": "3.7.3"
  }
 },
 "nbformat": 4,
 "nbformat_minor": 1
}
