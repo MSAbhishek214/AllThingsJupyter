{
 "cells": [
  {
   "cell_type": "code",
   "execution_count": 1,
   "metadata": {},
   "outputs": [],
   "source": [
    "text = ['\\n\\nthe fresh initiative by the union telecommunications ministry to tackle pesky calls is welcome. cracking down on such unwelcome calls, which are a source of great irritation to telecom subscribers, comes after earlier attempts like setting up the do not disturb registry have been bypassed by telemarketers. with a large army of educated, unemployed youth cheaply feeding into the staffing needs of telemarketers, the number of pesky calls have multiplied manifold. in the absence of monetary penalties and other regulatory deterrence, there was no incentive on the part of telemarketers to change their ways.\\n\\nthe digital intelligence unit to investigate mobile frauds will also have its hands full. for one, the linkages between telemarketers and those fraudulently peddling financial products has to be more thoroughly investigated. the recent crackdown on mobile lending apps revealed that these used fully equipped call centres to act as collection agents to force debtors to repay.\\nread also: govt makes fresh bid to rein in pesky callers, phone frauds\\non top of this there is today easy access to personal data, which makes it simple for telemarketers to commit financial fraud on gullible consumers, especially the elderly. a data protection law to prevent the leakage of consumer telecom and financial information in the possession of telecom and banking companies is also necessary.the new digital intelligence unit must effectively invoke penalties and choke telecom resources to those abusing teleconnectivity. otherwise, there will be no end to this menace.']"
   ]
  },
  {
   "cell_type": "code",
   "execution_count": 2,
   "metadata": {},
   "outputs": [
    {
     "data": {
      "text/plain": [
       "['\\n\\nthe fresh initiative by the union telecommunications ministry to tackle pesky calls is welcome. cracking down on such unwelcome calls, which are a source of great irritation to telecom subscribers, comes after earlier attempts like setting up the do not disturb registry have been bypassed by telemarketers. with a large army of educated, unemployed youth cheaply feeding into the staffing needs of telemarketers, the number of pesky calls have multiplied manifold. in the absence of monetary penalties and other regulatory deterrence, there was no incentive on the part of telemarketers to change their ways.\\n\\nthe digital intelligence unit to investigate mobile frauds will also have its hands full. for one, the linkages between telemarketers and those fraudulently peddling financial products has to be more thoroughly investigated. the recent crackdown on mobile lending apps revealed that these used fully equipped call centres to act as collection agents to force debtors to repay.\\nread also: govt makes fresh bid to rein in pesky callers, phone frauds\\non top of this there is today easy access to personal data, which makes it simple for telemarketers to commit financial fraud on gullible consumers, especially the elderly. a data protection law to prevent the leakage of consumer telecom and financial information in the possession of telecom and banking companies is also necessary.the new digital intelligence unit must effectively invoke penalties and choke telecom resources to those abusing teleconnectivity. otherwise, there will be no end to this menace.']"
      ]
     },
     "execution_count": 2,
     "metadata": {},
     "output_type": "execute_result"
    }
   ],
   "source": [
    "text"
   ]
  },
  {
   "cell_type": "code",
   "execution_count": 18,
   "metadata": {},
   "outputs": [
    {
     "data": {
      "text/plain": [
       "'\\n\\nthe fresh initiative by the union telecommunications ministry to tackle pesky calls is welcome. cracking down on such unwelcome calls, which are a source of great irritation to telecom subscribers, comes after earlier attempts like setting up the do not disturb registry have been bypassed by telemarketers. with a large army of educated, unemployed youth cheaply feeding into the staffing needs of telemarketers, the number of pesky calls have multiplied manifold. in the absence of monetary penalties and other regulatory deterrence, there was no incentive on the part of telemarketers to change their ways.\\n\\nthe digital intelligence unit to investigate mobile frauds will also have its hands full. for one, the linkages between telemarketers and those fraudulently peddling financial products has to be more thoroughly investigated. the recent crackdown on mobile lending apps revealed that these used fully equipped call centres to act as collection agents to force debtors to repay.\\nread also: govt makes fresh bid to rein in pesky callers, phone frauds\\non top of this there is today easy access to personal data, which makes it simple for telemarketers to commit financial fraud on gullible consumers, especially the elderly. a data protection law to prevent the leakage of consumer telecom and financial information in the possession of telecom and banking companies is also necessary.the new digital intelligence unit must effectively invoke penalties and choke telecom resources to those abusing teleconnectivity. otherwise, there will be no end to this menace.'"
      ]
     },
     "execution_count": 18,
     "metadata": {},
     "output_type": "execute_result"
    }
   ],
   "source": [
    "' '.join(text)"
   ]
  },
  {
   "cell_type": "code",
   "execution_count": 3,
   "metadata": {},
   "outputs": [],
   "source": [
    "from nltk.tokenize import sent_tokenize\n",
    "sentences = []\n",
    "for s in text:\n",
    "    sentences.append(sent_tokenize(s))\n",
    "\n",
    "sentences = [y for x in sentences for y in x]"
   ]
  },
  {
   "cell_type": "code",
   "execution_count": 4,
   "metadata": {
    "scrolled": true
   },
   "outputs": [
    {
     "data": {
      "text/plain": [
       "['\\n\\nthe fresh initiative by the union telecommunications ministry to tackle pesky calls is welcome.',\n",
       " 'cracking down on such unwelcome calls, which are a source of great irritation to telecom subscribers, comes after earlier attempts like setting up the do not disturb registry have been bypassed by telemarketers.',\n",
       " 'with a large army of educated, unemployed youth cheaply feeding into the staffing needs of telemarketers, the number of pesky calls have multiplied manifold.',\n",
       " 'in the absence of monetary penalties and other regulatory deterrence, there was no incentive on the part of telemarketers to change their ways.',\n",
       " 'the digital intelligence unit to investigate mobile frauds will also have its hands full.',\n",
       " 'for one, the linkages between telemarketers and those fraudulently peddling financial products has to be more thoroughly investigated.',\n",
       " 'the recent crackdown on mobile lending apps revealed that these used fully equipped call centres to act as collection agents to force debtors to repay.',\n",
       " 'read also: govt makes fresh bid to rein in pesky callers, phone frauds\\non top of this there is today easy access to personal data, which makes it simple for telemarketers to commit financial fraud on gullible consumers, especially the elderly.',\n",
       " 'a data protection law to prevent the leakage of consumer telecom and financial information in the possession of telecom and banking companies is also necessary.the new digital intelligence unit must effectively invoke penalties and choke telecom resources to those abusing teleconnectivity.',\n",
       " 'otherwise, there will be no end to this menace.']"
      ]
     },
     "execution_count": 4,
     "metadata": {},
     "output_type": "execute_result"
    }
   ],
   "source": [
    "sentences"
   ]
  },
  {
   "cell_type": "code",
   "execution_count": 5,
   "metadata": {},
   "outputs": [],
   "source": [
    "import pandas as pd"
   ]
  },
  {
   "cell_type": "code",
   "execution_count": 6,
   "metadata": {},
   "outputs": [],
   "source": [
    "clean_sentences = pd.Series(sentences).str.replace(\"[^a-zA-Z]\", \" \")"
   ]
  },
  {
   "cell_type": "code",
   "execution_count": 7,
   "metadata": {},
   "outputs": [
    {
     "data": {
      "text/plain": [
       "0      the fresh initiative by the union telecommun...\n",
       "1    cracking down on such unwelcome calls  which a...\n",
       "2    with a large army of educated  unemployed yout...\n",
       "3    in the absence of monetary penalties and other...\n",
       "4    the digital intelligence unit to investigate m...\n",
       "5    for one  the linkages between telemarketers an...\n",
       "6    the recent crackdown on mobile lending apps re...\n",
       "7    read also  govt makes fresh bid to rein in pes...\n",
       "8    a data protection law to prevent the leakage o...\n",
       "9      otherwise  there will be no end to this menace \n",
       "dtype: object"
      ]
     },
     "execution_count": 7,
     "metadata": {},
     "output_type": "execute_result"
    }
   ],
   "source": [
    "clean_sentences"
   ]
  },
  {
   "cell_type": "code",
   "execution_count": 8,
   "metadata": {},
   "outputs": [],
   "source": [
    "from sklearn.feature_extraction.text import TfidfVectorizer"
   ]
  },
  {
   "cell_type": "code",
   "execution_count": 9,
   "metadata": {},
   "outputs": [],
   "source": [
    "tf_idf_vec = TfidfVectorizer(use_idf=True, \n",
    "                        smooth_idf=False,  \n",
    "                        ngram_range=(1,1),stop_words='english')"
   ]
  },
  {
   "cell_type": "code",
   "execution_count": 10,
   "metadata": {},
   "outputs": [],
   "source": [
    "tf_idf_matrix = tf_idf_vec.fit_transform(clean_sentences)"
   ]
  },
  {
   "cell_type": "code",
   "execution_count": 11,
   "metadata": {},
   "outputs": [],
   "source": [
    "from sklearn.metrics.pairwise import cosine_similarity"
   ]
  },
  {
   "cell_type": "code",
   "execution_count": 19,
   "metadata": {},
   "outputs": [
    {
     "data": {
      "text/plain": [
       "array([[0., 0., 0., 0., 0., 0., 0., 0., 0., 0.],\n",
       "       [0., 0., 0., 0., 0., 0., 0., 0., 0., 0.],\n",
       "       [0., 0., 0., 0., 0., 0., 0., 0., 0., 0.],\n",
       "       [0., 0., 0., 0., 0., 0., 0., 0., 0., 0.],\n",
       "       [0., 0., 0., 0., 0., 0., 0., 0., 0., 0.],\n",
       "       [0., 0., 0., 0., 0., 0., 0., 0., 0., 0.],\n",
       "       [0., 0., 0., 0., 0., 0., 0., 0., 0., 0.],\n",
       "       [0., 0., 0., 0., 0., 0., 0., 0., 0., 0.],\n",
       "       [0., 0., 0., 0., 0., 0., 0., 0., 0., 0.],\n",
       "       [0., 0., 0., 0., 0., 0., 0., 0., 0., 0.]])"
      ]
     },
     "execution_count": 19,
     "metadata": {},
     "output_type": "execute_result"
    }
   ],
   "source": [
    "import numpy as np\n",
    "sim_mat = np.zeros([len(clean_sentences), len(clean_sentences)])\n",
    "sim_mat"
   ]
  },
  {
   "cell_type": "code",
   "execution_count": 13,
   "metadata": {},
   "outputs": [
    {
     "data": {
      "text/plain": [
       "array([[1.        , 0.04148909, 0.08958777, 0.        , 0.        ,\n",
       "        0.        , 0.        , 0.07960307, 0.        , 0.        ],\n",
       "       [0.04148909, 1.        , 0.04986783, 0.02390099, 0.        ,\n",
       "        0.02591628, 0.        , 0.01369402, 0.09346981, 0.        ],\n",
       "       [0.08958777, 0.04986783, 1.        , 0.02580482, 0.        ,\n",
       "        0.02798063, 0.        , 0.03983659, 0.        , 0.        ],\n",
       "       [0.        , 0.02390099, 0.02580482, 1.        , 0.        ,\n",
       "        0.03613429, 0.        , 0.01909315, 0.04344071, 0.        ],\n",
       "       [0.        , 0.        , 0.        , 0.        , 1.        ,\n",
       "        0.        , 0.0697894 , 0.05627884, 0.1617265 , 0.        ],\n",
       "       [0.        , 0.02591628, 0.02798063, 0.03613429, 0.        ,\n",
       "        1.        , 0.        , 0.05578288, 0.03360255, 0.        ],\n",
       "       [0.        , 0.        , 0.        , 0.        , 0.0697894 ,\n",
       "        0.        , 1.        , 0.        , 0.        , 0.        ],\n",
       "       [0.07960307, 0.01369402, 0.03983659, 0.01909315, 0.05627884,\n",
       "        0.05578288, 0.        , 1.        , 0.04264465, 0.        ],\n",
       "       [0.        , 0.09346981, 0.        , 0.04344071, 0.1617265 ,\n",
       "        0.03360255, 0.        , 0.04264465, 1.        , 0.        ],\n",
       "       [0.        , 0.        , 0.        , 0.        , 0.        ,\n",
       "        0.        , 0.        , 0.        , 0.        , 1.        ]])"
      ]
     },
     "execution_count": 13,
     "metadata": {},
     "output_type": "execute_result"
    }
   ],
   "source": [
    "cosine_similarity(tf_idf_matrix, tf_idf_matrix)"
   ]
  },
  {
   "cell_type": "code",
   "execution_count": 20,
   "metadata": {},
   "outputs": [],
   "source": [
    "cosine_sim = cosine_similarity(tf_idf_matrix, tf_idf_matrix)"
   ]
  },
  {
   "cell_type": "code",
   "execution_count": 15,
   "metadata": {},
   "outputs": [],
   "source": [
    "for i in range(len(sentences)):\n",
    "    for j in range(len(sentences)):\n",
    "        if i != j:\n",
    "            sim_mat[i][j] = cosine_sim[i][j]"
   ]
  },
  {
   "cell_type": "code",
   "execution_count": 16,
   "metadata": {},
   "outputs": [],
   "source": [
    "import networkx as nx\n",
    "\n",
    "nx_graph = nx.from_numpy_array(sim_mat)\n",
    "scores = nx.pagerank(nx_graph)"
   ]
  },
  {
   "cell_type": "code",
   "execution_count": 17,
   "metadata": {},
   "outputs": [
    {
     "name": "stdout",
     "output_type": "stream",
     "text": [
      "a data protection law to prevent the leakage of consumer telecom and financial information in the possession of telecom and banking companies is also necessary the new digital intelligence unit must effectively invoke penalties and choke telecom resources to those abusing teleconnectivity \n",
      "read also  govt makes fresh bid to rein in pesky callers  phone frauds on top of this there is today easy access to personal data  which makes it simple for telemarketers to commit financial fraud on gullible consumers  especially the elderly \n"
     ]
    }
   ],
   "source": [
    "ranked_sentences = sorted(((scores[i],s) for i,s in enumerate(clean_sentences)), reverse=True)\n",
    "for i in range(2):\n",
    "    print(ranked_sentences[i][1])"
   ]
  },
  {
   "cell_type": "code",
   "execution_count": null,
   "metadata": {},
   "outputs": [],
   "source": []
  }
 ],
 "metadata": {
  "kernelspec": {
   "display_name": "Python 3",
   "language": "python",
   "name": "python3"
  },
  "language_info": {
   "codemirror_mode": {
    "name": "ipython",
    "version": 3
   },
   "file_extension": ".py",
   "mimetype": "text/x-python",
   "name": "python",
   "nbconvert_exporter": "python",
   "pygments_lexer": "ipython3",
   "version": "3.8.3"
  }
 },
 "nbformat": 4,
 "nbformat_minor": 4
}
