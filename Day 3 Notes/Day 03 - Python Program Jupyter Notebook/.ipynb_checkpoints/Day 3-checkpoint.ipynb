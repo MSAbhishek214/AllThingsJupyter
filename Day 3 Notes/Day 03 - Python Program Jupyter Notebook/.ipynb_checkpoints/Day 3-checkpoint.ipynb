{
 "cells": [
  {
   "cell_type": "markdown",
   "metadata": {},
   "source": [
    "# Converting text to features"
   ]
  },
  {
   "cell_type": "markdown",
   "metadata": {},
   "source": [
    "# 3-1. Converting Text to Features Using One Hot Encoding"
   ]
  },
  {
   "cell_type": "code",
   "execution_count": 1,
   "metadata": {},
   "outputs": [
    {
     "data": {
      "text/html": [
       "<div>\n",
       "<style scoped>\n",
       "    .dataframe tbody tr th:only-of-type {\n",
       "        vertical-align: middle;\n",
       "    }\n",
       "\n",
       "    .dataframe tbody tr th {\n",
       "        vertical-align: top;\n",
       "    }\n",
       "\n",
       "    .dataframe thead th {\n",
       "        text-align: right;\n",
       "    }\n",
       "</style>\n",
       "<table border=\"1\" class=\"dataframe\">\n",
       "  <thead>\n",
       "    <tr style=\"text-align: right;\">\n",
       "      <th></th>\n",
       "      <th>I</th>\n",
       "      <th>NLP</th>\n",
       "      <th>am</th>\n",
       "      <th>learning</th>\n",
       "    </tr>\n",
       "  </thead>\n",
       "  <tbody>\n",
       "    <tr>\n",
       "      <th>0</th>\n",
       "      <td>1</td>\n",
       "      <td>0</td>\n",
       "      <td>0</td>\n",
       "      <td>0</td>\n",
       "    </tr>\n",
       "    <tr>\n",
       "      <th>1</th>\n",
       "      <td>0</td>\n",
       "      <td>0</td>\n",
       "      <td>1</td>\n",
       "      <td>0</td>\n",
       "    </tr>\n",
       "    <tr>\n",
       "      <th>2</th>\n",
       "      <td>0</td>\n",
       "      <td>0</td>\n",
       "      <td>0</td>\n",
       "      <td>1</td>\n",
       "    </tr>\n",
       "    <tr>\n",
       "      <th>3</th>\n",
       "      <td>0</td>\n",
       "      <td>1</td>\n",
       "      <td>0</td>\n",
       "      <td>0</td>\n",
       "    </tr>\n",
       "  </tbody>\n",
       "</table>\n",
       "</div>"
      ],
      "text/plain": [
       "   I  NLP  am  learning\n",
       "0  1    0   0         0\n",
       "1  0    0   1         0\n",
       "2  0    0   0         1\n",
       "3  0    1   0         0"
      ]
     },
     "execution_count": 1,
     "metadata": {},
     "output_type": "execute_result"
    }
   ],
   "source": [
    "# Importing the library \n",
    "\n",
    "import pandas as pd\n",
    "\n",
    "Text = \"I am learning NLP\"\n",
    "\n",
    "# Generating the features\n",
    "\n",
    "pd.get_dummies(Text.split())\n",
    "\n"
   ]
  },
  {
   "cell_type": "code",
   "execution_count": 19,
   "metadata": {},
   "outputs": [
    {
     "name": "stdout",
     "output_type": "stream",
     "text": [
      "['Bag', 'CASE', 'Case', 'FEW', 'Few', 'This', 'Title', 'UPPER', 'WORDS', 'Words', 'a', 'and', 'by', 'corpus', 'demonstrate', 'first', 'followed', 'in', 'is', 'more', 'of', 'one', 'our', 'second', 'sentence', 'the', 'to', 'with', 'words']\n",
      "There are 29 words in vocabulary.\n",
      "A total of 37 words is used in documents.\n"
     ]
    }
   ],
   "source": [
    "# corpus is a collection of documents, here sentences\n",
    "corpus = ['This is the first sentence in our corpus followed by one more sentence to demonstrate Bag of words',\n",
    "         'This is the second sentence in our corpus with a FEW UPPER CASE WORDS and Few Title Case Words']\n",
    "\n",
    "vocab = []         # empty list for vocabulary\n",
    "total_words = 0    # to count total words in corpus\n",
    "\n",
    "for doc in corpus: # iterating through documents in corpus\n",
    "    token_temp = doc.split() # create tokens\n",
    "    total_words = total_words + len(token_temp)\n",
    "    for i in range(len(token_temp)):\n",
    "        if token_temp[i] not in vocab: # to check if word is already in vocab\n",
    "            vocab.append(token_temp[i])\n",
    "vocab.sort()\n",
    "print(vocab) # Print all the words in vocabulary\n",
    "print('There are {} words in vocabulary.'.format(len(vocab))) \n",
    "print('A total of {} words is used in documents.'.format(total_words))"
   ]
  },
  {
   "cell_type": "code",
   "execution_count": 28,
   "metadata": {},
   "outputs": [
    {
     "data": {
      "text/html": [
       "<div>\n",
       "<style scoped>\n",
       "    .dataframe tbody tr th:only-of-type {\n",
       "        vertical-align: middle;\n",
       "    }\n",
       "\n",
       "    .dataframe tbody tr th {\n",
       "        vertical-align: top;\n",
       "    }\n",
       "\n",
       "    .dataframe thead th {\n",
       "        text-align: right;\n",
       "    }\n",
       "</style>\n",
       "<table border=\"1\" class=\"dataframe\">\n",
       "  <thead>\n",
       "    <tr style=\"text-align: right;\">\n",
       "      <th></th>\n",
       "      <th>Bag</th>\n",
       "      <th>CASE</th>\n",
       "      <th>Case</th>\n",
       "      <th>FEW</th>\n",
       "      <th>Few</th>\n",
       "      <th>This</th>\n",
       "      <th>Title</th>\n",
       "      <th>UPPER</th>\n",
       "      <th>WORDS</th>\n",
       "      <th>Words</th>\n",
       "      <th>a</th>\n",
       "      <th>and</th>\n",
       "      <th>by</th>\n",
       "      <th>corpus</th>\n",
       "      <th>demonstrate</th>\n",
       "      <th>first</th>\n",
       "      <th>followed</th>\n",
       "      <th>in</th>\n",
       "      <th>is</th>\n",
       "      <th>more</th>\n",
       "      <th>of</th>\n",
       "      <th>one</th>\n",
       "      <th>our</th>\n",
       "      <th>second</th>\n",
       "      <th>sentence</th>\n",
       "      <th>the</th>\n",
       "      <th>to</th>\n",
       "      <th>with</th>\n",
       "      <th>words</th>\n",
       "    </tr>\n",
       "  </thead>\n",
       "  <tbody>\n",
       "    <tr>\n",
       "      <th>0</th>\n",
       "      <td>1</td>\n",
       "      <td>0</td>\n",
       "      <td>0</td>\n",
       "      <td>0</td>\n",
       "      <td>0</td>\n",
       "      <td>1</td>\n",
       "      <td>0</td>\n",
       "      <td>0</td>\n",
       "      <td>0</td>\n",
       "      <td>0</td>\n",
       "      <td>0</td>\n",
       "      <td>0</td>\n",
       "      <td>1</td>\n",
       "      <td>1</td>\n",
       "      <td>1</td>\n",
       "      <td>1</td>\n",
       "      <td>1</td>\n",
       "      <td>1</td>\n",
       "      <td>1</td>\n",
       "      <td>1</td>\n",
       "      <td>1</td>\n",
       "      <td>1</td>\n",
       "      <td>1</td>\n",
       "      <td>0</td>\n",
       "      <td>1</td>\n",
       "      <td>1</td>\n",
       "      <td>1</td>\n",
       "      <td>0</td>\n",
       "      <td>1</td>\n",
       "    </tr>\n",
       "    <tr>\n",
       "      <th>1</th>\n",
       "      <td>0</td>\n",
       "      <td>1</td>\n",
       "      <td>1</td>\n",
       "      <td>1</td>\n",
       "      <td>1</td>\n",
       "      <td>1</td>\n",
       "      <td>1</td>\n",
       "      <td>1</td>\n",
       "      <td>1</td>\n",
       "      <td>1</td>\n",
       "      <td>1</td>\n",
       "      <td>1</td>\n",
       "      <td>0</td>\n",
       "      <td>1</td>\n",
       "      <td>0</td>\n",
       "      <td>0</td>\n",
       "      <td>0</td>\n",
       "      <td>1</td>\n",
       "      <td>1</td>\n",
       "      <td>0</td>\n",
       "      <td>0</td>\n",
       "      <td>0</td>\n",
       "      <td>1</td>\n",
       "      <td>1</td>\n",
       "      <td>1</td>\n",
       "      <td>1</td>\n",
       "      <td>0</td>\n",
       "      <td>1</td>\n",
       "      <td>0</td>\n",
       "    </tr>\n",
       "  </tbody>\n",
       "</table>\n",
       "</div>"
      ],
      "text/plain": [
       "   Bag  CASE  Case  FEW  Few  This  Title  UPPER  WORDS  Words  a  and  by  \\\n",
       "0    1     0     0    0    0     1      0      0      0      0  0    0   1   \n",
       "1    0     1     1    1    1     1      1      1      1      1  1    1   0   \n",
       "\n",
       "   corpus  demonstrate  first  followed  in  is  more  of  one  our  second  \\\n",
       "0       1            1      1         1   1   1     1   1    1    1       0   \n",
       "1       1            0      0         0   1   1     0   0    0    1       1   \n",
       "\n",
       "   sentence  the  to  with  words  \n",
       "0         1    1   1     0      1  \n",
       "1         1    1   0     1      0  "
      ]
     },
     "execution_count": 28,
     "metadata": {},
     "output_type": "execute_result"
    }
   ],
   "source": [
    "bow_vec = []      # list to store bag of words vectors\n",
    "for i in range(len(corpus)):\n",
    "    doc_ = corpus[i].split()\n",
    "    doc_vec = [] # empty array for each doc\n",
    "    \n",
    "    for j in range(len(vocab)): # iterate over vocab \n",
    "        if vocab[j] in doc_: \n",
    "            doc_vec.append(1) # append if present\n",
    "        else:\n",
    "            doc_vec.append(0) # else append zero\n",
    "    bow_vec.append(doc_vec)\n",
    "    \n",
    "import pandas as pd\n",
    "pd.set_option(\"display.max_columns\", None)\n",
    "df = pd.DataFrame(bow_vec, columns = vocab)\n",
    "df # bag of words vectorized representation"
   ]
  },
  {
   "cell_type": "markdown",
   "metadata": {},
   "source": [
    "# 3-2. Converting Text to Features Using Count Vectorizing"
   ]
  },
  {
   "cell_type": "code",
   "execution_count": 2,
   "metadata": {},
   "outputs": [
    {
     "name": "stdout",
     "output_type": "stream",
     "text": [
      "[[0 0 0 1 2 0]\n",
      " [1 1 1 0 1 1]]\n"
     ]
    }
   ],
   "source": [
    "#importing the function \n",
    "\n",
    "from sklearn.feature_extraction.text import CountVectorizer\n",
    "\n",
    "# Text\n",
    "\n",
    "text = [\"I love NLP NLP\", \"I will learn NLP in 2month\"]\n",
    "\n",
    "# create the transform\n",
    "\n",
    "vectorizer = CountVectorizer()\n",
    "\n",
    "# tokenizing\n",
    "\n",
    "vectorizer.fit(text)\n",
    "\n",
    "\n",
    "# encode document\n",
    "\n",
    "vector = vectorizer.transform(text)\n",
    "\n",
    "# summarize & generating output\n",
    "\n",
    "print(vector.toarray())\n",
    "\n"
   ]
  },
  {
   "cell_type": "code",
   "execution_count": 31,
   "metadata": {},
   "outputs": [
    {
     "name": "stdout",
     "output_type": "stream",
     "text": [
      "['welcome', 'to', 'great', 'learning', ',', 'now', 'start', 'learning']\n",
      "['learning', 'is', 'a', 'good', 'practice']\n",
      "['welcome', 'to', 'great', 'learning', ',', 'now', 'start', 'is', 'a', 'good', 'practice']\n",
      "['welcome', 'great', 'learning', 'now', 'start', 'good', 'practice']\n",
      "[1, 1, 2, 1, 1, 0, 0]\n",
      "[0, 0, 1, 0, 0, 1, 1]\n"
     ]
    }
   ],
   "source": [
    "#from scratch\n",
    "def vectorize(tokens):\n",
    "    ''' This function takes list of words in a sentence as input \n",
    "    and returns a vector of size of filtered_vocab.It puts 0 if the \n",
    "    word is not present in tokens and count of token if present.'''\n",
    "    vector=[]\n",
    "    for w in filtered_vocab:\n",
    "        vector.append(tokens.count(w))\n",
    "    return vector\n",
    "def unique(sequence):\n",
    "    '''This functions returns a list in which the order remains \n",
    "    same and no item repeats.Using the set() function does not \n",
    "    preserve the original ordering,so i didnt use that instead'''\n",
    "    seen = set()\n",
    "    return [x for x in sequence if not (x in seen or seen.add(x))]\n",
    "#create a list of stopwords.You can import stopwords from nltk too\n",
    "stopwords=[\"to\",\"is\",\"a\"]\n",
    "#list of special characters.You can use regular expressions too\n",
    "special_char=[\",\",\":\",\" \",\";\",\".\",\"?\"]\n",
    "#Write the sentences in the corpus,in our case, just two \n",
    "string1=\"Welcome to Great Learning , Now start learning\"\n",
    "string2=\"Learning is a good practice\"\n",
    "#convert them to lower case\n",
    "string1=string1.lower()\n",
    "string2=string2.lower()\n",
    "#split the sentences into tokens\n",
    "tokens1=string1.split()\n",
    "tokens2=string2.split()\n",
    "print(tokens1)\n",
    "print(tokens2)\n",
    "#create a vocabulary list\n",
    "vocab=unique(tokens1+tokens2)\n",
    "print(vocab)\n",
    "#filter the vocabulary list\n",
    "filtered_vocab=[]\n",
    "for w in vocab: \n",
    "    if w not in stopwords and w not in special_char: \n",
    "        filtered_vocab.append(w)\n",
    "print(filtered_vocab)\n",
    "#convert sentences into vectords\n",
    "vector1=vectorize(tokens1)\n",
    "print(vector1)\n",
    "vector2=vectorize(tokens2)\n",
    "print(vector2)"
   ]
  },
  {
   "cell_type": "code",
   "execution_count": 23,
   "metadata": {},
   "outputs": [
    {
     "name": "stdout",
     "output_type": "stream",
     "text": [
      "   good  job  miss\n",
      "0     1    1     1\n",
      "1     1    0     0\n"
     ]
    }
   ],
   "source": [
    "import pandas as pd\n",
    "from sklearn.feature_extraction.text import CountVectorizer\n",
    " \n",
    "sentence_1=\"This is a good job.I will not miss it for anything\"\n",
    "sentence_2=\"This is not good at all\"\n",
    " \n",
    " \n",
    " \n",
    "CountVec = CountVectorizer(ngram_range=(1,1), # to use bigrams ngram_range=(2,2)\n",
    "                           stop_words='english', lowercase=True)\n",
    "#transform\n",
    "Count_data = CountVec.fit_transform([sentence_1,sentence_2])\n",
    " \n",
    "#create dataframe\n",
    "cv_dataframe=pd.DataFrame(Count_data.toarray(),columns=CountVec.get_feature_names())\n",
    "print(cv_dataframe)"
   ]
  },
  {
   "cell_type": "code",
   "execution_count": 29,
   "metadata": {},
   "outputs": [
    {
     "name": "stdout",
     "output_type": "stream",
     "text": [
      "['bag', 'case', 'corpus', 'demonstrate', 'followed', 'second', 'sentence', 'title', 'upper', 'words']\n"
     ]
    }
   ],
   "source": [
    "# Import CountVectorizer from sklearn\n",
    "from sklearn.feature_extraction.text import CountVectorizer\n",
    "cv = CountVectorizer(stop_words='english', lowercase=True)\n",
    "word_count = cv.fit_transform(corpus) # Fit the model\n",
    "\n",
    "print(cv.get_feature_names()) # Print all the words in vocabulary"
   ]
  },
  {
   "cell_type": "code",
   "execution_count": 30,
   "metadata": {},
   "outputs": [
    {
     "data": {
      "text/html": [
       "<div>\n",
       "<style scoped>\n",
       "    .dataframe tbody tr th:only-of-type {\n",
       "        vertical-align: middle;\n",
       "    }\n",
       "\n",
       "    .dataframe tbody tr th {\n",
       "        vertical-align: top;\n",
       "    }\n",
       "\n",
       "    .dataframe thead th {\n",
       "        text-align: right;\n",
       "    }\n",
       "</style>\n",
       "<table border=\"1\" class=\"dataframe\">\n",
       "  <thead>\n",
       "    <tr style=\"text-align: right;\">\n",
       "      <th></th>\n",
       "      <th>bag</th>\n",
       "      <th>case</th>\n",
       "      <th>corpus</th>\n",
       "      <th>demonstrate</th>\n",
       "      <th>followed</th>\n",
       "      <th>second</th>\n",
       "      <th>sentence</th>\n",
       "      <th>title</th>\n",
       "      <th>upper</th>\n",
       "      <th>words</th>\n",
       "    </tr>\n",
       "  </thead>\n",
       "  <tbody>\n",
       "    <tr>\n",
       "      <th>0</th>\n",
       "      <td>1</td>\n",
       "      <td>0</td>\n",
       "      <td>1</td>\n",
       "      <td>1</td>\n",
       "      <td>1</td>\n",
       "      <td>0</td>\n",
       "      <td>2</td>\n",
       "      <td>0</td>\n",
       "      <td>0</td>\n",
       "      <td>1</td>\n",
       "    </tr>\n",
       "    <tr>\n",
       "      <th>1</th>\n",
       "      <td>0</td>\n",
       "      <td>2</td>\n",
       "      <td>1</td>\n",
       "      <td>0</td>\n",
       "      <td>0</td>\n",
       "      <td>1</td>\n",
       "      <td>1</td>\n",
       "      <td>1</td>\n",
       "      <td>1</td>\n",
       "      <td>2</td>\n",
       "    </tr>\n",
       "  </tbody>\n",
       "</table>\n",
       "</div>"
      ],
      "text/plain": [
       "   bag  case  corpus  demonstrate  followed  second  sentence  title  upper  \\\n",
       "0    1     0       1            1         1       0         2      0      0   \n",
       "1    0     2       1            0         0       1         1      1      1   \n",
       "\n",
       "   words  \n",
       "0      1  \n",
       "1      2  "
      ]
     },
     "execution_count": 30,
     "metadata": {},
     "output_type": "execute_result"
    }
   ],
   "source": [
    "df_ = pd.DataFrame(word_count.toarray(), columns = cv.get_feature_names())\n",
    "df_ # bag of words vectorized representation"
   ]
  },
  {
   "cell_type": "markdown",
   "metadata": {},
   "source": [
    "# 3-3. Generating N-grams"
   ]
  },
  {
   "cell_type": "markdown",
   "metadata": {},
   "source": [
    "What are N-Grams?\n",
    "Again same questions, what are n-grams and why do we use them? Let us understand this with an example below-\n",
    "\n",
    "Sentence 1: “This is a good job. I will not miss it for anything”\n",
    "\n",
    "Sentence 2: ”This is not good at all”\n",
    "\n",
    "For this example, let us take the vocabulary of 5 words only. The five words being-\n",
    "\n",
    "good\n",
    "job\n",
    "miss\n",
    "not\n",
    "all\n",
    "So, the respective vectors for these sentences are:\n",
    "\n",
    "“This is a good job. I will not miss it for anything”=[1,1,1,1,0]\n",
    "\n",
    "”This is not good at all”=[1,0,0,1,1]\n",
    "\n",
    "Can you guess what is the problem here? Sentence 2 is a negative sentence and sentence 1 is a positive sentence. Does this reflect in any way in the vectors above? Not at all. So how can we solve this problem? Here come the N-grams to our rescue.\n",
    "\n",
    "An N-gram is an N-token sequence of words: a 2-gram (more commonly called a bigram) is a two-word sequence of words like “really good”, “not good”, or “your homework”, and a 3-gram (more commonly called a trigram) is a three-word sequence of words like “not at all”, or “turn off light”"
   ]
  },
  {
   "cell_type": "markdown",
   "metadata": {},
   "source": [
    "For example, the bigrams in the first line of text in the previous section: “This is not good at all” are as follows:\n",
    "\n",
    "“This is”\n",
    "“is not”\n",
    "“not good”\n",
    "“good at”\n",
    "“at all”\n",
    "Now if instead of using just words in the above example, we use bigrams (Bag-of-bigrams) as shown above. The model can differentiate between sentence 1 and sentence 2. So, using bi-grams makes tokens more understandable (for example, “HSR Layout”, in Bengaluru, is more informative than “HSR” and “layout”)\n",
    "\n",
    "So we can conclude that a bag-of-bigrams representation is much more powerful than bag-of-words, and in many cases proves very hard to beat."
   ]
  },
  {
   "cell_type": "code",
   "execution_count": 36,
   "metadata": {},
   "outputs": [],
   "source": [
    "Text = \"I am learning NLP\"\n",
    "\n",
    "#Import textblob\n",
    "from textblob import TextBlob\n"
   ]
  },
  {
   "cell_type": "code",
   "execution_count": 37,
   "metadata": {},
   "outputs": [
    {
     "data": {
      "text/plain": [
       "[WordList(['I']), WordList(['am']), WordList(['learning']), WordList(['NLP'])]"
      ]
     },
     "execution_count": 37,
     "metadata": {},
     "output_type": "execute_result"
    }
   ],
   "source": [
    "TextBlob(Text).ngrams(1)"
   ]
  },
  {
   "cell_type": "code",
   "execution_count": 38,
   "metadata": {},
   "outputs": [
    {
     "data": {
      "text/plain": [
       "[WordList(['I', 'am']),\n",
       " WordList(['am', 'learning']),\n",
       " WordList(['learning', 'NLP'])]"
      ]
     },
     "execution_count": 38,
     "metadata": {},
     "output_type": "execute_result"
    }
   ],
   "source": [
    "TextBlob(Text).ngrams(2)"
   ]
  },
  {
   "cell_type": "code",
   "execution_count": 50,
   "metadata": {},
   "outputs": [
    {
     "name": "stdout",
     "output_type": "stream",
     "text": [
      "{'an': 0, 'apple': 2, 'day': 5, 'keeps': 9, 'the': 11, 'doctor': 7, 'away': 4, 'an apple': 1, 'apple day': 3, 'day keeps': 6, 'keeps the': 10, 'the doctor': 12, 'doctor away': 8}\n"
     ]
    }
   ],
   "source": [
    "v = CountVectorizer(ngram_range=(1, 2))\n",
    "print(v.fit([\"an apple a day keeps the doctor away\"]).vocabulary_)"
   ]
  },
  {
   "cell_type": "code",
   "execution_count": 54,
   "metadata": {},
   "outputs": [
    {
     "name": "stdout",
     "output_type": "stream",
     "text": [
      "{'an apple': 0, 'apple day': 1, 'day keeps': 2, 'keeps the': 4, 'the doctor': 5, 'doctor away': 3}\n"
     ]
    }
   ],
   "source": [
    "v = CountVectorizer(ngram_range=(2, 2))\n",
    "print(v.fit([\"an apple a day keeps the doctor away\"]).vocabulary_)"
   ]
  },
  {
   "cell_type": "code",
   "execution_count": 55,
   "metadata": {},
   "outputs": [
    {
     "name": "stdout",
     "output_type": "stream",
     "text": [
      "{'an': 0, 'apple': 1, 'day': 3, 'keeps': 5, 'the': 6, 'doctor': 4, 'away': 2}\n"
     ]
    }
   ],
   "source": [
    "v = CountVectorizer(ngram_range=(1, 1))\n",
    "print(v.fit([\"an apple a day keeps the doctor away\"]).vocabulary_)"
   ]
  },
  {
   "cell_type": "code",
   "execution_count": 57,
   "metadata": {},
   "outputs": [
    {
     "name": "stdout",
     "output_type": "stream",
     "text": [
      "{'love nlp': 2, 'will learn': 4, 'learn nlp': 1, 'nlp in': 3, 'in 2month': 0}\n",
      "\n",
      "[[0 0 1 0 0]\n",
      " [1 1 0 1 1]]\n"
     ]
    }
   ],
   "source": [
    "from sklearn.feature_extraction.text import CountVectorizer\n",
    "\n",
    "# Text\n",
    "\n",
    "text = [\"I love NLP\", \"I will learn NLP in 2month\"]\n",
    "\n",
    "# create the transform\n",
    "\n",
    "vectorizer = CountVectorizer(ngram_range=(2,2))\n",
    "\n",
    "# tokenizing\n",
    "\n",
    "vectorizer.fit(text)\n",
    "\n",
    "# encode document\n",
    "\n",
    "\n",
    "vector = vectorizer.transform(text)\n",
    "\n",
    "# summarize & generating output\n",
    "print(vectorizer.fit(text).vocabulary_)\n",
    "print()\n",
    "print(vector.toarray())\n"
   ]
  },
  {
   "cell_type": "markdown",
   "metadata": {},
   "source": [
    "# 3-6. Converting Text to Features Using TF-IDF"
   ]
  },
  {
   "cell_type": "markdown",
   "metadata": {},
   "source": [
    "What is Tf-Idf ( term frequency-inverse document frequency)?\n",
    "The scoring method being used above takes the count of each word and represents the word in the vector by the number of counts of that particular word. What does a word having high word count signify?\n",
    "\n",
    "Does this mean that the word is important in retrieving information about documents? The answer is NO. Let me explain, if a word occurs many times in a document but also along with many other documents in our dataset, maybe it is because this word is just a frequent word; not because it is relevant or meaningful.\n",
    "\n",
    "One approach is to rescale the frequency of words by how often they appear in all documents so that the scores for frequent words like “the” that are also frequent across all documents are penalized. This approach is called term frequency-inverse document frequency or shortly known as Tf-Idf approach of scoring.TF-IDF is intended to reflect how relevant a term is in a given document. So how is Tf-Idf of a document in a dataset calculated?\n",
    "\n",
    "TF-IDF for a word in a document is calculated by multiplying two different metrics:\n",
    "\n",
    "The term frequency (TF) of a word in a document. There are several ways of calculating this frequency, with the simplest being a raw count of instances a word appears in a document. Then, there are other ways to adjust the frequency. For example, by dividing the raw count of instances of a word by either length of the document, or by the raw frequency of the most frequent word in the document. The formula to calculate Term-Frequency is"
   ]
  },
  {
   "cell_type": "markdown",
   "metadata": {},
   "source": [
    "TF(i,j)=n(i,j)/Σ n(i,j)"
   ]
  },
  {
   "cell_type": "markdown",
   "metadata": {},
   "source": [
    "Where,\n",
    "\n",
    "n(i,j )= number of times nth word  occurred in a document\n",
    "\n",
    "Σn(i,j) = total number of words in a document. "
   ]
  },
  {
   "cell_type": "markdown",
   "metadata": {},
   "source": [
    "The inverse document frequency(IDF) of the word across a set of documents. This suggests how common or rare a word is in the entire document set. The closer it is to 0, the more common is the word. This metric can be calculated by taking the total number of documents, dividing it by the number of documents that contain a word, and calculating the logarithm."
   ]
  },
  {
   "cell_type": "markdown",
   "metadata": {},
   "source": [
    "So, if the word is very common and appears in many documents, this number will approach 0. Otherwise, it will approach 1.\n",
    "\n",
    "Multiplying these two numbers results in the TF-IDF score of a word in a document. The higher the score, the more relevant that word is in that particular document.\n",
    "\n",
    "To put it in mathematical terms, the TF-IDF score is calculated as follows:"
   ]
  },
  {
   "cell_type": "markdown",
   "metadata": {},
   "source": [
    "IDF=1+log(N/dN)"
   ]
  },
  {
   "cell_type": "markdown",
   "metadata": {},
   "source": [
    "IDF=1+log(N/dN)\n",
    "\n",
    "Where\n",
    "\n",
    "N=Total number of documents in the dataset\n",
    "\n",
    "dN=total number of documents in which nth word occur "
   ]
  },
  {
   "cell_type": "markdown",
   "metadata": {},
   "source": [
    "Also, note that the 1 added in the above formula is so that terms with zero IDF don’t get suppressed entirely. This process is known as IDF smoothing.\n",
    "\n",
    "The TF-IDF is obtained by \n",
    "\n",
    "TF-IDF=TF*IDF\n",
    "Does this seem too complicated? Don’t worry, this can be attained with just a few lines of code and you don’t even have to remember these scary formulas."
   ]
  },
  {
   "cell_type": "code",
   "execution_count": 4,
   "metadata": {},
   "outputs": [],
   "source": [
    "Text = [\"The quick brown fox jumped over the lazy dog.\",\n",
    "\"The dog.\",\n",
    "\"The fox\"]\n",
    "\n",
    "#Import TfidfVectorizer\n",
    "\n",
    "from sklearn.feature_extraction.text import TfidfVectorizer"
   ]
  },
  {
   "cell_type": "code",
   "execution_count": 5,
   "metadata": {},
   "outputs": [
    {
     "data": {
      "text/plain": [
       "(3, 8)"
      ]
     },
     "execution_count": 5,
     "metadata": {},
     "output_type": "execute_result"
    }
   ],
   "source": [
    "tfidf_vectorizer = TfidfVectorizer()\n",
    "tfidf_matrix = tfidf_vectorizer.fit_transform(Text)\n",
    "\n",
    "tfidf_matrix.shape"
   ]
  },
  {
   "cell_type": "code",
   "execution_count": 6,
   "metadata": {},
   "outputs": [
    {
     "name": "stdout",
     "output_type": "stream",
     "text": [
      "  (0, 7)\t0.4298344050159891\n",
      "  (0, 6)\t0.3638864554802418\n",
      "  (0, 0)\t0.3638864554802418\n",
      "  (0, 2)\t0.27674502873103346\n",
      "  (0, 3)\t0.3638864554802418\n",
      "  (0, 5)\t0.3638864554802418\n",
      "  (0, 4)\t0.3638864554802418\n",
      "  (0, 1)\t0.27674502873103346\n",
      "  (1, 7)\t0.6133555370249717\n",
      "  (1, 1)\t0.7898069290660905\n",
      "  (2, 7)\t0.6133555370249717\n",
      "  (2, 2)\t0.7898069290660905\n"
     ]
    }
   ],
   "source": [
    "print(tfidf_matrix)"
   ]
  },
  {
   "cell_type": "code",
   "execution_count": 24,
   "metadata": {},
   "outputs": [
    {
     "name": "stdout",
     "output_type": "stream",
     "text": [
      "Without Smoothing:\n",
      "       good       job      miss\n",
      "0  0.385372  0.652491  0.652491\n",
      "1  1.000000  0.000000  0.000000\n",
      "\n",
      "\n",
      "With Smoothing:\n",
      "       good       job      miss\n",
      "0  0.449436  0.631667  0.631667\n",
      "1  1.000000  0.000000  0.000000\n"
     ]
    }
   ],
   "source": [
    "import pandas as pd\n",
    "from sklearn.feature_extraction.text import CountVectorizer, TfidfVectorizer\n",
    " \n",
    "sentence_1=\"This is a good job.I will not miss it for anything\"\n",
    "sentence_2=\"This is not good at all\"\n",
    " \n",
    " \n",
    " \n",
    "#without smooth IDF\n",
    "print(\"Without Smoothing:\")\n",
    "#define tf-idf\n",
    "tf_idf_vec = TfidfVectorizer(use_idf=True, \n",
    "                        smooth_idf=False,  \n",
    "                        ngram_range=(1,1),stop_words='english') # to use only  bigrams ngram_range=(2,2)\n",
    "#transform\n",
    "tf_idf_data = tf_idf_vec.fit_transform([sentence_1,sentence_2])\n",
    " \n",
    "#create dataframe\n",
    "tf_idf_dataframe=pd.DataFrame(tf_idf_data.toarray(),columns=tf_idf_vec.get_feature_names())\n",
    "print(tf_idf_dataframe)\n",
    "print(\"\\n\")\n",
    " \n",
    "#with smooth\n",
    "tf_idf_vec_smooth = TfidfVectorizer(use_idf=True,  \n",
    "                        smooth_idf=True,  \n",
    "                        ngram_range=(1,1),stop_words='english')\n",
    " \n",
    " \n",
    "tf_idf_data_smooth = tf_idf_vec_smooth.fit_transform([sentence_1,sentence_2])\n",
    " \n",
    "print(\"With Smoothing:\")\n",
    "tf_idf_dataframe_smooth=pd.DataFrame(tf_idf_data_smooth.toarray(),columns=tf_idf_vec_smooth.get_feature_names())\n",
    "print(tf_idf_dataframe_smooth)\n"
   ]
  },
  {
   "cell_type": "markdown",
   "metadata": {},
   "source": [
    "# 3-7. Implementing Word Embeddings"
   ]
  },
  {
   "cell_type": "code",
   "execution_count": 11,
   "metadata": {},
   "outputs": [
    {
     "name": "stdout",
     "output_type": "stream",
     "text": [
      "Requirement already satisfied: gensim in /Users/akskulka/anaconda3/lib/python3.7/site-packages (3.8.3)\n",
      "Requirement already satisfied: six>=1.5.0 in /Users/akskulka/anaconda3/lib/python3.7/site-packages (from gensim) (1.12.0)\n",
      "Requirement already satisfied: numpy>=1.11.3 in /Users/akskulka/anaconda3/lib/python3.7/site-packages (from gensim) (1.16.2)\n",
      "Requirement already satisfied: smart-open>=1.8.1 in /Users/akskulka/anaconda3/lib/python3.7/site-packages (from gensim) (2.1.0)\n",
      "Requirement already satisfied: scipy>=0.18.1 in /Users/akskulka/anaconda3/lib/python3.7/site-packages (from gensim) (1.2.1)\n",
      "Requirement already satisfied: boto in /Users/akskulka/anaconda3/lib/python3.7/site-packages (from smart-open>=1.8.1->gensim) (2.49.0)\n",
      "Requirement already satisfied: boto3 in /Users/akskulka/anaconda3/lib/python3.7/site-packages (from smart-open>=1.8.1->gensim) (1.14.18)\n",
      "Requirement already satisfied: requests in /Users/akskulka/anaconda3/lib/python3.7/site-packages (from smart-open>=1.8.1->gensim) (2.21.0)\n",
      "Requirement already satisfied: jmespath<1.0.0,>=0.7.1 in /Users/akskulka/anaconda3/lib/python3.7/site-packages (from boto3->smart-open>=1.8.1->gensim) (0.10.0)\n",
      "Requirement already satisfied: s3transfer<0.4.0,>=0.3.0 in /Users/akskulka/anaconda3/lib/python3.7/site-packages (from boto3->smart-open>=1.8.1->gensim) (0.3.3)\n",
      "Requirement already satisfied: botocore<1.18.0,>=1.17.18 in /Users/akskulka/anaconda3/lib/python3.7/site-packages (from boto3->smart-open>=1.8.1->gensim) (1.17.18)\n",
      "Requirement already satisfied: certifi>=2017.4.17 in /Users/akskulka/anaconda3/lib/python3.7/site-packages (from requests->smart-open>=1.8.1->gensim) (2020.12.5)\n",
      "Requirement already satisfied: urllib3<1.25,>=1.21.1 in /Users/akskulka/anaconda3/lib/python3.7/site-packages (from requests->smart-open>=1.8.1->gensim) (1.24.1)\n",
      "Requirement already satisfied: chardet<3.1.0,>=3.0.2 in /Users/akskulka/anaconda3/lib/python3.7/site-packages (from requests->smart-open>=1.8.1->gensim) (3.0.4)\n",
      "Requirement already satisfied: idna<2.9,>=2.5 in /Users/akskulka/anaconda3/lib/python3.7/site-packages (from requests->smart-open>=1.8.1->gensim) (2.8)\n",
      "Requirement already satisfied: docutils<0.16,>=0.10 in /Users/akskulka/anaconda3/lib/python3.7/site-packages (from botocore<1.18.0,>=1.17.18->boto3->smart-open>=1.8.1->gensim) (0.14)\n",
      "Requirement already satisfied: python-dateutil<3.0.0,>=2.1 in /Users/akskulka/anaconda3/lib/python3.7/site-packages (from botocore<1.18.0,>=1.17.18->boto3->smart-open>=1.8.1->gensim) (2.8.0)\n",
      "Word2Vec(vocab=21, size=50, alpha=0.025)\n",
      "[ 0.0019863   0.00305439  0.00851027  0.00050386 -0.00334021 -0.00148138\n",
      "  0.00240366  0.00515153 -0.00591564 -0.00426397  0.0070021   0.00455667\n",
      "  0.00634297  0.00943609  0.0005542  -0.00480738 -0.00329596 -0.00677476\n",
      "  0.00648667  0.00443281 -0.00981098 -0.00860599  0.00261449  0.00058699\n",
      " -0.00979012 -0.00030687 -0.00328608  0.00036628 -0.00232477 -0.00390609\n",
      "  0.00491787 -0.00070009  0.00841135 -0.00745313 -0.00780311  0.00505063\n",
      " -0.00977744  0.00981867 -0.0037997   0.00174579  0.00080617 -0.00841\n",
      "  0.00264036 -0.00647916 -0.00200911 -0.00418488 -0.0023404  -0.00271455\n",
      "  0.00061031 -0.00906236]\n"
     ]
    },
    {
     "name": "stderr",
     "output_type": "stream",
     "text": [
      "/Users/akskulka/anaconda3/lib/python3.7/site-packages/ipykernel_launcher.py:26: DeprecationWarning: Call to deprecated `__getitem__` (Method will be removed in 4.0.0, use self.wv.__getitem__() instead).\n"
     ]
    }
   ],
   "source": [
    "sentences = [['I', 'love', 'nlp'],\n",
    "\t\t\t['I', 'will', 'learn', 'nlp', 'in', '2','months'],\n",
    "\t\t\t['nlp', 'is', 'future'],\n",
    "\t\t\t['nlp', 'saves', 'time', 'and', 'solves', 'lot', 'of', 'industry', 'problems'],\n",
    "\t\t\t['nlp', 'uses', 'machine', 'learning']]\n",
    "\n",
    "\n",
    "#import library \n",
    "\n",
    "!pip install gensim\n",
    "\n",
    "import gensim\n",
    "from gensim.models import Word2Vec\n",
    "from sklearn.decomposition import PCA\n",
    "import matplotlib\n",
    "from matplotlib import pyplot\n",
    "\n",
    "# training the model\n",
    "\n",
    "skipgram = Word2Vec(sentences, size =50, window = 3, min_count=1,sg = 1)\n",
    "print(skipgram)\n",
    "\n",
    "\n",
    "# access vector for one word\n",
    "\n",
    "print(skipgram['nlp'])\n"
   ]
  },
  {
   "cell_type": "code",
   "execution_count": 12,
   "metadata": {},
   "outputs": [],
   "source": [
    "# save model\n",
    "\n",
    "skipgram.save('skipgram.bin')\n",
    "\n",
    "# load model\n",
    "\n",
    "skipgram = Word2Vec.load('skipgram.bin')\n"
   ]
  },
  {
   "cell_type": "code",
   "execution_count": 13,
   "metadata": {},
   "outputs": [
    {
     "name": "stderr",
     "output_type": "stream",
     "text": [
      "/Users/akskulka/anaconda3/lib/python3.7/site-packages/ipykernel_launcher.py:3: DeprecationWarning: Call to deprecated `__getitem__` (Method will be removed in 4.0.0, use self.wv.__getitem__() instead).\n",
      "  This is separate from the ipykernel package so we can avoid doing imports until\n"
     ]
    },
    {
     "data": {
      "image/png": "[encoded data removed]",
      "text/plain": [
       "<Figure size 432x288 with 1 Axes>"
      ]
     },
     "metadata": {
      "needs_background": "light"
     },
     "output_type": "display_data"
    }
   ],
   "source": [
    "# T – SNE plot \n",
    "\n",
    "X = skipgram[skipgram.wv.vocab]\n",
    "pca = PCA(n_components=2)\n",
    "result = pca.fit_transform(X)\n",
    "\n",
    "# create a scatter plot of the projection\n",
    "\n",
    "pyplot.scatter(result[:, 0], result[:, 1])\n",
    "words = list(skipgram.wv.vocab)\n",
    "for i, word in enumerate(words):\n",
    "\tpyplot.annotate(word, xy=(result[i, 0], result[i, 1]))\n",
    "pyplot.show() \n"
   ]
  },
  {
   "cell_type": "code",
   "execution_count": 14,
   "metadata": {},
   "outputs": [
    {
     "name": "stdout",
     "output_type": "stream",
     "text": [
      "0.40797037\n",
      "0.057204384\n",
      "cereal\n"
     ]
    },
    {
     "name": "stderr",
     "output_type": "stream",
     "text": [
      "/Users/akskulka/anaconda3/lib/python3.7/site-packages/gensim/models/keyedvectors.py:877: FutureWarning: arrays to stack must be passed as a \"sequence\" type such as list or tuple. Support for non-sequence iterables such as generators is deprecated as of NumPy 1.16 and will raise an error in the future.\n",
      "  vectors = vstack(self.word_vec(word, use_norm=True) for word in used_words).astype(REAL)\n"
     ]
    }
   ],
   "source": [
    "# import gensim package\n",
    "\n",
    "import gensim\n",
    "\n",
    "# load the saved model \n",
    " \n",
    "model = gensim.models.KeyedVectors.load_word2vec_format('GoogleNews-vectors-negative300.bin', binary=True)  \n",
    " \n",
    "\n",
    "#Checking how similarity works. \n",
    "\n",
    "print (model.similarity('this', 'is'))\n",
    "\n",
    "#Lets check one more.\n",
    "print (model.similarity('post', 'book'))\n",
    "\n",
    "# Finding the odd one out.\n",
    "\n",
    "print (model.doesnt_match('breakfast cereal dinner lunch'.split()))\n",
    "\n",
    "# It is also finding the relations between words. \n",
    "\n",
    "#word_vectors.most_similar(positive=['woman', 'king'], negative=['man'])\n"
   ]
  },
  {
   "cell_type": "raw",
   "metadata": {},
   "source": [
    "Recipe 3-8 Implementing FastText"
   ]
  },
  {
   "cell_type": "code",
   "execution_count": 15,
   "metadata": {},
   "outputs": [
    {
     "name": "stdout",
     "output_type": "stream",
     "text": [
      "[ 0.00145743 -0.006103   -0.01052622 -0.00311103 -0.00338806  0.02404632\n",
      " -0.00938473  0.00470077 -0.00037666 -0.00319065 -0.01831873 -0.00377998\n",
      " -0.00250528 -0.0063827   0.00522308  0.01522697  0.02165839 -0.00143036\n",
      " -0.00438009  0.00490688]\n",
      "[-0.00551768 -0.00133838 -0.00853625  0.00362653 -0.0089807   0.022962\n",
      " -0.00074487  0.00164554 -0.02352585 -0.00652109 -0.0067275   0.01114251\n",
      "  0.00089385 -0.02170741 -0.00463046 -0.00650469  0.00407186  0.01711867\n",
      " -0.00594492 -0.01274448]\n"
     ]
    },
    {
     "name": "stderr",
     "output_type": "stream",
     "text": [
      "/Users/akskulka/anaconda3/lib/python3.7/site-packages/ipykernel_launcher.py:20: DeprecationWarning: Call to deprecated `__getitem__` (Method will be removed in 4.0.0, use self.wv.__getitem__() instead).\n",
      "/Users/akskulka/anaconda3/lib/python3.7/site-packages/ipykernel_launcher.py:21: DeprecationWarning: Call to deprecated `__getitem__` (Method will be removed in 4.0.0, use self.wv.__getitem__() instead).\n"
     ]
    }
   ],
   "source": [
    "# Import FastText\n",
    "\n",
    "from gensim.models import FastText\n",
    "from sklearn.decomposition import PCA\n",
    "from matplotlib import pyplot\n",
    "\n",
    "#Example sentences\n",
    "\n",
    "sentences = [['I', 'love', 'nlp'],\n",
    "\t\t\t['I', 'will', 'learn', 'nlp', 'in', '2','months'],\n",
    "\t\t\t['nlp', 'is', 'future'],\n",
    "\t\t\t['nlp', 'saves', 'time', 'and', 'solves', 'lot', 'of', 'industry', 'problems'],\n",
    "\t\t\t['nlp', 'uses', 'machine', 'learning']]\n",
    "\n",
    "\n",
    "fast = FastText(sentences,size=20, window=1, min_count=1, workers=5, min_n=1, max_n=2)\n",
    "\n",
    "# vector for word nlp\n",
    "\n",
    "print(fast['nlp'])\n",
    "print(fast['deep'])"
   ]
  },
  {
   "cell_type": "code",
   "execution_count": null,
   "metadata": {},
   "outputs": [],
   "source": []
  },
  {
   "cell_type": "code",
   "execution_count": 8,
   "metadata": {},
   "outputs": [
    {
     "data": {
      "text/plain": [
       "gensim.models.word2vec.Word2Vec"
      ]
     },
     "execution_count": 8,
     "metadata": {},
     "output_type": "execute_result"
    }
   ],
   "source": [
    "Word2Vec"
   ]
  },
  {
   "cell_type": "markdown",
   "metadata": {
    "collapsed": true
   },
   "source": [
    "Word2Vec in Python with Gensim Library\n",
    "In this section, we will implement Word2Vec model with the help of Python's Gensim library. Follow these steps:\n",
    "\n",
    "Creating Corpus\n",
    "In real-life applications, Word2Vec models are created using billions of documents. For instance Google's Word2Vec model is trained using 3 million words and phrases. However, for the sake of simplicity, we will create a Word2Vec model using a Single Wikipedia article. Our model will not be as good as Google's. Although, it is good enough to explain how Word2Vec model can be implemented using the Gensim library.\n",
    "\n",
    "Before we could summarize Wikipedia articles, we need to fetch them. To do so we will use a couple of libraries. The first library that we need to download is the Beautiful Soup library, which is a very useful Python utility for web scraping. Execute the following command at command prompt to download the Beautiful Soup utility.\n",
    "\n"
   ]
  },
  {
   "cell_type": "code",
   "execution_count": 24,
   "metadata": {},
   "outputs": [],
   "source": [
    "import bs4 as bs\n",
    "import urllib.request\n",
    "import re\n",
    "import nltk\n",
    "\n",
    "scrapped_data = urllib.request.urlopen('https://en.wikipedia.org/wiki/Artificial_intelligence')\n",
    "article = scrapped_data .read()\n",
    "\n",
    "parsed_article = bs.BeautifulSoup(article,'lxml')\n",
    "\n",
    "paragraphs = parsed_article.find_all('p')\n",
    "\n",
    "article_text = \"\"\n",
    "\n",
    "for p in paragraphs:\n",
    "    article_text += p.text"
   ]
  },
  {
   "cell_type": "markdown",
   "metadata": {},
   "source": [
    "In the script above, we first download the Wikipedia article using the urlopen method of the request class of the urllib library. We then read the article content and parse it using an object of the BeautifulSoup class. Wikipedia stores the text content of the article inside p tags. We use the find_all function of the BeautifulSoup object to fetch all the contents from the paragraph tags of the article.\n",
    "\n",
    "Finally, we join all the paragraphs together and store the scraped article in article_text variable for later use."
   ]
  },
  {
   "cell_type": "markdown",
   "metadata": {},
   "source": [
    "At this point we have now imported the article. The next step is to preprocess the content for Word2Vec model. The following script preprocess the text:"
   ]
  },
  {
   "cell_type": "code",
   "execution_count": 25,
   "metadata": {},
   "outputs": [],
   "source": [
    "# Cleaing the text\n",
    "processed_article = article_text.lower()\n",
    "processed_article = re.sub('[^a-zA-Z]', ' ', processed_article )\n",
    "processed_article = re.sub(r'\\s+', ' ', processed_article)\n",
    "\n",
    "# Preparing the dataset\n",
    "all_sentences = nltk.sent_tokenize(processed_article)\n",
    "\n",
    "all_words = [nltk.word_tokenize(sent) for sent in all_sentences]\n",
    "\n",
    "# Removing Stop Words\n",
    "from nltk.corpus import stopwords\n",
    "for i in range(len(all_words)):\n",
    "    all_words[i] = [w for w in all_words[i] if w not in stopwords.words('english')]"
   ]
  },
  {
   "cell_type": "markdown",
   "metadata": {
    "collapsed": true
   },
   "source": [
    "In the script above, we convert all the text to lowercase and then remove all the digits, special characters, and extra spaces from the text. After preprocessing, we are only left with the words.\n",
    "\n",
    "The Word2Vec model is trained on a collection of words. First, we need to convert our article into sentences. We use nltk.sent_tokenize utility to convert our article into sentences. To convert sentences into words, we use nltk.word_tokenize utility. As a last preprocessing step, we remove all the stop words from the text.\n",
    "\n",
    "After the script completes its execution, the all_words object contains the list of all the words in the article. We will use this list to create our Word2Vec model with the Gensim library."
   ]
  },
  {
   "cell_type": "markdown",
   "metadata": {
    "collapsed": true
   },
   "source": [
    "With Gensim, it is extremely straightforward to create Word2Vec model. The word list is passed to the Word2Vec class of the gensim.models package. We need to specify the value for the min_count parameter. A value of 2 for min_count specifies to include only those words in the Word2Vec model that appear at least twice in the corpus. The following script creates Word2Vec model using the Wikipedia article we scraped."
   ]
  },
  {
   "cell_type": "code",
   "execution_count": 26,
   "metadata": {},
   "outputs": [],
   "source": [
    "from gensim.models import Word2Vec\n",
    "\n",
    "word2vec = Word2Vec(all_words, min_count=2)"
   ]
  },
  {
   "cell_type": "markdown",
   "metadata": {
    "collapsed": true
   },
   "source": [
    "To see the dictionary of unique words that exist at least twice in the corpus, execute the following script:"
   ]
  },
  {
   "cell_type": "code",
   "execution_count": 27,
   "metadata": {},
   "outputs": [
    {
     "name": "stdout",
     "output_type": "stream",
     "text": [
      "{'artificial': <gensim.models.keyedvectors.Vocab object at 0x1a251a85f8>, 'intelligence': <gensim.models.keyedvectors.Vocab object at 0x1a251a8668>, 'ai': <gensim.models.keyedvectors.Vocab object at 0x1a251a8208>, 'machines': <gensim.models.keyedvectors.Vocab object at 0x1a251a8940>, 'unlike': <gensim.models.keyedvectors.Vocab object at 0x1a251a8f60>, 'natural': <gensim.models.keyedvectors.Vocab object at 0x1a251a8780>, 'displayed': <gensim.models.keyedvectors.Vocab object at 0x1a251a8b00>, 'humans': <gensim.models.keyedvectors.Vocab object at 0x1a251a8da0>, 'animals': <gensim.models.keyedvectors.Vocab object at 0x1a251a8978>, 'involves': <gensim.models.keyedvectors.Vocab object at 0x1a251a8a90>, 'consciousness': <gensim.models.keyedvectors.Vocab object at 0x1a27fb8b70>, 'categories': <gensim.models.keyedvectors.Vocab object at 0x1a27fb8ba8>, 'often': <gensim.models.keyedvectors.Vocab object at 0x1a27fb8be0>, 'strong': <gensim.models.keyedvectors.Vocab object at 0x1a27fb8c18>, 'usually': <gensim.models.keyedvectors.Vocab object at 0x1a27fb8da0>, 'agi': <gensim.models.keyedvectors.Vocab object at 0x1a27fb8eb8>, 'general': <gensim.models.keyedvectors.Vocab object at 0x1a27fb8f28>, 'called': <gensim.models.keyedvectors.Vocab object at 0x1a27fb8f98>, 'biological': <gensim.models.keyedvectors.Vocab object at 0x1a27fb8fd0>, 'leading': <gensim.models.keyedvectors.Vocab object at 0x1a27fb8f60>, 'field': <gensim.models.keyedvectors.Vocab object at 0x1a27fb8ef0>, 'study': <gensim.models.keyedvectors.Vocab object at 0x1a27fb8dd8>, 'intelligent': <gensim.models.keyedvectors.Vocab object at 0x1a27fb8e48>, 'agents': <gensim.models.keyedvectors.Vocab object at 0x1a27fb8e80>, 'device': <gensim.models.keyedvectors.Vocab object at 0x1a27fb8e10>, 'perceives': <gensim.models.keyedvectors.Vocab object at 0x1a27fb8c88>, 'environment': <gensim.models.keyedvectors.Vocab object at 0x1a27fb8cf8>, 'takes': <gensim.models.keyedvectors.Vocab object at 0x1a27fb8d68>, 'actions': <gensim.models.keyedvectors.Vocab object at 0x1a27fb8d30>, 'maximize': <gensim.models.keyedvectors.Vocab object at 0x1a27fb8cc0>, 'chance': <gensim.models.keyedvectors.Vocab object at 0x1a27fb8c50>, 'successfully': <gensim.models.keyedvectors.Vocab object at 0x1a25148860>, 'achieving': <gensim.models.keyedvectors.Vocab object at 0x1a251487b8>, 'goals': <gensim.models.keyedvectors.Vocab object at 0x1a25148898>, 'term': <gensim.models.keyedvectors.Vocab object at 0x1a27fc20b8>, 'used': <gensim.models.keyedvectors.Vocab object at 0x1a27fc20f0>, 'describe': <gensim.models.keyedvectors.Vocab object at 0x1a27fc2160>, 'computers': <gensim.models.keyedvectors.Vocab object at 0x1a27fc2198>, 'mimic': <gensim.models.keyedvectors.Vocab object at 0x1a27fc2208>, 'cognitive': <gensim.models.keyedvectors.Vocab object at 0x1a27fc2278>, 'functions': <gensim.models.keyedvectors.Vocab object at 0x1a27fc2320>, 'human': <gensim.models.keyedvectors.Vocab object at 0x1a27fc2358>, 'mind': <gensim.models.keyedvectors.Vocab object at 0x1a27fc2390>, 'learning': <gensim.models.keyedvectors.Vocab object at 0x1a27fc2400>, 'problem': <gensim.models.keyedvectors.Vocab object at 0x1a27fc2470>, 'solving': <gensim.models.keyedvectors.Vocab object at 0x1a27fc24a8>, 'become': <gensim.models.keyedvectors.Vocab object at 0x1a27fc2550>, 'increasingly': <gensim.models.keyedvectors.Vocab object at 0x1a27fc2588>, 'capable': <gensim.models.keyedvectors.Vocab object at 0x1a27fc25c0>, 'tasks': <gensim.models.keyedvectors.Vocab object at 0x1a27fc2668>, 'considered': <gensim.models.keyedvectors.Vocab object at 0x1a27fc2748>, 'require': <gensim.models.keyedvectors.Vocab object at 0x1a27fc27b8>, 'definition': <gensim.models.keyedvectors.Vocab object at 0x1a27fc2860>, 'phenomenon': <gensim.models.keyedvectors.Vocab object at 0x1a27fc2898>, 'known': <gensim.models.keyedvectors.Vocab object at 0x1a27fc28d0>, 'effect': <gensim.models.keyedvectors.Vocab object at 0x1a27fc2978>, 'instance': <gensim.models.keyedvectors.Vocab object at 0x1a27fc29b0>, 'character': <gensim.models.keyedvectors.Vocab object at 0x1a27fc2a90>, 'recognition': <gensim.models.keyedvectors.Vocab object at 0x1a27fc2ba8>, 'frequently': <gensim.models.keyedvectors.Vocab object at 0x1a27fc2be0>, 'things': <gensim.models.keyedvectors.Vocab object at 0x1a27fc2c18>, 'routine': <gensim.models.keyedvectors.Vocab object at 0x1a27fc2cc0>, 'technology': <gensim.models.keyedvectors.Vocab object at 0x1a27fc2d30>, 'modern': <gensim.models.keyedvectors.Vocab object at 0x1a27fc2d68>, 'machine': <gensim.models.keyedvectors.Vocab object at 0x1a27fc2dd8>, 'capabilities': <gensim.models.keyedvectors.Vocab object at 0x1a27fc2e10>, 'generally': <gensim.models.keyedvectors.Vocab object at 0x1a27fc2e80>, 'include': <gensim.models.keyedvectors.Vocab object at 0x1a27fc2f98>, 'understanding': <gensim.models.keyedvectors.Vocab object at 0x1a27fc70f0>, 'speech': <gensim.models.keyedvectors.Vocab object at 0x1a27fc7128>, 'competing': <gensim.models.keyedvectors.Vocab object at 0x1a27fc71d0>, 'level': <gensim.models.keyedvectors.Vocab object at 0x1a27fc7278>, 'game': <gensim.models.keyedvectors.Vocab object at 0x1a27fc72b0>, 'systems': <gensim.models.keyedvectors.Vocab object at 0x1a27fc7320>, 'chess': <gensim.models.keyedvectors.Vocab object at 0x1a27fc7400>, 'go': <gensim.models.keyedvectors.Vocab object at 0x1a27fc7470>, 'operating': <gensim.models.keyedvectors.Vocab object at 0x1a27fc74a8>, 'cars': <gensim.models.keyedvectors.Vocab object at 0x1a27fc7518>, 'content': <gensim.models.keyedvectors.Vocab object at 0x1a27fc7550>, 'networks': <gensim.models.keyedvectors.Vocab object at 0x1a27fc7588>, 'founded': <gensim.models.keyedvectors.Vocab object at 0x1a27fc75c0>, 'academic': <gensim.models.keyedvectors.Vocab object at 0x1a27fc75f8>, 'discipline': <gensim.models.keyedvectors.Vocab object at 0x1a27fc7630>, 'years': <gensim.models.keyedvectors.Vocab object at 0x1a27fc76d8>, 'since': <gensim.models.keyedvectors.Vocab object at 0x1a27fc7780>, 'experienced': <gensim.models.keyedvectors.Vocab object at 0x1a27fc77b8>, 'several': <gensim.models.keyedvectors.Vocab object at 0x1a27fc77f0>, 'waves': <gensim.models.keyedvectors.Vocab object at 0x1a27fc7828>, 'followed': <gensim.models.keyedvectors.Vocab object at 0x1a27fc7898>, 'funding': <gensim.models.keyedvectors.Vocab object at 0x1a27fc7940>, 'winter': <gensim.models.keyedvectors.Vocab object at 0x1a27fc7978>, 'new': <gensim.models.keyedvectors.Vocab object at 0x1a27fc7a20>, 'approaches': <gensim.models.keyedvectors.Vocab object at 0x1a27fc7ac8>, 'success': <gensim.models.keyedvectors.Vocab object at 0x1a27fc7b70>, 'alphago': <gensim.models.keyedvectors.Vocab object at 0x1a27fc7c50>, 'defeated': <gensim.models.keyedvectors.Vocab object at 0x1a27fc7c88>, 'professional': <gensim.models.keyedvectors.Vocab object at 0x1a27fc7cc0>, 'player': <gensim.models.keyedvectors.Vocab object at 0x1a27fc7d30>, 'widespread': <gensim.models.keyedvectors.Vocab object at 0x1a27fc7d68>, 'attention': <gensim.models.keyedvectors.Vocab object at 0x1a27fc7da0>, 'history': <gensim.models.keyedvectors.Vocab object at 0x1a27fc7dd8>, 'research': <gensim.models.keyedvectors.Vocab object at 0x1a27fc7e80>, 'sub': <gensim.models.keyedvectors.Vocab object at 0x1a27fc7eb8>, 'fields': <gensim.models.keyedvectors.Vocab object at 0x1a27fc7f28>, 'based': <gensim.models.keyedvectors.Vocab object at 0x1a27fc7fd0>, 'particular': <gensim.models.keyedvectors.Vocab object at 0x1a27fc90b8>, 'e': <gensim.models.keyedvectors.Vocab object at 0x1a27fc90f0>, 'g': <gensim.models.keyedvectors.Vocab object at 0x1a27fc9128>, 'robotics': <gensim.models.keyedvectors.Vocab object at 0x1a27fc9160>, 'use': <gensim.models.keyedvectors.Vocab object at 0x1a27fc9198>, 'tools': <gensim.models.keyedvectors.Vocab object at 0x1a27fc9240>, 'logic': <gensim.models.keyedvectors.Vocab object at 0x1a27fc92b0>, 'neural': <gensim.models.keyedvectors.Vocab object at 0x1a27fc92e8>, 'deep': <gensim.models.keyedvectors.Vocab object at 0x1a27fc9320>, 'philosophical': <gensim.models.keyedvectors.Vocab object at 0x1a27fc9390>, 'also': <gensim.models.keyedvectors.Vocab object at 0x1a27fc9400>, 'social': <gensim.models.keyedvectors.Vocab object at 0x1a27fc9470>, 'factors': <gensim.models.keyedvectors.Vocab object at 0x1a27fc9518>, 'institutions': <gensim.models.keyedvectors.Vocab object at 0x1a27fc9588>, 'work': <gensim.models.keyedvectors.Vocab object at 0x1a27fc9668>, 'researchers': <gensim.models.keyedvectors.Vocab object at 0x1a27fc96d8>, 'traditional': <gensim.models.keyedvectors.Vocab object at 0x1a27fc9748>, 'problems': <gensim.models.keyedvectors.Vocab object at 0x1a27fc97f0>, 'reasoning': <gensim.models.keyedvectors.Vocab object at 0x1a27fc9828>, 'knowledge': <gensim.models.keyedvectors.Vocab object at 0x1a27fc9898>, 'representation': <gensim.models.keyedvectors.Vocab object at 0x1a27fc98d0>, 'planning': <gensim.models.keyedvectors.Vocab object at 0x1a27fc9908>, 'language': <gensim.models.keyedvectors.Vocab object at 0x1a27fc9978>, 'processing': <gensim.models.keyedvectors.Vocab object at 0x1a27fc9a58>, 'perception': <gensim.models.keyedvectors.Vocab object at 0x1a27fc9a90>, 'ability': <gensim.models.keyedvectors.Vocab object at 0x1a27fc9b00>, 'move': <gensim.models.keyedvectors.Vocab object at 0x1a27fc9b70>, 'objects': <gensim.models.keyedvectors.Vocab object at 0x1a27fc9c18>, 'among': <gensim.models.keyedvectors.Vocab object at 0x1a27fc9c88>, 'long': <gensim.models.keyedvectors.Vocab object at 0x1a27fc9e10>, 'statistical': <gensim.models.keyedvectors.Vocab object at 0x1a27fc9ef0>, 'methods': <gensim.models.keyedvectors.Vocab object at 0x1a27fc9f60>, 'computational': <gensim.models.keyedvectors.Vocab object at 0x1a27fc9fd0>, 'symbolic': <gensim.models.keyedvectors.Vocab object at 0x1a27fc8080>, 'many': <gensim.models.keyedvectors.Vocab object at 0x1a27fc80f0>, 'including': <gensim.models.keyedvectors.Vocab object at 0x1a27fc8198>, 'search': <gensim.models.keyedvectors.Vocab object at 0x1a27fc81d0>, 'mathematical': <gensim.models.keyedvectors.Vocab object at 0x1a27fc8208>, 'optimization': <gensim.models.keyedvectors.Vocab object at 0x1a27fc8358>, 'statistics': <gensim.models.keyedvectors.Vocab object at 0x1a27fc83c8>, 'probability': <gensim.models.keyedvectors.Vocab object at 0x1a27fc8438>, 'economics': <gensim.models.keyedvectors.Vocab object at 0x1a27fc84a8>, 'upon': <gensim.models.keyedvectors.Vocab object at 0x1a27fc8518>, 'computer': <gensim.models.keyedvectors.Vocab object at 0x1a27fc8550>, 'science': <gensim.models.keyedvectors.Vocab object at 0x1a27fc8588>, 'information': <gensim.models.keyedvectors.Vocab object at 0x1a27fc85f8>, 'engineering': <gensim.models.keyedvectors.Vocab object at 0x1a27fc8630>, 'mathematics': <gensim.models.keyedvectors.Vocab object at 0x1a27fc8668>, 'psychology': <gensim.models.keyedvectors.Vocab object at 0x1a27fc86a0>, 'philosophy': <gensim.models.keyedvectors.Vocab object at 0x1a27fc8710>, 'described': <gensim.models.keyedvectors.Vocab object at 0x1a27fc8748>, 'simulate': <gensim.models.keyedvectors.Vocab object at 0x1a27fc87b8>, 'ethics': <gensim.models.keyedvectors.Vocab object at 0x1a27fc87f0>, 'creating': <gensim.models.keyedvectors.Vocab object at 0x1a27fc8828>, 'beings': <gensim.models.keyedvectors.Vocab object at 0x1a27fc8898>, 'like': <gensim.models.keyedvectors.Vocab object at 0x1a27fc88d0>, 'issues': <gensim.models.keyedvectors.Vocab object at 0x1a27fc8940>, 'explored': <gensim.models.keyedvectors.Vocab object at 0x1a27fc8978>, 'fiction': <gensim.models.keyedvectors.Vocab object at 0x1a27fc89e8>, 'antiquity': <gensim.models.keyedvectors.Vocab object at 0x1a27fc8a90>, 'people': <gensim.models.keyedvectors.Vocab object at 0x1a27fc8b38>, 'consider': <gensim.models.keyedvectors.Vocab object at 0x1a27fc8ba8>, 'danger': <gensim.models.keyedvectors.Vocab object at 0x1a27fc8be0>, 'humanity': <gensim.models.keyedvectors.Vocab object at 0x1a27fc8c18>, 'others': <gensim.models.keyedvectors.Vocab object at 0x1a27fc8cc0>, 'believe': <gensim.models.keyedvectors.Vocab object at 0x1a27fc8d30>, 'previous': <gensim.models.keyedvectors.Vocab object at 0x1a27fc8e10>, 'technological': <gensim.models.keyedvectors.Vocab object at 0x1a27fc8e48>, 'create': <gensim.models.keyedvectors.Vocab object at 0x1a27fc8eb8>, 'risk': <gensim.models.keyedvectors.Vocab object at 0x1a27fc8ef0>, 'unemployment': <gensim.models.keyedvectors.Vocab object at 0x1a27fc8f28>, 'twenty': <gensim.models.keyedvectors.Vocab object at 0x1a27fc8fd0>, 'first': <gensim.models.keyedvectors.Vocab object at 0x1a27fcb0b8>, 'century': <gensim.models.keyedvectors.Vocab object at 0x1a27fcb160>, 'techniques': <gensim.models.keyedvectors.Vocab object at 0x1a27fcb1d0>, 'following': <gensim.models.keyedvectors.Vocab object at 0x1a27fcb208>, 'concurrent': <gensim.models.keyedvectors.Vocab object at 0x1a27fcb320>, 'advances': <gensim.models.keyedvectors.Vocab object at 0x1a27fcb358>, 'power': <gensim.models.keyedvectors.Vocab object at 0x1a27fcb438>, 'large': <gensim.models.keyedvectors.Vocab object at 0x1a27fcb4a8>, 'amounts': <gensim.models.keyedvectors.Vocab object at 0x1a27fcb4e0>, 'data': <gensim.models.keyedvectors.Vocab object at 0x1a27fcb550>, 'part': <gensim.models.keyedvectors.Vocab object at 0x1a27fcb5c0>, 'industry': <gensim.models.keyedvectors.Vocab object at 0x1a27fcb630>, 'solve': <gensim.models.keyedvectors.Vocab object at 0x1a27fcb668>, 'challenging': <gensim.models.keyedvectors.Vocab object at 0x1a27fcb6d8>, 'software': <gensim.models.keyedvectors.Vocab object at 0x1a27fcb780>, 'operations': <gensim.models.keyedvectors.Vocab object at 0x1a27fcb7f0>, 'thought': <gensim.models.keyedvectors.Vocab object at 0x1a27fcb8d0>, 'appeared': <gensim.models.keyedvectors.Vocab object at 0x1a27fcb940>, 'storytelling': <gensim.models.keyedvectors.Vocab object at 0x1a27fcb978>, 'devices': <gensim.models.keyedvectors.Vocab object at 0x1a27fcb9b0>, 'common': <gensim.models.keyedvectors.Vocab object at 0x1a27fcb9e8>, 'mary': <gensim.models.keyedvectors.Vocab object at 0x1a27fcba58>, 'shelley': <gensim.models.keyedvectors.Vocab object at 0x1a27fcbac8>, 'frankenstein': <gensim.models.keyedvectors.Vocab object at 0x1a27fcbb00>, 'karel': <gensim.models.keyedvectors.Vocab object at 0x1a27fcbba8>, 'apek': <gensim.models.keyedvectors.Vocab object at 0x1a27fcbc50>, 'r': <gensim.models.keyedvectors.Vocab object at 0x1a27fcbc88>, 'u': <gensim.models.keyedvectors.Vocab object at 0x1a27fcbcc0>, 'discussed': <gensim.models.keyedvectors.Vocab object at 0x1a27fcbda0>, 'mechanical': <gensim.models.keyedvectors.Vocab object at 0x1a27fcbdd8>, 'formal': <gensim.models.keyedvectors.Vocab object at 0x1a27fcbe10>, 'began': <gensim.models.keyedvectors.Vocab object at 0x1a27fcbe80>, 'philosophers': <gensim.models.keyedvectors.Vocab object at 0x1a27fcbeb8>, 'led': <gensim.models.keyedvectors.Vocab object at 0x1a27fcbef0>, 'directly': <gensim.models.keyedvectors.Vocab object at 0x1a27fcbf60>, 'turing': <gensim.models.keyedvectors.Vocab object at 0x1a27fcbf98>, 'theory': <gensim.models.keyedvectors.Vocab object at 0x1a27fcc048>, 'computation': <gensim.models.keyedvectors.Vocab object at 0x1a27fcc080>, 'simple': <gensim.models.keyedvectors.Vocab object at 0x1a27fcc128>, 'could': <gensim.models.keyedvectors.Vocab object at 0x1a27fcc160>, 'deduction': <gensim.models.keyedvectors.Vocab object at 0x1a27fcc198>, 'digital': <gensim.models.keyedvectors.Vocab object at 0x1a27fcc1d0>, 'process': <gensim.models.keyedvectors.Vocab object at 0x1a27fcc240>, 'thesis': <gensim.models.keyedvectors.Vocab object at 0x1a27fcc2e8>, 'along': <gensim.models.keyedvectors.Vocab object at 0x1a27fcc3c8>, 'neurobiology': <gensim.models.keyedvectors.Vocab object at 0x1a27fcc400>, 'cybernetics': <gensim.models.keyedvectors.Vocab object at 0x1a27fcc438>, 'possibility': <gensim.models.keyedvectors.Vocab object at 0x1a27fcc4a8>, 'building': <gensim.models.keyedvectors.Vocab object at 0x1a27fcc518>, 'electronic': <gensim.models.keyedvectors.Vocab object at 0x1a27fcc588>, 'brain': <gensim.models.keyedvectors.Vocab object at 0x1a27fcc5c0>, 'proposed': <gensim.models.keyedvectors.Vocab object at 0x1a27fcc630>, 'changing': <gensim.models.keyedvectors.Vocab object at 0x1a27fcc6a0>, 'question': <gensim.models.keyedvectors.Vocab object at 0x1a27fcc6d8>, 'whether': <gensim.models.keyedvectors.Vocab object at 0x1a27fcc748>, 'possible': <gensim.models.keyedvectors.Vocab object at 0x1a27fcc7b8>, 'machinery': <gensim.models.keyedvectors.Vocab object at 0x1a27fcc7f0>, 'show': <gensim.models.keyedvectors.Vocab object at 0x1a27fcc860>, 'complete': <gensim.models.keyedvectors.Vocab object at 0x1a27fcc8d0>, 'neurons': <gensim.models.keyedvectors.Vocab object at 0x1a27fcc940>, 'born': <gensim.models.keyedvectors.Vocab object at 0x1a27fcc978>, 'john': <gensim.models.keyedvectors.Vocab object at 0x1a27fcca90>, 'mccarthy': <gensim.models.keyedvectors.Vocab object at 0x1a27fccac8>, 'escape': <gensim.models.keyedvectors.Vocab object at 0x1a27fccb38>, 'cyberneticist': <gensim.models.keyedvectors.Vocab object at 0x1a27fccb70>, 'allen': <gensim.models.keyedvectors.Vocab object at 0x1a27fccbe0>, 'newell': <gensim.models.keyedvectors.Vocab object at 0x1a27fccc18>, 'cmu': <gensim.models.keyedvectors.Vocab object at 0x1a27fccc50>, 'herbert': <gensim.models.keyedvectors.Vocab object at 0x1a27fccc88>, 'simon': <gensim.models.keyedvectors.Vocab object at 0x1a27fccd30>, 'mit': <gensim.models.keyedvectors.Vocab object at 0x1a25159978>, 'marvin': <gensim.models.keyedvectors.Vocab object at 0x1a25159fd0>, 'minsky': <gensim.models.keyedvectors.Vocab object at 0x1a25159ac8>, 'arthur': <gensim.models.keyedvectors.Vocab object at 0x1a25159ef0>, 'samuel': <gensim.models.keyedvectors.Vocab object at 0x1a25159080>, 'ibm': <gensim.models.keyedvectors.Vocab object at 0x1a25159d30>, 'became': <gensim.models.keyedvectors.Vocab object at 0x1a251483c8>, 'founders': <gensim.models.keyedvectors.Vocab object at 0x1a27fccd68>, 'leaders': <gensim.models.keyedvectors.Vocab object at 0x1a27fcce10>, 'produced': <gensim.models.keyedvectors.Vocab object at 0x1a27fcce48>, 'programs': <gensim.models.keyedvectors.Vocab object at 0x1a27fcceb8>, 'checkers': <gensim.models.keyedvectors.Vocab object at 0x1a27fccef0>, 'strategies': <gensim.models.keyedvectors.Vocab object at 0x1a27fccf28>, 'c': <gensim.models.keyedvectors.Vocab object at 0x1a27fccf60>, 'playing': <gensim.models.keyedvectors.Vocab object at 0x1a27fccf98>, 'better': <gensim.models.keyedvectors.Vocab object at 0x1a27fccfd0>, 'average': <gensim.models.keyedvectors.Vocab object at 0x1a27fce080>, 'word': <gensim.models.keyedvectors.Vocab object at 0x1a27fce128>, 'proving': <gensim.models.keyedvectors.Vocab object at 0x1a27fce160>, 'logical': <gensim.models.keyedvectors.Vocab object at 0x1a27fce198>, 'theorems': <gensim.models.keyedvectors.Vocab object at 0x1a27fce1d0>, 'run': <gensim.models.keyedvectors.Vocab object at 0x1a27fce240>, 'middle': <gensim.models.keyedvectors.Vocab object at 0x1a27fce278>, 'heavily': <gensim.models.keyedvectors.Vocab object at 0x1a27fce358>, 'established': <gensim.models.keyedvectors.Vocab object at 0x1a27fce400>, 'around': <gensim.models.keyedvectors.Vocab object at 0x1a27fce470>, 'world': <gensim.models.keyedvectors.Vocab object at 0x1a27fce4e0>, 'future': <gensim.models.keyedvectors.Vocab object at 0x1a27fce550>, 'predicted': <gensim.models.keyedvectors.Vocab object at 0x1a27fce588>, 'within': <gensim.models.keyedvectors.Vocab object at 0x1a27fce5f8>, 'generation': <gensim.models.keyedvectors.Vocab object at 0x1a27fce630>, 'substantially': <gensim.models.keyedvectors.Vocab object at 0x1a27fce668>, 'solved': <gensim.models.keyedvectors.Vocab object at 0x1a27fce6d8>, 'failed': <gensim.models.keyedvectors.Vocab object at 0x1a27fce748>, 'recognize': <gensim.models.keyedvectors.Vocab object at 0x1a27fce7b8>, 'difficulty': <gensim.models.keyedvectors.Vocab object at 0x1a27fce7f0>, 'progress': <gensim.models.keyedvectors.Vocab object at 0x1a27fce860>, 'us': <gensim.models.keyedvectors.Vocab object at 0x1a27fce898>, 'fund': <gensim.models.keyedvectors.Vocab object at 0x1a27fce908>, 'projects': <gensim.models.keyedvectors.Vocab object at 0x1a27fce940>, 'british': <gensim.models.keyedvectors.Vocab object at 0x1a27fce978>, 'governments': <gensim.models.keyedvectors.Vocab object at 0x1a27fcec88>, 'next': <gensim.models.keyedvectors.Vocab object at 0x1a27fceda0>, 'would': <gensim.models.keyedvectors.Vocab object at 0x1a27fcedd8>, 'later': <gensim.models.keyedvectors.Vocab object at 0x1a27fcee48>, 'difficult': <gensim.models.keyedvectors.Vocab object at 0x1a27fceeb8>, 'early': <gensim.models.keyedvectors.Vocab object at 0x1a27fceef0>, 'revived': <gensim.models.keyedvectors.Vocab object at 0x1a27fcef28>, 'commercial': <gensim.models.keyedvectors.Vocab object at 0x1a27fcef60>, 'expert': <gensim.models.keyedvectors.Vocab object at 0x1a27fcef98>, 'form': <gensim.models.keyedvectors.Vocab object at 0x1a27fcf048>, 'program': <gensim.models.keyedvectors.Vocab object at 0x1a27fcf080>, 'simulated': <gensim.models.keyedvectors.Vocab object at 0x1a27fcf0b8>, 'skills': <gensim.models.keyedvectors.Vocab object at 0x1a27fcf0f0>, 'experts': <gensim.models.keyedvectors.Vocab object at 0x1a27fcf128>, 'market': <gensim.models.keyedvectors.Vocab object at 0x1a27fcf1d0>, 'billion': <gensim.models.keyedvectors.Vocab object at 0x1a27fcf208>, 'time': <gensim.models.keyedvectors.Vocab object at 0x1a27fcf320>, 'japan': <gensim.models.keyedvectors.Vocab object at 0x1a27fcf4a8>, 'fifth': <gensim.models.keyedvectors.Vocab object at 0x1a27fcf518>, 'inspired': <gensim.models.keyedvectors.Vocab object at 0x1a27fcf550>, 'however': <gensim.models.keyedvectors.Vocab object at 0x1a27fcf5c0>, 'second': <gensim.models.keyedvectors.Vocab object at 0x1a27fcf5f8>, 'longer': <gensim.models.keyedvectors.Vocab object at 0x1a27fcf630>, 'development': <gensim.models.keyedvectors.Vocab object at 0x1a27fcf668>, 'mos': <gensim.models.keyedvectors.Vocab object at 0x1a27fcf6a0>, 'vlsi': <gensim.models.keyedvectors.Vocab object at 0x1a27fcf748>, 'transistor': <gensim.models.keyedvectors.Vocab object at 0x1a27fcf780>, 'enabled': <gensim.models.keyedvectors.Vocab object at 0x1a27fcf7b8>, 'practical': <gensim.models.keyedvectors.Vocab object at 0x1a27fcf828>, 'network': <gensim.models.keyedvectors.Vocab object at 0x1a27fcf860>, 'landmark': <gensim.models.keyedvectors.Vocab object at 0x1a27fcf898>, 'book': <gensim.models.keyedvectors.Vocab object at 0x1a27fcf908>, 'late': <gensim.models.keyedvectors.Vocab object at 0x1a27fcf9b0>, 'mining': <gensim.models.keyedvectors.Vocab object at 0x1a27fcf9e8>, 'medical': <gensim.models.keyedvectors.Vocab object at 0x1a27fcfa20>, 'diagnosis': <gensim.models.keyedvectors.Vocab object at 0x1a27fcfb00>, 'areas': <gensim.models.keyedvectors.Vocab object at 0x1a27fcfb38>, 'due': <gensim.models.keyedvectors.Vocab object at 0x1a27fcfc50>, 'increasing': <gensim.models.keyedvectors.Vocab object at 0x1a27fcfc88>, 'see': <gensim.models.keyedvectors.Vocab object at 0x1a27fcfcc0>, 'moore': <gensim.models.keyedvectors.Vocab object at 0x1a27fcfd68>, 'law': <gensim.models.keyedvectors.Vocab object at 0x1a27fcfda0>, 'greater': <gensim.models.keyedvectors.Vocab object at 0x1a27fcfef0>, 'emphasis': <gensim.models.keyedvectors.Vocab object at 0x1a27fcff60>, 'specific': <gensim.models.keyedvectors.Vocab object at 0x1a27fcff98>, 'scientific': <gensim.models.keyedvectors.Vocab object at 0x1a27fcffd0>, 'blue': <gensim.models.keyedvectors.Vocab object at 0x1a27fd1080>, 'system': <gensim.models.keyedvectors.Vocab object at 0x1a27fd10f0>, 'beat': <gensim.models.keyedvectors.Vocab object at 0x1a27fd1128>, 'champion': <gensim.models.keyedvectors.Vocab object at 0x1a27fd1160>, 'may': <gensim.models.keyedvectors.Vocab object at 0x1a27fd1198>, 'jeopardy': <gensim.models.keyedvectors.Vocab object at 0x1a27fd11d0>, 'match': <gensim.models.keyedvectors.Vocab object at 0x1a27fd1208>, 'answering': <gensim.models.keyedvectors.Vocab object at 0x1a27fd12b0>, 'two': <gensim.models.keyedvectors.Vocab object at 0x1a27fd12e8>, 'significant': <gensim.models.keyedvectors.Vocab object at 0x1a27fd1320>, 'algorithmic': <gensim.models.keyedvectors.Vocab object at 0x1a27fd1358>, 'improvements': <gensim.models.keyedvectors.Vocab object at 0x1a27fd1390>, 'access': <gensim.models.keyedvectors.Vocab object at 0x1a27fd13c8>, 'accuracy': <gensim.models.keyedvectors.Vocab object at 0x1a27fd1470>, 'provides': <gensim.models.keyedvectors.Vocab object at 0x1a27fd14e0>, 'body': <gensim.models.keyedvectors.Vocab object at 0x1a27fd1518>, 'motion': <gensim.models.keyedvectors.Vocab object at 0x1a27fd1588>, 'xbox': <gensim.models.keyedvectors.Vocab object at 0x1a27fd15f8>, 'one': <gensim.models.keyedvectors.Vocab object at 0x1a27fd1630>, 'uses': <gensim.models.keyedvectors.Vocab object at 0x1a27fd1668>, 'algorithms': <gensim.models.keyedvectors.Vocab object at 0x1a27fd16a0>, 'personal': <gensim.models.keyedvectors.Vocab object at 0x1a27fd1748>, 'assistants': <gensim.models.keyedvectors.Vocab object at 0x1a27fd1780>, 'games': <gensim.models.keyedvectors.Vocab object at 0x1a27fd17f0>, 'becoming': <gensim.models.keyedvectors.Vocab object at 0x1a27fd1860>, 'without': <gensim.models.keyedvectors.Vocab object at 0x1a27fd1940>, 'three': <gensim.models.keyedvectors.Vocab object at 0x1a27fd19b0>, 'complex': <gensim.models.keyedvectors.Vocab object at 0x1a27fd1a90>, 'according': <gensim.models.keyedvectors.Vocab object at 0x1a27fd1b00>, 'clark': <gensim.models.keyedvectors.Vocab object at 0x1a27fd1b70>, 'year': <gensim.models.keyedvectors.Vocab object at 0x1a27fd1ba8>, 'number': <gensim.models.keyedvectors.Vocab object at 0x1a27fd1be0>, 'google': <gensim.models.keyedvectors.Vocab object at 0x1a27fd1c88>, 'increased': <gensim.models.keyedvectors.Vocab object at 0x1a27fd1cf8>, 'presents': <gensim.models.keyedvectors.Vocab object at 0x1a27fd1d30>, 'error': <gensim.models.keyedvectors.Vocab object at 0x1a27fd1da0>, 'image': <gensim.models.keyedvectors.Vocab object at 0x1a27fd1e80>, 'increase': <gensim.models.keyedvectors.Vocab object at 0x1a27fd1f28>, 'rise': <gensim.models.keyedvectors.Vocab object at 0x1a27fd1f60>, 'computing': <gensim.models.keyedvectors.Vocab object at 0x1a27fd1f98>, 'datasets': <gensim.models.keyedvectors.Vocab object at 0x1a27fd2048>, 'examples': <gensim.models.keyedvectors.Vocab object at 0x1a27fd20f0>, 'microsoft': <gensim.models.keyedvectors.Vocab object at 0x1a27fd2128>, 'automatically': <gensim.models.keyedvectors.Vocab object at 0x1a27fd2198>, 'facebook': <gensim.models.keyedvectors.Vocab object at 0x1a27fd2208>, 'images': <gensim.models.keyedvectors.Vocab object at 0x1a27fd2278>, 'blind': <gensim.models.keyedvectors.Vocab object at 0x1a27fd2320>, 'survey': <gensim.models.keyedvectors.Vocab object at 0x1a27fd2358>, 'companies': <gensim.models.keyedvectors.Vocab object at 0x1a27fd2390>, 'incorporated': <gensim.models.keyedvectors.Vocab object at 0x1a27fd24a8>, 'processes': <gensim.models.keyedvectors.Vocab object at 0x1a27fd24e0>, 'china': <gensim.models.keyedvectors.Vocab object at 0x1a27fd2550>, 'greatly': <gensim.models.keyedvectors.Vocab object at 0x1a27fd25f8>, 'given': <gensim.models.keyedvectors.Vocab object at 0x1a27fd2668>, 'output': <gensim.models.keyedvectors.Vocab object at 0x1a27fd26a0>, 'reports': <gensim.models.keyedvectors.Vocab object at 0x1a27fd26d8>, 'tended': <gensim.models.keyedvectors.Vocab object at 0x1a27fd2710>, 'interpret': <gensim.models.keyedvectors.Vocab object at 0x1a27fd27f0>, 'learn': <gensim.models.keyedvectors.Vocab object at 0x1a27fd2860>, 'achieve': <gensim.models.keyedvectors.Vocab object at 0x1a27fd2898>, 'adaptation': <gensim.models.keyedvectors.Vocab object at 0x1a27fd2908>, 'utility': <gensim.models.keyedvectors.Vocab object at 0x1a27fd2940>, 'function': <gensim.models.keyedvectors.Vocab object at 0x1a27fd2a90>, 'goal': <gensim.models.keyedvectors.Vocab object at 0x1a27fd2ac8>, 'otherwise': <gensim.models.keyedvectors.Vocab object at 0x1a27fd2ba8>, 'mathematically': <gensim.models.keyedvectors.Vocab object at 0x1a27fd2c88>, 'similar': <gensim.models.keyedvectors.Vocab object at 0x1a27fd2cc0>, 'ones': <gensim.models.keyedvectors.Vocab object at 0x1a27fd2d30>, 'past': <gensim.models.keyedvectors.Vocab object at 0x1a27fd2e10>, 'explicitly': <gensim.models.keyedvectors.Vocab object at 0x1a27fd2e48>, 'induced': <gensim.models.keyedvectors.Vocab object at 0x1a27fd2f28>, 'programmed': <gensim.models.keyedvectors.Vocab object at 0x1a27fd2f60>, 'reinforcement': <gensim.models.keyedvectors.Vocab object at 0x1a27fd2f98>, 'implicitly': <gensim.models.keyedvectors.Vocab object at 0x1a27fd2fd0>, 'rewarding': <gensim.models.keyedvectors.Vocab object at 0x1a27fd3080>, 'types': <gensim.models.keyedvectors.Vocab object at 0x1a27fd30b8>, 'behavior': <gensim.models.keyedvectors.Vocab object at 0x1a27fd3198>, 'evolutionary': <gensim.models.keyedvectors.Vocab object at 0x1a27fd3240>, 'using': <gensim.models.keyedvectors.Vocab object at 0x1a27fd32e8>, 'high': <gensim.models.keyedvectors.Vocab object at 0x1a27fd3358>, 'evolved': <gensim.models.keyedvectors.Vocab object at 0x1a27fd3390>, 'certain': <gensim.models.keyedvectors.Vocab object at 0x1a27fd3400>, 'food': <gensim.models.keyedvectors.Vocab object at 0x1a27fd3550>, 'nearest': <gensim.models.keyedvectors.Vocab object at 0x1a27fd3588>, 'neighbor': <gensim.models.keyedvectors.Vocab object at 0x1a27fd35f8>, 'instead': <gensim.models.keyedvectors.Vocab object at 0x1a27fd36d8>, 'reason': <gensim.models.keyedvectors.Vocab object at 0x1a27fd3710>, 'except': <gensim.models.keyedvectors.Vocab object at 0x1a27fd3780>, 'degree': <gensim.models.keyedvectors.Vocab object at 0x1a27fd37f0>, 'implicit': <gensim.models.keyedvectors.Vocab object at 0x1a27fd3860>, 'training': <gensim.models.keyedvectors.Vocab object at 0x1a27fd3978>, 'still': <gensim.models.keyedvectors.Vocab object at 0x1a27fd3a20>, 'non': <gensim.models.keyedvectors.Vocab object at 0x1a27fd3b00>, 'whose': <gensim.models.keyedvectors.Vocab object at 0x1a27fd3b70>, 'narrow': <gensim.models.keyedvectors.Vocab object at 0x1a27fd3ba8>, 'classification': <gensim.models.keyedvectors.Vocab object at 0x1a27fd3c18>, 'task': <gensim.models.keyedvectors.Vocab object at 0x1a27fd3c50>, 'algorithm': <gensim.models.keyedvectors.Vocab object at 0x1a27fd3c88>, 'set': <gensim.models.keyedvectors.Vocab object at 0x1a27fd3cc0>, 'built': <gensim.models.keyedvectors.Vocab object at 0x1a27fd3cf8>, 'simpler': <gensim.models.keyedvectors.Vocab object at 0x1a27fd3d30>, 'example': <gensim.models.keyedvectors.Vocab object at 0x1a27fd3da0>, 'rules': <gensim.models.keyedvectors.Vocab object at 0x1a27fd3e80>, 'worked': <gensim.models.keyedvectors.Vocab object at 0x1a27fd3f98>, 'well': <gensim.models.keyedvectors.Vocab object at 0x1a27fd50f0>, 'write': <gensim.models.keyedvectors.Vocab object at 0x1a27fd5160>, 'learners': <gensim.models.keyedvectors.Vocab object at 0x1a27fd52e8>, 'bayesian': <gensim.models.keyedvectors.Vocab object at 0x1a27fd53c8>, 'decision': <gensim.models.keyedvectors.Vocab object at 0x1a27fd5438>, 'infinite': <gensim.models.keyedvectors.Vocab object at 0x1a27fd54e0>, 'approximate': <gensim.models.keyedvectors.Vocab object at 0x1a27fd5550>, 'combination': <gensim.models.keyedvectors.Vocab object at 0x1a27fd55f8>, 'best': <gensim.models.keyedvectors.Vocab object at 0x1a27fd56a0>, 'needed': <gensim.models.keyedvectors.Vocab object at 0x1a27fd5710>, 'therefore': <gensim.models.keyedvectors.Vocab object at 0x1a27fd5860>, 'considering': <gensim.models.keyedvectors.Vocab object at 0x1a27fd58d0>, 'every': <gensim.models.keyedvectors.Vocab object at 0x1a27fd5940>, 'combinatorial': <gensim.models.keyedvectors.Vocab object at 0x1a27fd59e8>, 'explosion': <gensim.models.keyedvectors.Vocab object at 0x1a27fd5a20>, 'exponentially': <gensim.models.keyedvectors.Vocab object at 0x1a27fd5a90>, 'much': <gensim.models.keyedvectors.Vocab object at 0x1a27fd5ac8>, 'figuring': <gensim.models.keyedvectors.Vocab object at 0x1a27fd5ba8>, 'avoid': <gensim.models.keyedvectors.Vocab object at 0x1a27fd5c18>, 'range': <gensim.models.keyedvectors.Vocab object at 0x1a27fd5cc0>, 'beneficial': <gensim.models.keyedvectors.Vocab object at 0x1a27fd5cf8>, 'map': <gensim.models.keyedvectors.Vocab object at 0x1a27fd5d30>, 'looking': <gensim.models.keyedvectors.Vocab object at 0x1a27fd5d68>, 'driving': <gensim.models.keyedvectors.Vocab object at 0x1a27fd5e10>, 'route': <gensim.models.keyedvectors.Vocab object at 0x1a27fd5e48>, 'cases': <gensim.models.keyedvectors.Vocab object at 0x1a27fd5e80>, 'far': <gensim.models.keyedvectors.Vocab object at 0x1a27fd5ef0>, 'thus': <gensim.models.keyedvectors.Vocab object at 0x1a27fd5f60>, 'understand': <gensim.models.keyedvectors.Vocab object at 0x1a27fd5fd0>, 'approach': <gensim.models.keyedvectors.Vocab object at 0x1a27fd60f0>, 'adult': <gensim.models.keyedvectors.Vocab object at 0x1a27fd6208>, 'fever': <gensim.models.keyedvectors.Vocab object at 0x1a27fd6320>, 'influenza': <gensim.models.keyedvectors.Vocab object at 0x1a27fd6358>, 'current': <gensim.models.keyedvectors.Vocab object at 0x1a27fd63c8>, 'patient': <gensim.models.keyedvectors.Vocab object at 0x1a27fd64a8>, 'way': <gensim.models.keyedvectors.Vocab object at 0x1a27fd6588>, 'major': <gensim.models.keyedvectors.Vocab object at 0x1a27fd6630>, 'extremely': <gensim.models.keyedvectors.Vocab object at 0x1a27fd6668>, 'popular': <gensim.models.keyedvectors.Vocab object at 0x1a27fd66a0>, 'applications': <gensim.models.keyedvectors.Vocab object at 0x1a27fd6748>, 'patients': <gensim.models.keyedvectors.Vocab object at 0x1a27fd67b8>, 'x': <gensim.models.keyedvectors.Vocab object at 0x1a27fd6828>, 'works': <gensim.models.keyedvectors.Vocab object at 0x1a27fd68d0>, 'comparing': <gensim.models.keyedvectors.Vocab object at 0x1a27fd6940>, 'altering': <gensim.models.keyedvectors.Vocab object at 0x1a27fd6978>, 'connections': <gensim.models.keyedvectors.Vocab object at 0x1a27fd69b0>, 'seemed': <gensim.models.keyedvectors.Vocab object at 0x1a27fd69e8>, 'make': <gensim.models.keyedvectors.Vocab object at 0x1a27fd6a20>, 'inferences': <gensim.models.keyedvectors.Vocab object at 0x1a27fd6a58>, 'generalize': <gensim.models.keyedvectors.Vocab object at 0x1a27fd6ac8>, 'different': <gensim.models.keyedvectors.Vocab object at 0x1a27fd6b70>, 'basis': <gensim.models.keyedvectors.Vocab object at 0x1a27fd6ba8>, 'likely': <gensim.models.keyedvectors.Vocab object at 0x1a27fd6be0>, 'continue': <gensim.models.keyedvectors.Vocab object at 0x1a27fd6c50>, 'morning': <gensim.models.keyedvectors.Vocab object at 0x1a27fd6cf8>, 'color': <gensim.models.keyedvectors.Vocab object at 0x1a27fd6d68>, 'undiscovered': <gensim.models.keyedvectors.Vocab object at 0x1a27fd6da0>, 'black': <gensim.models.keyedvectors.Vocab object at 0x1a27fd6dd8>, 'exist': <gensim.models.keyedvectors.Vocab object at 0x1a27fd6e48>, 'occam': <gensim.models.keyedvectors.Vocab object at 0x1a27fd6e80>, 'razor': <gensim.models.keyedvectors.Vocab object at 0x1a27fd6f98>, 'principle': <gensim.models.keyedvectors.Vocab object at 0x1a27fd7048>, 'must': <gensim.models.keyedvectors.Vocab object at 0x1a27fd7080>, 'designed': <gensim.models.keyedvectors.Vocab object at 0x1a27fd70b8>, 'theories': <gensim.models.keyedvectors.Vocab object at 0x1a27fd70f0>, 'bad': <gensim.models.keyedvectors.Vocab object at 0x1a27fd7208>, 'overfitting': <gensim.models.keyedvectors.Vocab object at 0x1a27fd7240>, 'attempt': <gensim.models.keyedvectors.Vocab object at 0x1a27fd72e8>, 'reduce': <gensim.models.keyedvectors.Vocab object at 0x1a27fd73c8>, 'accordance': <gensim.models.keyedvectors.Vocab object at 0x1a27fd7470>, 'besides': <gensim.models.keyedvectors.Vocab object at 0x1a27fd74a8>, 'toy': <gensim.models.keyedvectors.Vocab object at 0x1a27fd74e0>, 'classifier': <gensim.models.keyedvectors.Vocab object at 0x1a27fd7518>, 'brown': <gensim.models.keyedvectors.Vocab object at 0x1a27fd7550>, 'horses': <gensim.models.keyedvectors.Vocab object at 0x1a27fd75f8>, 'might': <gensim.models.keyedvectors.Vocab object at 0x1a27fd7668>, 'patches': <gensim.models.keyedvectors.Vocab object at 0x1a27fd76d8>, 'real': <gensim.models.keyedvectors.Vocab object at 0x1a27fd7710>, 'classifiers': <gensim.models.keyedvectors.Vocab object at 0x1a27fd7748>, 'judgments': <gensim.models.keyedvectors.Vocab object at 0x1a27fd7780>, 'relationship': <gensim.models.keyedvectors.Vocab object at 0x1a27fd77f0>, 'pixels': <gensim.models.keyedvectors.Vocab object at 0x1a27fd7828>, 'patterns': <gensim.models.keyedvectors.Vocab object at 0x1a27fd78d0>, 'compared': <gensim.models.keyedvectors.Vocab object at 0x1a27fd7978>, 'existing': <gensim.models.keyedvectors.Vocab object at 0x1a27fd79b0>, 'features': <gensim.models.keyedvectors.Vocab object at 0x1a27fd79e8>, 'commonsense': <gensim.models.keyedvectors.Vocab object at 0x1a27fd7a58>, 'notably': <gensim.models.keyedvectors.Vocab object at 0x1a27fd7ac8>, 'powerful': <gensim.models.keyedvectors.Vocab object at 0x1a27fd7b38>, 'mechanisms': <gensim.models.keyedvectors.Vocab object at 0x1a27fd7b70>, 'na': <gensim.models.keyedvectors.Vocab object at 0x1a27fd7be0>, 'space': <gensim.models.keyedvectors.Vocab object at 0x1a27fd7c88>, 'physical': <gensim.models.keyedvectors.Vocab object at 0x1a27fd7d30>, 'even': <gensim.models.keyedvectors.Vocab object at 0x1a27fd7da0>, 'young': <gensim.models.keyedvectors.Vocab object at 0x1a27fd7dd8>, 'easily': <gensim.models.keyedvectors.Vocab object at 0x1a27fd7e48>, 'fall': <gensim.models.keyedvectors.Vocab object at 0x1a27fd7e80>, 'councilmen': <gensim.models.keyedvectors.Vocab object at 0x1a27fd7eb8>, 'demonstrators': <gensim.models.keyedvectors.Vocab object at 0x1a27fd7f98>, 'advocated': <gensim.models.keyedvectors.Vocab object at 0x1a27fd9080>, 'violence': <gensim.models.keyedvectors.Vocab object at 0x1a27fd9128>, 'means': <gensim.models.keyedvectors.Vocab object at 0x1a27fd9198>, 'makes': <gensim.models.keyedvectors.Vocab object at 0x1a27fd91d0>, 'ways': <gensim.models.keyedvectors.Vocab object at 0x1a27fd9278>, 'self': <gensim.models.keyedvectors.Vocab object at 0x1a27fd92e8>, 'location': <gensim.models.keyedvectors.Vocab object at 0x1a27fd9358>, 'pedestrians': <gensim.models.keyedvectors.Vocab object at 0x1a27fd9390>, 'architectures': <gensim.models.keyedvectors.Vocab object at 0x1a27fd9400>, 'limited': <gensim.models.keyedvectors.Vocab object at 0x1a27fd9438>, 'really': <gensim.models.keyedvectors.Vocab object at 0x1a27fd94e0>, 'come': <gensim.models.keyedvectors.Vocab object at 0x1a27fd9518>, 'beyond': <gensim.models.keyedvectors.Vocab object at 0x1a27fd9550>, 'life': <gensim.models.keyedvectors.Vocab object at 0x1a27fd9588>, 'straightforward': <gensim.models.keyedvectors.Vocab object at 0x1a27fd95f8>, 'opposed': <gensim.models.keyedvectors.Vocab object at 0x1a27fd9668>, 'classes': <gensim.models.keyedvectors.Vocab object at 0x1a27fd96a0>, 'models': <gensim.models.keyedvectors.Vocab object at 0x1a27fd9780>, 'basic': <gensim.models.keyedvectors.Vocab object at 0x1a27fd97b8>, 'model': <gensim.models.keyedvectors.Vocab object at 0x1a27fd9828>, 'allows': <gensim.models.keyedvectors.Vocab object at 0x1a27fd9898>, 'manner': <gensim.models.keyedvectors.Vocab object at 0x1a27fd9908>, 'simulating': <gensim.models.keyedvectors.Vocab object at 0x1a27fd9940>, 'traits': <gensim.models.keyedvectors.Vocab object at 0x1a27fd9978>, 'developed': <gensim.models.keyedvectors.Vocab object at 0x1a27fd9a20>, 'step': <gensim.models.keyedvectors.Vocab object at 0x1a27fd9a58>, 'uncertain': <gensim.models.keyedvectors.Vocab object at 0x1a27fd9ac8>, 'concepts': <gensim.models.keyedvectors.Vocab object at 0x1a27fd9b00>, 'fast': <gensim.models.keyedvectors.Vocab object at 0x1a27fd9b70>, 'central': <gensim.models.keyedvectors.Vocab object at 0x1a27fd9be0>, 'classical': <gensim.models.keyedvectors.Vocab object at 0x1a27fd9c88>, 'gather': <gensim.models.keyedvectors.Vocab object at 0x1a27fd9cf8>, 'possessed': <gensim.models.keyedvectors.Vocab object at 0x1a27fd9d68>, 'domain': <gensim.models.keyedvectors.Vocab object at 0x1a27fd9da0>, 'person': <gensim.models.keyedvectors.Vocab object at 0x1a27fd9e10>, 'comprehensive': <gensim.models.keyedvectors.Vocab object at 0x1a27fd9e48>, 'base': <gensim.models.keyedvectors.Vocab object at 0x1a27fd9eb8>, 'properties': <gensim.models.keyedvectors.Vocab object at 0x1a27fd9ef0>, 'relations': <gensim.models.keyedvectors.Vocab object at 0x1a27fd9f98>, 'events': <gensim.models.keyedvectors.Vocab object at 0x1a27fda048>, 'states': <gensim.models.keyedvectors.Vocab object at 0x1a27fda0f0>, 'effects': <gensim.models.keyedvectors.Vocab object at 0x1a27fda128>, 'know': <gensim.models.keyedvectors.Vocab object at 0x1a27fda1d0>, 'less': <gensim.models.keyedvectors.Vocab object at 0x1a27fda208>, 'domains': <gensim.models.keyedvectors.Vocab object at 0x1a27fda278>, 'exists': <gensim.models.keyedvectors.Vocab object at 0x1a27fda2e8>, 'ontology': <gensim.models.keyedvectors.Vocab object at 0x1a27fda390>, 'individuals': <gensim.models.keyedvectors.Vocab object at 0x1a27fda400>, 'web': <gensim.models.keyedvectors.Vocab object at 0x1a27fda438>, 'ontologies': <gensim.models.keyedvectors.Vocab object at 0x1a27fda4a8>, 'acting': <gensim.models.keyedvectors.Vocab object at 0x1a27fda4e0>, 'cover': <gensim.models.keyedvectors.Vocab object at 0x1a27fda5c0>, 'interest': <gensim.models.keyedvectors.Vocab object at 0x1a27fda630>, 'area': <gensim.models.keyedvectors.Vocab object at 0x1a27fda748>, 'concern': <gensim.models.keyedvectors.Vocab object at 0x1a27fda7b8>, 'representations': <gensim.models.keyedvectors.Vocab object at 0x1a27fda7f0>, 'retrieval': <gensim.models.keyedvectors.Vocab object at 0x1a27fda828>, 'support': <gensim.models.keyedvectors.Vocab object at 0x1a27fda8d0>, 'discovery': <gensim.models.keyedvectors.Vocab object at 0x1a27fda908>, 'able': <gensim.models.keyedvectors.Vocab object at 0x1a27fda978>, 'need': <gensim.models.keyedvectors.Vocab object at 0x1a27fda9e8>, 'predictions': <gensim.models.keyedvectors.Vocab object at 0x1a27fdaa20>, 'change': <gensim.models.keyedvectors.Vocab object at 0x1a27fdaa90>, 'choices': <gensim.models.keyedvectors.Vocab object at 0x1a27fdaac8>, 'available': <gensim.models.keyedvectors.Vocab object at 0x1a27fdab38>, 'agent': <gensim.models.keyedvectors.Vocab object at 0x1a27fdab70>, 'assume': <gensim.models.keyedvectors.Vocab object at 0x1a27fdabe0>, 'consequences': <gensim.models.keyedvectors.Vocab object at 0x1a27fdac18>, 'requires': <gensim.models.keyedvectors.Vocab object at 0x1a27fdac88>, 'uncertainty': <gensim.models.keyedvectors.Vocab object at 0x1a27fdacc0>, 'assess': <gensim.models.keyedvectors.Vocab object at 0x1a27fdad30>, 'multi': <gensim.models.keyedvectors.Vocab object at 0x1a27fdada0>, 'emergent': <gensim.models.keyedvectors.Vocab object at 0x1a27fdae48>, 'fundamental': <gensim.models.keyedvectors.Vocab object at 0x1a27fdaef0>, 'concept': <gensim.models.keyedvectors.Vocab object at 0x1a27fdaf60>, 'improve': <gensim.models.keyedvectors.Vocab object at 0x1a27fdc0f0>, 'experience': <gensim.models.keyedvectors.Vocab object at 0x1a27fdc128>, 'find': <gensim.models.keyedvectors.Vocab object at 0x1a27fdc1d0>, 'input': <gensim.models.keyedvectors.Vocab object at 0x1a27fdc2b0>, 'requiring': <gensim.models.keyedvectors.Vocab object at 0x1a27fdc2e8>, 'label': <gensim.models.keyedvectors.Vocab object at 0x1a27fdc390>, 'inputs': <gensim.models.keyedvectors.Vocab object at 0x1a27fdc438>, 'includes': <gensim.models.keyedvectors.Vocab object at 0x1a27fdc470>, 'regression': <gensim.models.keyedvectors.Vocab object at 0x1a27fdc518>, 'determine': <gensim.models.keyedvectors.Vocab object at 0x1a27fdc588>, 'something': <gensim.models.keyedvectors.Vocab object at 0x1a27fdc5f8>, 'sees': <gensim.models.keyedvectors.Vocab object at 0x1a27fdc668>, 'produce': <gensim.models.keyedvectors.Vocab object at 0x1a27fdc6a0>, 'describes': <gensim.models.keyedvectors.Vocab object at 0x1a27fdc780>, 'outputs': <gensim.models.keyedvectors.Vocab object at 0x1a27fdc7b8>, 'predicts': <gensim.models.keyedvectors.Vocab object at 0x1a27fdc828>, 'viewed': <gensim.models.keyedvectors.Vocab object at 0x1a27fdc898>, 'possibly': <gensim.models.keyedvectors.Vocab object at 0x1a27fdc8d0>, 'spam': <gensim.models.keyedvectors.Vocab object at 0x1a27fdc908>, 'text': <gensim.models.keyedvectors.Vocab object at 0x1a27fdc978>, 'complexity': <gensim.models.keyedvectors.Vocab object at 0x1a27fdc9e8>, 'required': <gensim.models.keyedvectors.Vocab object at 0x1a27fdca58>, 'good': <gensim.models.keyedvectors.Vocab object at 0x1a27fdca90>, 'nlp': <gensim.models.keyedvectors.Vocab object at 0x1a27fdcac8>, 'read': <gensim.models.keyedvectors.Vocab object at 0x1a27fdcba8>, 'sufficiently': <gensim.models.keyedvectors.Vocab object at 0x1a27fdcc18>, 'enable': <gensim.models.keyedvectors.Vocab object at 0x1a27fdccf8>, 'translation': <gensim.models.keyedvectors.Vocab object at 0x1a27fdcd30>, 'occurrence': <gensim.models.keyedvectors.Vocab object at 0x1a27fdcd68>, 'dog': <gensim.models.keyedvectors.Vocab object at 0x1a27fdceb8>, 'document': <gensim.models.keyedvectors.Vocab object at 0x1a27fdcf28>, 'sentiment': <gensim.models.keyedvectors.Vocab object at 0x1a27fdcf60>, 'semantic': <gensim.models.keyedvectors.Vocab object at 0x1a27fdcf98>, 'full': <gensim.models.keyedvectors.Vocab object at 0x1a27ffc048>, 'generate': <gensim.models.keyedvectors.Vocab object at 0x1a27ffc080>, 'sensors': <gensim.models.keyedvectors.Vocab object at 0x1a27ffc0b8>, 'visible': <gensim.models.keyedvectors.Vocab object at 0x1a27ffc160>, 'spectrum': <gensim.models.keyedvectors.Vocab object at 0x1a27ffc208>, 'signals': <gensim.models.keyedvectors.Vocab object at 0x1a27ffc278>, 'active': <gensim.models.keyedvectors.Vocab object at 0x1a27ffc2b0>, 'aspects': <gensim.models.keyedvectors.Vocab object at 0x1a27ffc390>, 'facial': <gensim.models.keyedvectors.Vocab object at 0x1a27ffc3c8>, 'object': <gensim.models.keyedvectors.Vocab object at 0x1a27ffc400>, 'vision': <gensim.models.keyedvectors.Vocab object at 0x1a27ffc438>, 'fifty': <gensim.models.keyedvectors.Vocab object at 0x1a27ffc4a8>, 'meter': <gensim.models.keyedvectors.Vocab object at 0x1a27ffc588>, 'pedestrian': <gensim.models.keyedvectors.Vocab object at 0x1a27ffc5f8>, 'away': <gensim.models.keyedvectors.Vocab object at 0x1a27ffc748>, 'likelihood': <gensim.models.keyedvectors.Vocab object at 0x1a27ffc7b8>, 'advanced': <gensim.models.keyedvectors.Vocab object at 0x1a27ffc7f0>, 'robotic': <gensim.models.keyedvectors.Vocab object at 0x1a27ffc860>, 'industrial': <gensim.models.keyedvectors.Vocab object at 0x1a27ffc898>, 'robots': <gensim.models.keyedvectors.Vocab object at 0x1a27ffc908>, 'widely': <gensim.models.keyedvectors.Vocab object at 0x1a27ffc978>, 'robot': <gensim.models.keyedvectors.Vocab object at 0x1a27ffc9e8>, 'small': <gensim.models.keyedvectors.Vocab object at 0x1a27ffca58>, 'pose': <gensim.models.keyedvectors.Vocab object at 0x1a27ffca90>, 'movement': <gensim.models.keyedvectors.Vocab object at 0x1a27ffcb38>, 'individual': <gensim.models.keyedvectors.Vocab object at 0x1a27ffcb70>, 'moravec': <gensim.models.keyedvectors.Vocab object at 0x1a27ffcbe0>, 'paradox': <gensim.models.keyedvectors.Vocab object at 0x1a27ffcc18>, 'take': <gensim.models.keyedvectors.Vocab object at 0x1a27ffcc88>, 'named': <gensim.models.keyedvectors.Vocab object at 0x1a27ffccc0>, 'hans': <gensim.models.keyedvectors.Vocab object at 0x1a27ffccf8>, 'stated': <gensim.models.keyedvectors.Vocab object at 0x1a27ffcd30>, 'easy': <gensim.models.keyedvectors.Vocab object at 0x1a27ffcd68>, 'exhibit': <gensim.models.keyedvectors.Vocab object at 0x1a27ffcdd8>, 'performance': <gensim.models.keyedvectors.Vocab object at 0x1a27ffcf28>, 'impossible': <gensim.models.keyedvectors.Vocab object at 0x1a27ffcfd0>, 'give': <gensim.models.keyedvectors.Vocab object at 0x1a27ffd048>, 'old': <gensim.models.keyedvectors.Vocab object at 0x1a27ffd080>, 'autonomous': <gensim.models.keyedvectors.Vocab object at 0x1a27ffd0b8>, 'vehicles': <gensim.models.keyedvectors.Vocab object at 0x1a27ffd160>, 'affective': <gensim.models.keyedvectors.Vocab object at 0x1a27ffd208>, 'affects': <gensim.models.keyedvectors.Vocab object at 0x1a27ffd2b0>, 'successes': <gensim.models.keyedvectors.Vocab object at 0x1a27ffd2e8>, 'related': <gensim.models.keyedvectors.Vocab object at 0x1a27ffd358>, 'analysis': <gensim.models.keyedvectors.Vocab object at 0x1a27ffd390>, 'recently': <gensim.models.keyedvectors.Vocab object at 0x1a27ffd3c8>, 'multimodal': <gensim.models.keyedvectors.Vocab object at 0x1a27ffd400>, 'wherein': <gensim.models.keyedvectors.Vocab object at 0x1a27ffd470>, 'classifies': <gensim.models.keyedvectors.Vocab object at 0x1a27ffd4a8>, 'subject': <gensim.models.keyedvectors.Vocab object at 0x1a27ffd4e0>, 'emotion': <gensim.models.keyedvectors.Vocab object at 0x1a27ffd550>, 'valuable': <gensim.models.keyedvectors.Vocab object at 0x1a27ffd5c0>, 'predict': <gensim.models.keyedvectors.Vocab object at 0x1a27ffd5f8>, 'emotional': <gensim.models.keyedvectors.Vocab object at 0x1a27ffd630>, 'allow': <gensim.models.keyedvectors.Vocab object at 0x1a27ffd668>, 'decisions': <gensim.models.keyedvectors.Vocab object at 0x1a27ffd6a0>, 'interaction': <gensim.models.keyedvectors.Vocab object at 0x1a27ffd6d8>, 'users': <gensim.models.keyedvectors.Vocab object at 0x1a27ffd780>, 'actually': <gensim.models.keyedvectors.Vocab object at 0x1a27ffd898>, 'cyc': <gensim.models.keyedvectors.Vocab object at 0x1a27ffd908>, 'massive': <gensim.models.keyedvectors.Vocab object at 0x1a27ffd940>, 'attempted': <gensim.models.keyedvectors.Vocab object at 0x1a27ffd978>, 'cognition': <gensim.models.keyedvectors.Vocab object at 0x1a27ffd9b0>, 'limitations': <gensim.models.keyedvectors.Vocab object at 0x1a27ffda90>, 'cross': <gensim.models.keyedvectors.Vocab object at 0x1a27ffdac8>, 'nowadays': <gensim.models.keyedvectors.Vocab object at 0x1a27ffdb00>, 'eventually': <gensim.models.keyedvectors.Vocab object at 0x1a27ffdb38>, 'article': <gensim.models.keyedvectors.Vocab object at 0x1a27ffdba8>, 'point': <gensim.models.keyedvectors.Vocab object at 0x1a27ffdc50>, 'profile': <gensim.models.keyedvectors.Vocab object at 0x1a27ffdcc0>, 'deepmind': <gensim.models.keyedvectors.Vocab object at 0x1a27ffdcf8>, 'hypothetical': <gensim.models.keyedvectors.Vocab object at 0x1a27ffdda0>, 'argue': <gensim.models.keyedvectors.Vocab object at 0x1a27ffde10>, 'kind': <gensim.models.keyedvectors.Vocab object at 0x1a27ffdeb8>, 'currently': <gensim.models.keyedvectors.Vocab object at 0x1a27ffdef0>, 'look': <gensim.models.keyedvectors.Vocab object at 0x1a27ffdf98>, 'closely': <gensim.models.keyedvectors.Vocab object at 0x1a27ffdfd0>, 'reach': <gensim.models.keyedvectors.Vocab object at 0x1a27fff048>, 'author': <gensim.models.keyedvectors.Vocab object at 0x1a27fff128>, 'argument': <gensim.models.keyedvectors.Vocab object at 0x1a27fff160>, 'order': <gensim.models.keyedvectors.Vocab object at 0x1a27fff1d0>, 'questions': <gensim.models.keyedvectors.Vocab object at 0x1a27fff240>, 'biology': <gensim.models.keyedvectors.Vocab object at 0x1a27fff278>, 'principles': <gensim.models.keyedvectors.Vocab object at 0x1a27fff320>, 'necessarily': <gensim.models.keyedvectors.Vocab object at 0x1a27fff358>, 'grey': <gensim.models.keyedvectors.Vocab object at 0x1a27fff400>, 'society': <gensim.models.keyedvectors.Vocab object at 0x1a27fff4a8>, 'university': <gensim.models.keyedvectors.Vocab object at 0x1a27fff518>, 'largely': <gensim.models.keyedvectors.Vocab object at 0x1a27fff550>, 'abandoned': <gensim.models.keyedvectors.Vocab object at 0x1a27fff5f8>, 'although': <gensim.models.keyedvectors.Vocab object at 0x1a27fff6a0>, 'centered': <gensim.models.keyedvectors.Vocab object at 0x1a27fff6d8>, 'carnegie': <gensim.models.keyedvectors.Vocab object at 0x1a27fff710>, 'mellon': <gensim.models.keyedvectors.Vocab object at 0x1a27fff748>, 'stanford': <gensim.models.keyedvectors.Vocab object at 0x1a27fff780>, 'gofai': <gensim.models.keyedvectors.Vocab object at 0x1a27fff7f0>, 'thinking': <gensim.models.keyedvectors.Vocab object at 0x1a27fff828>, 'economist': <gensim.models.keyedvectors.Vocab object at 0x1a27fff898>, 'studied': <gensim.models.keyedvectors.Vocab object at 0x1a27fff8d0>, 'results': <gensim.models.keyedvectors.Vocab object at 0x1a27fff908>, 'experiments': <gensim.models.keyedvectors.Vocab object at 0x1a27fff9b0>, 'develop': <gensim.models.keyedvectors.Vocab object at 0x1a27fff9e8>, 'architecture': <gensim.models.keyedvectors.Vocab object at 0x1a27fffa90>, 'try': <gensim.models.keyedvectors.Vocab object at 0x1a27fffb00>, 'focused': <gensim.models.keyedvectors.Vocab object at 0x1a27fffb38>, 'variety': <gensim.models.keyedvectors.Vocab object at 0x1a27fffba8>, 'programming': <gensim.models.keyedvectors.Vocab object at 0x1a27fffc18>, 'found': <gensim.models.keyedvectors.Vocab object at 0x1a27fffc88>, 'ad': <gensim.models.keyedvectors.Vocab object at 0x1a27fffcc0>, 'hoc': <gensim.models.keyedvectors.Vocab object at 0x1a27fffcf8>, 'solutions': <gensim.models.keyedvectors.Vocab object at 0x1a27fffda0>, 'argued': <gensim.models.keyedvectors.Vocab object at 0x1a27fffe48>, 'scruffy': <gensim.models.keyedvectors.Vocab object at 0x1a27fffe80>, 'complicated': <gensim.models.keyedvectors.Vocab object at 0x1a27fffeb8>, 'revolution': <gensim.models.keyedvectors.Vocab object at 0x1a27fffef0>, 'introduced': <gensim.models.keyedvectors.Vocab object at 0x1a27ffff28>, 'edward': <gensim.models.keyedvectors.Vocab object at 0x1a27ffff60>, 'key': <gensim.models.keyedvectors.Vocab object at 0x1a27ffff98>, 'illustrate': <gensim.models.keyedvectors.Vocab object at 0x1a28000048>, 'never': <gensim.models.keyedvectors.Vocab object at 0x1a28000128>, 'manage': <gensim.models.keyedvectors.Vocab object at 0x1a280001d0>, 'embodied': <gensim.models.keyedvectors.Vocab object at 0x1a28000208>, 'rodney': <gensim.models.keyedvectors.Vocab object at 0x1a28000240>, 'brooks': <gensim.models.keyedvectors.Vocab object at 0x1a280002b0>, 'view': <gensim.models.keyedvectors.Vocab object at 0x1a28000320>, 'control': <gensim.models.keyedvectors.Vocab object at 0x1a28000358>, 'idea': <gensim.models.keyedvectors.Vocab object at 0x1a280003c8>, 'higher': <gensim.models.keyedvectors.Vocab object at 0x1a280004e0>, 'developmental': <gensim.models.keyedvectors.Vocab object at 0x1a28000518>, 'novel': <gensim.models.keyedvectors.Vocab object at 0x1a280005f8>, 'david': <gensim.models.keyedvectors.Vocab object at 0x1a280006a0>, 'soft': <gensim.models.keyedvectors.Vocab object at 0x1a280006d8>, 'solution': <gensim.models.keyedvectors.Vocab object at 0x1a28000748>, 'emerging': <gensim.models.keyedvectors.Vocab object at 0x1a28000780>, 'hmm': <gensim.models.keyedvectors.Vocab object at 0x1a280007b8>, 'shared': <gensim.models.keyedvectors.Vocab object at 0x1a28000828>, 'gaining': <gensim.models.keyedvectors.Vocab object at 0x1a28000898>, 'acquiring': <gensim.models.keyedvectors.Vocab object at 0x1a280008d0>, 'broader': <gensim.models.keyedvectors.Vocab object at 0x1a28000908>, 'sometimes': <gensim.models.keyedvectors.Vocab object at 0x1a28000940>, 'critics': <gensim.models.keyedvectors.Vocab object at 0x1a28000978>, 'shift': <gensim.models.keyedvectors.Vocab object at 0x1a280009b0>, 'necessary': <gensim.models.keyedvectors.Vocab object at 0x1a28000a58>, 'intellectual': <gensim.models.keyedvectors.Vocab object at 0x1a28000b70>, 'numerous': <gensim.models.keyedvectors.Vocab object at 0x1a28000ba8>, 'list': <gensim.models.keyedvectors.Vocab object at 0x1a28000c18>, 'drones': <gensim.models.keyedvectors.Vocab object at 0x1a28000c50>, 'online': <gensim.models.keyedvectors.Vocab object at 0x1a28000c88>, 'media': <gensim.models.keyedvectors.Vocab object at 0x1a28000cc0>, 'source': <gensim.models.keyedvectors.Vocab object at 0x1a28000d68>, 'news': <gensim.models.keyedvectors.Vocab object at 0x1a28000da0>, 'organizations': <gensim.models.keyedvectors.Vocab object at 0x1a28000dd8>, 'stories': <gensim.models.keyedvectors.Vocab object at 0x1a28000e10>, 'deepfakes': <gensim.models.keyedvectors.Vocab object at 0x1a28000e48>, 'occur': <gensim.models.keyedvectors.Vocab object at 0x1a28000e80>, 'cause': <gensim.models.keyedvectors.Vocab object at 0x1a28000ef0>, 'harm': <gensim.models.keyedvectors.Vocab object at 0x1a28000f28>, 'public': <gensim.models.keyedvectors.Vocab object at 0x1a28000f98>, 'potential': <gensim.models.keyedvectors.Vocab object at 0x1a28000fd0>, 'prevent': <gensim.models.keyedvectors.Vocab object at 0x1a28002080>, 'minimize': <gensim.models.keyedvectors.Vocab object at 0x1a28002128>, 'risks': <gensim.models.keyedvectors.Vocab object at 0x1a28002198>, 'ethical': <gensim.models.keyedvectors.Vocab object at 0x1a280021d0>, 'policy': <gensim.models.keyedvectors.Vocab object at 0x1a28002208>, 'making': <gensim.models.keyedvectors.Vocab object at 0x1a28002240>, 'policies': <gensim.models.keyedvectors.Vocab object at 0x1a28002278>, 'moral': <gensim.models.keyedvectors.Vocab object at 0x1a280022e8>, 'friendly': <gensim.models.keyedvectors.Vocab object at 0x1a280023c8>, 'discussion': <gensim.models.keyedvectors.Vocab object at 0x1a28002438>, 'towards': <gensim.models.keyedvectors.Vocab object at 0x1a280024a8>, 'rights': <gensim.models.keyedvectors.Vocab object at 0x1a280024e0>, 'weizenbaum': <gensim.models.keyedvectors.Vocab object at 0x1a28002518>, 'j': <gensim.models.keyedvectors.Vocab object at 0x1a28002588>, 'misguided': <gensim.models.keyedvectors.Vocab object at 0x1a280025f8>, 'position': <gensim.models.keyedvectors.Vocab object at 0x1a28002668>, 'computationalism': <gensim.models.keyedvectors.Vocab object at 0x1a280026a0>, 'wallach': <gensim.models.keyedvectors.Vocab object at 0x1a28002710>, 'amas': <gensim.models.keyedvectors.Vocab object at 0x1a28002780>, 'landscape': <gensim.models.keyedvectors.Vocab object at 0x1a28002828>, 'identifies': <gensim.models.keyedvectors.Vocab object at 0x1a28002898>, 'want': <gensim.models.keyedvectors.Vocab object at 0x1a28002908>, 'issue': <gensim.models.keyedvectors.Vocab object at 0x1a28002940>, 'place': <gensim.models.keyedvectors.Vocab object at 0x1a280029e8>, 'concerned': <gensim.models.keyedvectors.Vocab object at 0x1a28002a20>, 'giving': <gensim.models.keyedvectors.Vocab object at 0x1a28002a90>, 'enabling': <gensim.models.keyedvectors.Vocab object at 0x1a28002ac8>, 'responsible': <gensim.models.keyedvectors.Vocab object at 0x1a28002b00>, 'aaai': <gensim.models.keyedvectors.Vocab object at 0x1a28002ba8>, 'symposium': <gensim.models.keyedvectors.Vocab object at 0x1a28002be0>, 'concerning': <gensim.models.keyedvectors.Vocab object at 0x1a28002c50>, 'treat': <gensim.models.keyedvectors.Vocab object at 0x1a28002cc0>, 'dimension': <gensim.models.keyedvectors.Vocab object at 0x1a28002d68>, 'involving': <gensim.models.keyedvectors.Vocab object at 0x1a28002da0>, 'recent': <gensim.models.keyedvectors.Vocab object at 0x1a28002e10>, 'contrast': <gensim.models.keyedvectors.Vocab object at 0x1a28002e48>, 'concerns': <gensim.models.keyedvectors.Vocab object at 0x1a28002e80>, 'referred': <gensim.models.keyedvectors.Vocab object at 0x1a28002ef0>, 'morality': <gensim.models.keyedvectors.Vocab object at 0x1a28002f28>, 'stems': <gensim.models.keyedvectors.Vocab object at 0x1a28002f98>, 'believes': <gensim.models.keyedvectors.Vocab object at 0x1a280030f0>, 'argues': <gensim.models.keyedvectors.Vocab object at 0x1a28003128>, 'ais': <gensim.models.keyedvectors.Vocab object at 0x1a280031d0>, 'civilization': <gensim.models.keyedvectors.Vocab object at 0x1a28003208>, 'earth': <gensim.models.keyedvectors.Vocab object at 0x1a280032b0>, 'researcher': <gensim.models.keyedvectors.Vocab object at 0x1a28003320>, 'think': <gensim.models.keyedvectors.Vocab object at 0x1a28003358>, 'developing': <gensim.models.keyedvectors.Vocab object at 0x1a28003390>, 'worry': <gensim.models.keyedvectors.Vocab object at 0x1a28003400>, 'sentient': <gensim.models.keyedvectors.Vocab object at 0x1a28003438>, 'lethal': <gensim.models.keyedvectors.Vocab object at 0x1a28003470>, 'weapons': <gensim.models.keyedvectors.Vocab object at 0x1a280034a8>, 'researching': <gensim.models.keyedvectors.Vocab object at 0x1a28003518>, 'united': <gensim.models.keyedvectors.Vocab object at 0x1a28003588>, 'superintelligent': <gensim.models.keyedvectors.Vocab object at 0x1a280035c0>, 'nature': <gensim.models.keyedvectors.Vocab object at 0x1a280035f8>, 'hard': <gensim.models.keyedvectors.Vocab object at 0x1a28003668>, 'explaining': <gensim.models.keyedvectors.Vocab object at 0x1a280037b8>, 'feel': <gensim.models.keyedvectors.Vocab object at 0x1a280037f0>, 'explain': <gensim.models.keyedvectors.Vocab object at 0x1a28003860>, 'subjective': <gensim.models.keyedvectors.Vocab object at 0x1a28003908>, 'swatch': <gensim.models.keyedvectors.Vocab object at 0x1a28003978>, 'red': <gensim.models.keyedvectors.Vocab object at 0x1a280039b0>, 'looks': <gensim.models.keyedvectors.Vocab object at 0x1a28003a20>, 'k': <gensim.models.keyedvectors.Vocab object at 0x1a28003a58>, 'day': <gensim.models.keyedvectors.Vocab object at 0x1a28003a90>, 'creates': <gensim.models.keyedvectors.Vocab object at 0x1a28003ba8>, 'scientists': <gensim.models.keyedvectors.Vocab object at 0x1a28003be0>, 'searle': <gensim.models.keyedvectors.Vocab object at 0x1a28003c18>, 'created': <gensim.models.keyedvectors.Vocab object at 0x1a28003c50>, 'institute': <gensim.models.keyedvectors.Vocab object at 0x1a28003cf8>, 'transhumanism': <gensim.models.keyedvectors.Vocab object at 0x1a28003da0>, 'superintelligence': <gensim.models.keyedvectors.Vocab object at 0x1a28003e10>, 'improving': <gensim.models.keyedvectors.Vocab object at 0x1a28003e48>, 'improvement': <gensim.models.keyedvectors.Vocab object at 0x1a28003ef0>, 'scenario': <gensim.models.keyedvectors.Vocab object at 0x1a28003f98>, 'singularity': <gensim.models.keyedvectors.Vocab object at 0x1a280040f0>, 'technologies': <gensim.models.keyedvectors.Vocab object at 0x1a28004160>, 'ray': <gensim.models.keyedvectors.Vocab object at 0x1a28004198>, 'kurzweil': <gensim.models.keyedvectors.Vocab object at 0x1a28004240>, 'either': <gensim.models.keyedvectors.Vocab object at 0x1a280042b0>, 'evolution': <gensim.models.keyedvectors.Vocab object at 0x1a28004390>, 'george': <gensim.models.keyedvectors.Vocab object at 0x1a28004400>, 'name': <gensim.models.keyedvectors.Vocab object at 0x1a28004470>, 'economic': <gensim.models.keyedvectors.Vocab object at 0x1a280044a8>, 'economists': <gensim.models.keyedvectors.Vocab object at 0x1a280044e0>, 'european': <gensim.models.keyedvectors.Vocab object at 0x1a28004550>, 'union': <gensim.models.keyedvectors.Vocab object at 0x1a280045c0>, 'white': <gensim.models.keyedvectors.Vocab object at 0x1a28004630>, 'healthcare': <gensim.models.keyedvectors.Vocab object at 0x1a28004668>, 'efficiency': <gensim.models.keyedvectors.Vocab object at 0x1a280046d8>, 'automation': <gensim.models.keyedvectors.Vocab object at 0x1a28004710>, 'employment': <gensim.models.keyedvectors.Vocab object at 0x1a28004748>, 'jobs': <gensim.models.keyedvectors.Vocab object at 0x1a280047b8>, 'collar': <gensim.models.keyedvectors.Vocab object at 0x1a28004828>, 'worth': <gensim.models.keyedvectors.Vocab object at 0x1a280048d0>, 'job': <gensim.models.keyedvectors.Vocab object at 0x1a28004940>, 'ford': <gensim.models.keyedvectors.Vocab object at 0x1a28004978>, 'expressed': <gensim.models.keyedvectors.Vocab object at 0x1a28004a90>, 'dangerous': <gensim.models.keyedvectors.Vocab object at 0x1a28004ac8>, 'laws': <gensim.models.keyedvectors.Vocab object at 0x1a28004b00>, 'security': <gensim.models.keyedvectors.Vocab object at 0x1a28004ba8>, 'bias': <gensim.models.keyedvectors.Vocab object at 0x1a28004be0>, 'compas': <gensim.models.keyedvectors.Vocab object at 0x1a28004c18>, 'assigned': <gensim.models.keyedvectors.Vocab object at 0x1a28004cc0>, 'defendants': <gensim.models.keyedvectors.Vocab object at 0x1a28004da0>, 'hawking': <gensim.models.keyedvectors.Vocab object at 0x1a28004dd8>, 'founder': <gensim.models.keyedvectors.Vocab object at 0x1a28004e80>, 'musk': <gensim.models.keyedvectors.Vocab object at 0x1a28004ef0>, 'spell': <gensim.models.keyedvectors.Vocab object at 0x1a28004f28>, 'end': <gensim.models.keyedvectors.Vocab object at 0x1a28005080>, 'race': <gensim.models.keyedvectors.Vocab object at 0x1a280050b8>, 'bostrom': <gensim.models.keyedvectors.Vocab object at 0x1a28005208>, 'threat': <gensim.models.keyedvectors.Vocab object at 0x1a28005278>, 'resources': <gensim.models.keyedvectors.Vocab object at 0x1a280052b0>, 'shut': <gensim.models.keyedvectors.Vocab object at 0x1a28005320>, 'fully': <gensim.models.keyedvectors.Vocab object at 0x1a28005358>, 'smile': <gensim.models.keyedvectors.Vocab object at 0x1a28005390>, 'prominent': <gensim.models.keyedvectors.Vocab object at 0x1a28005400>, 'ceo': <gensim.models.keyedvectors.Vocab object at 0x1a28005438>, 'mark': <gensim.models.keyedvectors.Vocab object at 0x1a280054a8>, 'realized': <gensim.models.keyedvectors.Vocab object at 0x1a28005518>, 'regulation': <gensim.models.keyedvectors.Vocab object at 0x1a28005588>, 'culture': <gensim.models.keyedvectors.Vocab object at 0x1a280055c0>, 'asimov': <gensim.models.keyedvectors.Vocab object at 0x1a280055f8>, 'series': <gensim.models.keyedvectors.Vocab object at 0x1a28005630>, 'sorayama': <gensim.models.keyedvectors.Vocab object at 0x1a280056a0>, 'actual': <gensim.models.keyedvectors.Vocab object at 0x1a28005710>, 'organic': <gensim.models.keyedvectors.Vocab object at 0x1a280057b8>, 'dick': <gensim.models.keyedvectors.Vocab object at 0x1a28005860>}\n"
     ]
    }
   ],
   "source": [
    "vocabulary = word2vec.wv.vocab\n",
    "print(vocabulary)"
   ]
  },
  {
   "cell_type": "markdown",
   "metadata": {},
   "source": [
    "Model Analysis\n",
    "We successfully created our Word2Vec model in the last section. Now is the time to explore what we created.\n",
    "\n",
    "Finding Vectors for a Word\n",
    "We know that the Word2Vec model converts words to their corresponding vectors. Let's see how we can view vector representation of any particular word.\n",
    "\n"
   ]
  },
  {
   "cell_type": "code",
   "execution_count": 28,
   "metadata": {},
   "outputs": [],
   "source": [
    "v1 = word2vec.wv['artificial']"
   ]
  },
  {
   "cell_type": "code",
   "execution_count": 29,
   "metadata": {},
   "outputs": [
    {
     "data": {
      "text/plain": [
       "array([ 1.2493937e-03, -1.2166664e-03, -7.4631865e-03,  1.7732327e-03,\n",
       "       -4.6685245e-03, -4.3577007e-03,  2.2938531e-03,  8.1882603e-04,\n",
       "       -3.5220133e-03,  1.7657450e-03,  5.9760157e-03, -2.4493030e-04,\n",
       "        3.0212461e-03, -1.3420981e-04, -7.1675668e-04, -4.4562593e-03,\n",
       "       -3.6292786e-03,  4.8998413e-03, -1.9261730e-03, -2.8074374e-03,\n",
       "        4.4064377e-03, -3.0444984e-03,  2.9396345e-03,  4.4559315e-03,\n",
       "        4.7504017e-03,  4.0372708e-03,  7.4511586e-04,  4.5492533e-03,\n",
       "        1.9573134e-03, -3.3466902e-04, -2.8049613e-03,  1.9703961e-03,\n",
       "        1.6642615e-03,  1.7965650e-03,  4.2147906e-03,  4.5001172e-03,\n",
       "        3.0271686e-03,  1.9131000e-04,  3.5807262e-03,  2.1388675e-03,\n",
       "        4.7127879e-03, -6.4447923e-03, -7.3403930e-03,  6.3865584e-05,\n",
       "       -7.2899117e-04,  3.4559933e-03, -5.2126581e-03,  2.8833644e-03,\n",
       "        1.4580491e-03, -2.3782311e-03, -3.2114158e-03,  4.4545536e-03,\n",
       "        3.4931924e-03,  6.1871568e-03,  2.1451657e-05,  1.4659114e-03,\n",
       "        2.9652370e-03,  2.4923426e-03,  2.4879812e-03,  1.6150005e-03,\n",
       "       -6.7416742e-04, -6.9816387e-04, -1.8354686e-03,  3.3063733e-03,\n",
       "        1.8079744e-03,  4.6151172e-04,  1.6878397e-03,  5.5000716e-04,\n",
       "        4.5674485e-03,  3.3423828e-03, -2.9379393e-03, -3.2724254e-03,\n",
       "        2.5254025e-04,  2.9065234e-03,  1.0367201e-03,  2.0966612e-04,\n",
       "        5.5820090e-03, -1.4499965e-03,  5.9286449e-03, -1.9537059e-03,\n",
       "       -3.1287593e-03, -3.1402961e-03, -3.1044520e-03,  9.0401084e-04,\n",
       "        4.9685850e-03, -4.5712283e-03,  3.6452063e-03, -2.8892004e-04,\n",
       "       -1.4763157e-04, -3.3258393e-03,  2.3382343e-03,  1.4052026e-03,\n",
       "        3.1843160e-03,  1.7366055e-03,  1.9747464e-03, -3.3009178e-03,\n",
       "        5.2364757e-03,  3.8362041e-03,  4.8111170e-03,  3.0972853e-03],\n",
       "      dtype=float32)"
      ]
     },
     "execution_count": 29,
     "metadata": {},
     "output_type": "execute_result"
    }
   ],
   "source": [
    "v1"
   ]
  },
  {
   "cell_type": "markdown",
   "metadata": {},
   "source": [
    "The vector v1 contains the vector representation for the word \"artificial\". By default, a hundred dimensional vector is created by Gensim Word2Vec. This is a much, much smaller vector as compared to what would have been produced by bag of words. If we use the bag of words approach for embedding the article, the length of the vector for each will be 1206 since there are 1206 unique words with a minimum frequency of 2. If the minimum frequency of occurrence is set to 1, the size of the bag of words vector will further increase. On the other hand, vectors generated through Word2Vec are not affected by the size of the vocabulary."
   ]
  },
  {
   "cell_type": "markdown",
   "metadata": {},
   "source": [
    "Finding Similar Words\n",
    "Earlier we said that contextual information of the words is not lost using Word2Vec approach. We can verify this by finding all the words similar to the word \"intelligence\".\n",
    "\n",
    "Take a look at the following script:"
   ]
  },
  {
   "cell_type": "code",
   "execution_count": 33,
   "metadata": {},
   "outputs": [],
   "source": [
    "sim_words = word2vec.wv.most_similar('artificial')"
   ]
  },
  {
   "cell_type": "markdown",
   "metadata": {},
   "source": [
    "If you print the sim_words variable to the console, you will see the words most similar to \"intelligence\" as shown below:"
   ]
  },
  {
   "cell_type": "code",
   "execution_count": 34,
   "metadata": {},
   "outputs": [
    {
     "name": "stdout",
     "output_type": "stream",
     "text": [
      "[('using', 0.4450381100177765), ('intelligence', 0.3898499608039856), ('large', 0.37819260358810425), ('symbolic', 0.357125461101532), ('described', 0.3553183674812317), ('may', 0.3547240197658539), ('general', 0.3508750796318054), ('could', 0.34268510341644287), ('humans', 0.334598183631897), ('researchers', 0.325096070766449)]\n"
     ]
    }
   ],
   "source": [
    "print(sim_words)"
   ]
  },
  {
   "cell_type": "code",
   "execution_count": null,
   "metadata": {},
   "outputs": [],
   "source": []
  }
 ],
 "metadata": {
  "kernelspec": {
   "display_name": "Python 3",
   "language": "python",
   "name": "python3"
  },
  "language_info": {
   "codemirror_mode": {
    "name": "ipython",
    "version": 3
   },
   "file_extension": ".py",
   "mimetype": "text/x-python",
   "name": "python",
   "nbconvert_exporter": "python",
   "pygments_lexer": "ipython3",
   "version": "3.8.3"
  }
 },
 "nbformat": 4,
 "nbformat_minor": 1
}
